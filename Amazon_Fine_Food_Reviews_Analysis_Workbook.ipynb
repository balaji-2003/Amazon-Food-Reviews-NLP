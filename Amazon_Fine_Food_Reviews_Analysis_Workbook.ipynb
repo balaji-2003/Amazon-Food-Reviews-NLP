{
 "cells": [
  {
   "cell_type": "markdown",
   "metadata": {
    "id": "X-cp_kAxCAY2"
   },
   "source": [
    "<div class=\"alert\" style=\"background-color:#fff; color:white; padding:0px 10px; border-radius:5px;\"><h1 style='margin:15px 15px; color:#006a79; font-size:40px'> Amazon Product Reviews - NLP Analysis</h1>\n",
    "</div>\n",
    "\n",
    "__Problem Statement__\n",
    "\n",
    "The Amazon product reviews [dataset](https://nijianmo.github.io/amazon/) contains data on reviews of products across multiple categories. We want to bring structure to this, perform NLP analysis, create features, then given a text review and metadata, predict if the sentiment is +ve or -ve.\n",
    "\n",
    "__Data Source:__ \n",
    "\n",
    "https://nijianmo.github.io/amazon/ <br>\n",
    "\n",
    "Since the number of categories is pretty large we do this analysis for a smaller subset. The principles we observe here applies to all the other categories as well.\n",
    "\n",
    "The full collection of datasets is available for download in compressed `.gz` format from the above link. Each contains the following information.\n",
    "\n",
    "\n",
    "__Attribute Information:__\n",
    "\n",
    "1. __overall:__ Overall rating given by the user for the given product.\n",
    "2. __verified:__ Was the review / rating verified\n",
    "3. __reviewTime:__ Time of review\n",
    "4. __reviewerID:__ User id of the reviewer\n",
    "5. __asin:__ Amazon standard identificaton number unique to a product.\n",
    "6. __style:__ A product attribute\n",
    "7. __reviewerName:__ Name of reviewer\n",
    "8. __reviewText:__ The actual review text written by the user.\n",
    "9. __summary:__ Review summary written by the user\n",
    "10. __unixReviewTime:__ Review time as a unix time stamp\n",
    "11. __vote:__ Number of votes\n",
    "12. __image:__ The product image data if available.\n",
    "\n",
    "\n",
    "__Q: How to determine if a review is positive or negative?__\n",
    "\n",
    "Use the `overall` score. \n",
    "\n",
    "A rating of 4 or 5 could be cosnidered a positive review. A review of 1 or 2 could be considered negative. A review of 3 is neutral. \n",
    "\n",
    "Alternately, depending on business judgement, you might still want to consider the 3 rating as positive, if the majority of customer is really not having worrying complaints about the product.\n",
    "\n",
    "\n"
   ]
  },
  {
   "cell_type": "markdown",
   "metadata": {
    "id": "WHC_UQTuCAY4"
   },
   "source": [
    "<div class=\"alert alert-info\" style=\"background-color:#006a79; color:white; padding:0px 10px; border-radius:5px;\"><h2 style='margin:10px 5px'>1. Setup Packages</h2>\n",
    "</div>"
   ]
  },
  {
   "cell_type": "code",
   "execution_count": 1,
   "metadata": {
    "id": "PvDdRsHgCAY5"
   },
   "outputs": [
    {
     "name": "stdout",
     "output_type": "stream",
     "text": [
      "matplotlib:  3.5.1\n",
      "nltk:  3.7\n",
      "Gensim:  4.2.0\n"
     ]
    }
   ],
   "source": [
    "import pandas as pd\n",
    "import numpy as np\n",
    "import matplotlib; print(\"matplotlib: \", matplotlib.__version__)\n",
    "import matplotlib.pyplot as plt\n",
    "import seaborn as sns\n",
    "\n",
    "# sklearn\n",
    "from sklearn.feature_extraction.text import TfidfTransformer\n",
    "from sklearn.feature_extraction.text import TfidfVectorizer\n",
    "from sklearn.feature_extraction.text import CountVectorizer\n",
    "from sklearn.metrics import confusion_matrix\n",
    "from sklearn import metrics\n",
    "from sklearn.metrics import roc_curve, auc\n",
    "\n",
    "# NLP\n",
    "import re\n",
    "import nltk\n",
    "import string\n",
    "import nltk; print(\"nltk: \", nltk.__version__)\n",
    "from nltk.stem.porter import PorterStemmer\n",
    "from nltk.corpus import stopwords\n",
    "from nltk.stem import PorterStemmer\n",
    "from nltk.stem.wordnet import WordNetLemmatizer\n",
    "import gensim; print(\"Gensim: \", gensim.__version__)\n",
    "from gensim.models import Word2Vec\n",
    "from gensim.models import KeyedVectors\n",
    "import pickle, os, sys, json, warnings\n",
    "\n",
    "%matplotlib inline\n",
    "warnings.filterwarnings(\"ignore\")"
   ]
  },
  {
   "cell_type": "markdown",
   "metadata": {
    "id": "QOI7X2YgCAY_"
   },
   "source": [
    "<div class=\"alert alert-info\" style=\"background-color:#006a79; color:white; padding:0px 10px; border-radius:5px;\"><h2 style='margin:10px 5px'>2. Load data and fix the scores</h2>\n",
    "</div>"
   ]
  },
  {
   "cell_type": "code",
   "execution_count": 2,
   "metadata": {},
   "outputs": [],
   "source": [
    "import pandas as pd\n",
    "import gzip\n",
    "\n",
    "def parse(path):\n",
    "    g = gzip.open(path, 'rb')\n",
    "    for l in g:\n",
    "        yield json.loads(l)\n",
    "\n",
    "def getDF(path):\n",
    "    i = 0\n",
    "    df = {}\n",
    "    for d in parse(path):\n",
    "        df[i] = d\n",
    "        i += 1\n",
    "    return pd.DataFrame.from_dict(df, orient='index')"
   ]
  },
  {
   "cell_type": "markdown",
   "metadata": {},
   "source": [
    "__Read Data and Concatenate__"
   ]
  },
  {
   "cell_type": "code",
   "execution_count": 3,
   "metadata": {},
   "outputs": [
    {
     "data": {
      "text/plain": [
       "(10722, 12)"
      ]
     },
     "execution_count": 3,
     "metadata": {},
     "output_type": "execute_result"
    }
   ],
   "source": [
    "df_a = getDF('Dataset/Appliances_5.json.gz')\n",
    "df_b = getDF('Dataset/All_Beauty_5.json.gz')\n",
    "df_c = getDF('Dataset/AMAZON_FASHION_5.json.gz')\n",
    "\n",
    "df = pd.concat([df_a, df_b, df_c])\n",
    "df.shape"
   ]
  },
  {
   "cell_type": "code",
   "execution_count": 4,
   "metadata": {},
   "outputs": [
    {
     "data": {
      "text/html": [
       "<div>\n",
       "<style scoped>\n",
       "    .dataframe tbody tr th:only-of-type {\n",
       "        vertical-align: middle;\n",
       "    }\n",
       "\n",
       "    .dataframe tbody tr th {\n",
       "        vertical-align: top;\n",
       "    }\n",
       "\n",
       "    .dataframe thead th {\n",
       "        text-align: right;\n",
       "    }\n",
       "</style>\n",
       "<table border=\"1\" class=\"dataframe\">\n",
       "  <thead>\n",
       "    <tr style=\"text-align: right;\">\n",
       "      <th></th>\n",
       "      <th>overall</th>\n",
       "      <th>verified</th>\n",
       "      <th>reviewTime</th>\n",
       "      <th>reviewerID</th>\n",
       "      <th>asin</th>\n",
       "      <th>style</th>\n",
       "      <th>reviewerName</th>\n",
       "      <th>reviewText</th>\n",
       "      <th>summary</th>\n",
       "      <th>unixReviewTime</th>\n",
       "      <th>vote</th>\n",
       "      <th>image</th>\n",
       "    </tr>\n",
       "  </thead>\n",
       "  <tbody>\n",
       "    <tr>\n",
       "      <th>0</th>\n",
       "      <td>5.0</td>\n",
       "      <td>True</td>\n",
       "      <td>08 22, 2013</td>\n",
       "      <td>A34A1UP40713F8</td>\n",
       "      <td>B00009W3I4</td>\n",
       "      <td>{'Style:': ' Dryer Vent'}</td>\n",
       "      <td>James. Backus</td>\n",
       "      <td>I like this as a vent as well as something tha...</td>\n",
       "      <td>Great product</td>\n",
       "      <td>1377129600</td>\n",
       "      <td>NaN</td>\n",
       "      <td>NaN</td>\n",
       "    </tr>\n",
       "    <tr>\n",
       "      <th>1</th>\n",
       "      <td>5.0</td>\n",
       "      <td>True</td>\n",
       "      <td>02 8, 2016</td>\n",
       "      <td>A1AHW6I678O6F2</td>\n",
       "      <td>B00009W3PA</td>\n",
       "      <td>{'Size:': ' 6-Foot'}</td>\n",
       "      <td>kevin.</td>\n",
       "      <td>good item</td>\n",
       "      <td>Five Stars</td>\n",
       "      <td>1454889600</td>\n",
       "      <td>NaN</td>\n",
       "      <td>NaN</td>\n",
       "    </tr>\n",
       "    <tr>\n",
       "      <th>2</th>\n",
       "      <td>5.0</td>\n",
       "      <td>True</td>\n",
       "      <td>08 5, 2015</td>\n",
       "      <td>A8R48NKTGCJDQ</td>\n",
       "      <td>B00009W3PA</td>\n",
       "      <td>{'Size:': ' 6-Foot'}</td>\n",
       "      <td>CDBrannom</td>\n",
       "      <td>Fit my new LG dryer perfectly.</td>\n",
       "      <td>Five Stars</td>\n",
       "      <td>1438732800</td>\n",
       "      <td>NaN</td>\n",
       "      <td>NaN</td>\n",
       "    </tr>\n",
       "    <tr>\n",
       "      <th>3</th>\n",
       "      <td>5.0</td>\n",
       "      <td>True</td>\n",
       "      <td>04 24, 2015</td>\n",
       "      <td>AR3OHHHW01A8E</td>\n",
       "      <td>B00009W3PA</td>\n",
       "      <td>{'Size:': ' 6-Foot'}</td>\n",
       "      <td>Calvin E Reames</td>\n",
       "      <td>Good value for electric dryers</td>\n",
       "      <td>Perfect size</td>\n",
       "      <td>1429833600</td>\n",
       "      <td>NaN</td>\n",
       "      <td>NaN</td>\n",
       "    </tr>\n",
       "    <tr>\n",
       "      <th>4</th>\n",
       "      <td>5.0</td>\n",
       "      <td>True</td>\n",
       "      <td>03 21, 2015</td>\n",
       "      <td>A2CIEGHZ7L1WWR</td>\n",
       "      <td>B00009W3PA</td>\n",
       "      <td>{'Size:': ' 6-Foot'}</td>\n",
       "      <td>albert j. kong</td>\n",
       "      <td>Price and delivery was excellent.</td>\n",
       "      <td>Five Stars</td>\n",
       "      <td>1426896000</td>\n",
       "      <td>NaN</td>\n",
       "      <td>NaN</td>\n",
       "    </tr>\n",
       "  </tbody>\n",
       "</table>\n",
       "</div>"
      ],
      "text/plain": [
       "   overall  verified   reviewTime      reviewerID        asin  \\\n",
       "0      5.0      True  08 22, 2013  A34A1UP40713F8  B00009W3I4   \n",
       "1      5.0      True   02 8, 2016  A1AHW6I678O6F2  B00009W3PA   \n",
       "2      5.0      True   08 5, 2015   A8R48NKTGCJDQ  B00009W3PA   \n",
       "3      5.0      True  04 24, 2015   AR3OHHHW01A8E  B00009W3PA   \n",
       "4      5.0      True  03 21, 2015  A2CIEGHZ7L1WWR  B00009W3PA   \n",
       "\n",
       "                       style     reviewerName  \\\n",
       "0  {'Style:': ' Dryer Vent'}    James. Backus   \n",
       "1       {'Size:': ' 6-Foot'}           kevin.   \n",
       "2       {'Size:': ' 6-Foot'}        CDBrannom   \n",
       "3       {'Size:': ' 6-Foot'}  Calvin E Reames   \n",
       "4       {'Size:': ' 6-Foot'}   albert j. kong   \n",
       "\n",
       "                                          reviewText        summary  \\\n",
       "0  I like this as a vent as well as something tha...  Great product   \n",
       "1                                          good item     Five Stars   \n",
       "2                     Fit my new LG dryer perfectly.     Five Stars   \n",
       "3                     Good value for electric dryers   Perfect size   \n",
       "4                  Price and delivery was excellent.     Five Stars   \n",
       "\n",
       "   unixReviewTime vote image  \n",
       "0      1377129600  NaN   NaN  \n",
       "1      1454889600  NaN   NaN  \n",
       "2      1438732800  NaN   NaN  \n",
       "3      1429833600  NaN   NaN  \n",
       "4      1426896000  NaN   NaN  "
      ]
     },
     "execution_count": 4,
     "metadata": {},
     "output_type": "execute_result"
    }
   ],
   "source": [
    "df.head()"
   ]
  },
  {
   "cell_type": "markdown",
   "metadata": {},
   "source": [
    "__Drop reviews with score 3__\n",
    "\n",
    "This is upto how you / business want to define. Alternately, you may skip this step and consider reviews with 3 or above score as +ve."
   ]
  },
  {
   "cell_type": "code",
   "execution_count": 5,
   "metadata": {},
   "outputs": [
    {
     "name": "stdout",
     "output_type": "stream",
     "text": [
      "Before:  (10722, 12)\n"
     ]
    }
   ],
   "source": [
    "print(\"Before: \", df.shape)"
   ]
  },
  {
   "cell_type": "code",
   "execution_count": 6,
   "metadata": {},
   "outputs": [
    {
     "name": "stdout",
     "output_type": "stream",
     "text": [
      "After:  (9855, 12)\n"
     ]
    },
    {
     "data": {
      "text/html": [
       "<div>\n",
       "<style scoped>\n",
       "    .dataframe tbody tr th:only-of-type {\n",
       "        vertical-align: middle;\n",
       "    }\n",
       "\n",
       "    .dataframe tbody tr th {\n",
       "        vertical-align: top;\n",
       "    }\n",
       "\n",
       "    .dataframe thead th {\n",
       "        text-align: right;\n",
       "    }\n",
       "</style>\n",
       "<table border=\"1\" class=\"dataframe\">\n",
       "  <thead>\n",
       "    <tr style=\"text-align: right;\">\n",
       "      <th></th>\n",
       "      <th>overall</th>\n",
       "      <th>verified</th>\n",
       "      <th>reviewTime</th>\n",
       "      <th>reviewerID</th>\n",
       "      <th>asin</th>\n",
       "      <th>style</th>\n",
       "      <th>reviewerName</th>\n",
       "      <th>reviewText</th>\n",
       "      <th>summary</th>\n",
       "      <th>unixReviewTime</th>\n",
       "      <th>vote</th>\n",
       "      <th>image</th>\n",
       "    </tr>\n",
       "  </thead>\n",
       "  <tbody>\n",
       "    <tr>\n",
       "      <th>0</th>\n",
       "      <td>5.0</td>\n",
       "      <td>True</td>\n",
       "      <td>08 22, 2013</td>\n",
       "      <td>A34A1UP40713F8</td>\n",
       "      <td>B00009W3I4</td>\n",
       "      <td>{'Style:': ' Dryer Vent'}</td>\n",
       "      <td>James. Backus</td>\n",
       "      <td>I like this as a vent as well as something tha...</td>\n",
       "      <td>Great product</td>\n",
       "      <td>1377129600</td>\n",
       "      <td>NaN</td>\n",
       "      <td>NaN</td>\n",
       "    </tr>\n",
       "    <tr>\n",
       "      <th>1</th>\n",
       "      <td>5.0</td>\n",
       "      <td>True</td>\n",
       "      <td>02 8, 2016</td>\n",
       "      <td>A1AHW6I678O6F2</td>\n",
       "      <td>B00009W3PA</td>\n",
       "      <td>{'Size:': ' 6-Foot'}</td>\n",
       "      <td>kevin.</td>\n",
       "      <td>good item</td>\n",
       "      <td>Five Stars</td>\n",
       "      <td>1454889600</td>\n",
       "      <td>NaN</td>\n",
       "      <td>NaN</td>\n",
       "    </tr>\n",
       "    <tr>\n",
       "      <th>2</th>\n",
       "      <td>5.0</td>\n",
       "      <td>True</td>\n",
       "      <td>08 5, 2015</td>\n",
       "      <td>A8R48NKTGCJDQ</td>\n",
       "      <td>B00009W3PA</td>\n",
       "      <td>{'Size:': ' 6-Foot'}</td>\n",
       "      <td>CDBrannom</td>\n",
       "      <td>Fit my new LG dryer perfectly.</td>\n",
       "      <td>Five Stars</td>\n",
       "      <td>1438732800</td>\n",
       "      <td>NaN</td>\n",
       "      <td>NaN</td>\n",
       "    </tr>\n",
       "    <tr>\n",
       "      <th>3</th>\n",
       "      <td>5.0</td>\n",
       "      <td>True</td>\n",
       "      <td>04 24, 2015</td>\n",
       "      <td>AR3OHHHW01A8E</td>\n",
       "      <td>B00009W3PA</td>\n",
       "      <td>{'Size:': ' 6-Foot'}</td>\n",
       "      <td>Calvin E Reames</td>\n",
       "      <td>Good value for electric dryers</td>\n",
       "      <td>Perfect size</td>\n",
       "      <td>1429833600</td>\n",
       "      <td>NaN</td>\n",
       "      <td>NaN</td>\n",
       "    </tr>\n",
       "    <tr>\n",
       "      <th>4</th>\n",
       "      <td>5.0</td>\n",
       "      <td>True</td>\n",
       "      <td>03 21, 2015</td>\n",
       "      <td>A2CIEGHZ7L1WWR</td>\n",
       "      <td>B00009W3PA</td>\n",
       "      <td>{'Size:': ' 6-Foot'}</td>\n",
       "      <td>albert j. kong</td>\n",
       "      <td>Price and delivery was excellent.</td>\n",
       "      <td>Five Stars</td>\n",
       "      <td>1426896000</td>\n",
       "      <td>NaN</td>\n",
       "      <td>NaN</td>\n",
       "    </tr>\n",
       "  </tbody>\n",
       "</table>\n",
       "</div>"
      ],
      "text/plain": [
       "   overall  verified   reviewTime      reviewerID        asin  \\\n",
       "0      5.0      True  08 22, 2013  A34A1UP40713F8  B00009W3I4   \n",
       "1      5.0      True   02 8, 2016  A1AHW6I678O6F2  B00009W3PA   \n",
       "2      5.0      True   08 5, 2015   A8R48NKTGCJDQ  B00009W3PA   \n",
       "3      5.0      True  04 24, 2015   AR3OHHHW01A8E  B00009W3PA   \n",
       "4      5.0      True  03 21, 2015  A2CIEGHZ7L1WWR  B00009W3PA   \n",
       "\n",
       "                       style     reviewerName  \\\n",
       "0  {'Style:': ' Dryer Vent'}    James. Backus   \n",
       "1       {'Size:': ' 6-Foot'}           kevin.   \n",
       "2       {'Size:': ' 6-Foot'}        CDBrannom   \n",
       "3       {'Size:': ' 6-Foot'}  Calvin E Reames   \n",
       "4       {'Size:': ' 6-Foot'}   albert j. kong   \n",
       "\n",
       "                                          reviewText        summary  \\\n",
       "0  I like this as a vent as well as something tha...  Great product   \n",
       "1                                          good item     Five Stars   \n",
       "2                     Fit my new LG dryer perfectly.     Five Stars   \n",
       "3                     Good value for electric dryers   Perfect size   \n",
       "4                  Price and delivery was excellent.     Five Stars   \n",
       "\n",
       "   unixReviewTime vote image  \n",
       "0      1377129600  NaN   NaN  \n",
       "1      1454889600  NaN   NaN  \n",
       "2      1438732800  NaN   NaN  \n",
       "3      1429833600  NaN   NaN  \n",
       "4      1426896000  NaN   NaN  "
      ]
     },
     "execution_count": 6,
     "metadata": {},
     "output_type": "execute_result"
    }
   ],
   "source": [
    "df = df.loc[df.overall != 3, ]\n",
    "print(\"After: \", df.shape)\n",
    "df.head()"
   ]
  },
  {
   "cell_type": "code",
   "execution_count": 7,
   "metadata": {},
   "outputs": [],
   "source": [
    "df['Score'] = df['overall'].map(lambda x: 0 if x < 3 else 1)"
   ]
  },
  {
   "cell_type": "markdown",
   "metadata": {},
   "source": [
    "__Check datatypes__"
   ]
  },
  {
   "cell_type": "code",
   "execution_count": 8,
   "metadata": {},
   "outputs": [
    {
     "data": {
      "text/plain": [
       "overall           float64\n",
       "verified             bool\n",
       "reviewTime         object\n",
       "reviewerID         object\n",
       "asin               object\n",
       "style              object\n",
       "reviewerName       object\n",
       "reviewText         object\n",
       "summary            object\n",
       "unixReviewTime      int64\n",
       "vote               object\n",
       "image              object\n",
       "Score               int64\n",
       "dtype: object"
      ]
     },
     "execution_count": 8,
     "metadata": {},
     "output_type": "execute_result"
    }
   ],
   "source": [
    "df.dtypes"
   ]
  },
  {
   "cell_type": "code",
   "execution_count": 9,
   "metadata": {},
   "outputs": [
    {
     "data": {
      "text/html": [
       "<div>\n",
       "<style scoped>\n",
       "    .dataframe tbody tr th:only-of-type {\n",
       "        vertical-align: middle;\n",
       "    }\n",
       "\n",
       "    .dataframe tbody tr th {\n",
       "        vertical-align: top;\n",
       "    }\n",
       "\n",
       "    .dataframe thead th {\n",
       "        text-align: right;\n",
       "    }\n",
       "</style>\n",
       "<table border=\"1\" class=\"dataframe\">\n",
       "  <thead>\n",
       "    <tr style=\"text-align: right;\">\n",
       "      <th></th>\n",
       "      <th>overall</th>\n",
       "      <th>verified</th>\n",
       "      <th>reviewTime</th>\n",
       "      <th>reviewerID</th>\n",
       "      <th>asin</th>\n",
       "      <th>style</th>\n",
       "      <th>reviewerName</th>\n",
       "      <th>reviewText</th>\n",
       "      <th>summary</th>\n",
       "      <th>unixReviewTime</th>\n",
       "      <th>vote</th>\n",
       "      <th>image</th>\n",
       "      <th>Score</th>\n",
       "    </tr>\n",
       "  </thead>\n",
       "  <tbody>\n",
       "    <tr>\n",
       "      <th>0</th>\n",
       "      <td>5.0</td>\n",
       "      <td>True</td>\n",
       "      <td>08 22, 2013</td>\n",
       "      <td>A34A1UP40713F8</td>\n",
       "      <td>B00009W3I4</td>\n",
       "      <td>{'Style:': ' Dryer Vent'}</td>\n",
       "      <td>James. Backus</td>\n",
       "      <td>I like this as a vent as well as something tha...</td>\n",
       "      <td>Great product</td>\n",
       "      <td>1377129600</td>\n",
       "      <td>NaN</td>\n",
       "      <td>NaN</td>\n",
       "      <td>1</td>\n",
       "    </tr>\n",
       "    <tr>\n",
       "      <th>1</th>\n",
       "      <td>5.0</td>\n",
       "      <td>True</td>\n",
       "      <td>02 8, 2016</td>\n",
       "      <td>A1AHW6I678O6F2</td>\n",
       "      <td>B00009W3PA</td>\n",
       "      <td>{'Size:': ' 6-Foot'}</td>\n",
       "      <td>kevin.</td>\n",
       "      <td>good item</td>\n",
       "      <td>Five Stars</td>\n",
       "      <td>1454889600</td>\n",
       "      <td>NaN</td>\n",
       "      <td>NaN</td>\n",
       "      <td>1</td>\n",
       "    </tr>\n",
       "    <tr>\n",
       "      <th>2</th>\n",
       "      <td>5.0</td>\n",
       "      <td>True</td>\n",
       "      <td>08 5, 2015</td>\n",
       "      <td>A8R48NKTGCJDQ</td>\n",
       "      <td>B00009W3PA</td>\n",
       "      <td>{'Size:': ' 6-Foot'}</td>\n",
       "      <td>CDBrannom</td>\n",
       "      <td>Fit my new LG dryer perfectly.</td>\n",
       "      <td>Five Stars</td>\n",
       "      <td>1438732800</td>\n",
       "      <td>NaN</td>\n",
       "      <td>NaN</td>\n",
       "      <td>1</td>\n",
       "    </tr>\n",
       "    <tr>\n",
       "      <th>3</th>\n",
       "      <td>5.0</td>\n",
       "      <td>True</td>\n",
       "      <td>04 24, 2015</td>\n",
       "      <td>AR3OHHHW01A8E</td>\n",
       "      <td>B00009W3PA</td>\n",
       "      <td>{'Size:': ' 6-Foot'}</td>\n",
       "      <td>Calvin E Reames</td>\n",
       "      <td>Good value for electric dryers</td>\n",
       "      <td>Perfect size</td>\n",
       "      <td>1429833600</td>\n",
       "      <td>NaN</td>\n",
       "      <td>NaN</td>\n",
       "      <td>1</td>\n",
       "    </tr>\n",
       "    <tr>\n",
       "      <th>4</th>\n",
       "      <td>5.0</td>\n",
       "      <td>True</td>\n",
       "      <td>03 21, 2015</td>\n",
       "      <td>A2CIEGHZ7L1WWR</td>\n",
       "      <td>B00009W3PA</td>\n",
       "      <td>{'Size:': ' 6-Foot'}</td>\n",
       "      <td>albert j. kong</td>\n",
       "      <td>Price and delivery was excellent.</td>\n",
       "      <td>Five Stars</td>\n",
       "      <td>1426896000</td>\n",
       "      <td>NaN</td>\n",
       "      <td>NaN</td>\n",
       "      <td>1</td>\n",
       "    </tr>\n",
       "  </tbody>\n",
       "</table>\n",
       "</div>"
      ],
      "text/plain": [
       "   overall  verified   reviewTime      reviewerID        asin  \\\n",
       "0      5.0      True  08 22, 2013  A34A1UP40713F8  B00009W3I4   \n",
       "1      5.0      True   02 8, 2016  A1AHW6I678O6F2  B00009W3PA   \n",
       "2      5.0      True   08 5, 2015   A8R48NKTGCJDQ  B00009W3PA   \n",
       "3      5.0      True  04 24, 2015   AR3OHHHW01A8E  B00009W3PA   \n",
       "4      5.0      True  03 21, 2015  A2CIEGHZ7L1WWR  B00009W3PA   \n",
       "\n",
       "                       style     reviewerName  \\\n",
       "0  {'Style:': ' Dryer Vent'}    James. Backus   \n",
       "1       {'Size:': ' 6-Foot'}           kevin.   \n",
       "2       {'Size:': ' 6-Foot'}        CDBrannom   \n",
       "3       {'Size:': ' 6-Foot'}  Calvin E Reames   \n",
       "4       {'Size:': ' 6-Foot'}   albert j. kong   \n",
       "\n",
       "                                          reviewText        summary  \\\n",
       "0  I like this as a vent as well as something tha...  Great product   \n",
       "1                                          good item     Five Stars   \n",
       "2                     Fit my new LG dryer perfectly.     Five Stars   \n",
       "3                     Good value for electric dryers   Perfect size   \n",
       "4                  Price and delivery was excellent.     Five Stars   \n",
       "\n",
       "   unixReviewTime vote image  Score  \n",
       "0      1377129600  NaN   NaN      1  \n",
       "1      1454889600  NaN   NaN      1  \n",
       "2      1438732800  NaN   NaN      1  \n",
       "3      1429833600  NaN   NaN      1  \n",
       "4      1426896000  NaN   NaN      1  "
      ]
     },
     "execution_count": 9,
     "metadata": {},
     "output_type": "execute_result"
    }
   ],
   "source": [
    "df.head()"
   ]
  },
  {
   "cell_type": "code",
   "execution_count": 10,
   "metadata": {},
   "outputs": [
    {
     "data": {
      "text/html": [
       "<div>\n",
       "<style scoped>\n",
       "    .dataframe tbody tr th:only-of-type {\n",
       "        vertical-align: middle;\n",
       "    }\n",
       "\n",
       "    .dataframe tbody tr th {\n",
       "        vertical-align: top;\n",
       "    }\n",
       "\n",
       "    .dataframe thead th {\n",
       "        text-align: right;\n",
       "    }\n",
       "</style>\n",
       "<table border=\"1\" class=\"dataframe\">\n",
       "  <thead>\n",
       "    <tr style=\"text-align: right;\">\n",
       "      <th></th>\n",
       "      <th>overall</th>\n",
       "      <th>verified</th>\n",
       "      <th>reviewTime</th>\n",
       "      <th>reviewerID</th>\n",
       "      <th>asin</th>\n",
       "      <th>style</th>\n",
       "      <th>reviewerName</th>\n",
       "      <th>reviewText</th>\n",
       "      <th>summary</th>\n",
       "      <th>unixReviewTime</th>\n",
       "      <th>vote</th>\n",
       "      <th>image</th>\n",
       "      <th>Score</th>\n",
       "      <th>UnixTime</th>\n",
       "    </tr>\n",
       "  </thead>\n",
       "  <tbody>\n",
       "    <tr>\n",
       "      <th>0</th>\n",
       "      <td>5.0</td>\n",
       "      <td>True</td>\n",
       "      <td>08 22, 2013</td>\n",
       "      <td>A34A1UP40713F8</td>\n",
       "      <td>B00009W3I4</td>\n",
       "      <td>{'Style:': ' Dryer Vent'}</td>\n",
       "      <td>James. Backus</td>\n",
       "      <td>I like this as a vent as well as something tha...</td>\n",
       "      <td>Great product</td>\n",
       "      <td>1377129600</td>\n",
       "      <td>NaN</td>\n",
       "      <td>NaN</td>\n",
       "      <td>1</td>\n",
       "      <td>2013-08-22</td>\n",
       "    </tr>\n",
       "    <tr>\n",
       "      <th>1</th>\n",
       "      <td>5.0</td>\n",
       "      <td>True</td>\n",
       "      <td>02 8, 2016</td>\n",
       "      <td>A1AHW6I678O6F2</td>\n",
       "      <td>B00009W3PA</td>\n",
       "      <td>{'Size:': ' 6-Foot'}</td>\n",
       "      <td>kevin.</td>\n",
       "      <td>good item</td>\n",
       "      <td>Five Stars</td>\n",
       "      <td>1454889600</td>\n",
       "      <td>NaN</td>\n",
       "      <td>NaN</td>\n",
       "      <td>1</td>\n",
       "      <td>2016-02-08</td>\n",
       "    </tr>\n",
       "    <tr>\n",
       "      <th>2</th>\n",
       "      <td>5.0</td>\n",
       "      <td>True</td>\n",
       "      <td>08 5, 2015</td>\n",
       "      <td>A8R48NKTGCJDQ</td>\n",
       "      <td>B00009W3PA</td>\n",
       "      <td>{'Size:': ' 6-Foot'}</td>\n",
       "      <td>CDBrannom</td>\n",
       "      <td>Fit my new LG dryer perfectly.</td>\n",
       "      <td>Five Stars</td>\n",
       "      <td>1438732800</td>\n",
       "      <td>NaN</td>\n",
       "      <td>NaN</td>\n",
       "      <td>1</td>\n",
       "      <td>2015-08-05</td>\n",
       "    </tr>\n",
       "    <tr>\n",
       "      <th>3</th>\n",
       "      <td>5.0</td>\n",
       "      <td>True</td>\n",
       "      <td>04 24, 2015</td>\n",
       "      <td>AR3OHHHW01A8E</td>\n",
       "      <td>B00009W3PA</td>\n",
       "      <td>{'Size:': ' 6-Foot'}</td>\n",
       "      <td>Calvin E Reames</td>\n",
       "      <td>Good value for electric dryers</td>\n",
       "      <td>Perfect size</td>\n",
       "      <td>1429833600</td>\n",
       "      <td>NaN</td>\n",
       "      <td>NaN</td>\n",
       "      <td>1</td>\n",
       "      <td>2015-04-24</td>\n",
       "    </tr>\n",
       "    <tr>\n",
       "      <th>4</th>\n",
       "      <td>5.0</td>\n",
       "      <td>True</td>\n",
       "      <td>03 21, 2015</td>\n",
       "      <td>A2CIEGHZ7L1WWR</td>\n",
       "      <td>B00009W3PA</td>\n",
       "      <td>{'Size:': ' 6-Foot'}</td>\n",
       "      <td>albert j. kong</td>\n",
       "      <td>Price and delivery was excellent.</td>\n",
       "      <td>Five Stars</td>\n",
       "      <td>1426896000</td>\n",
       "      <td>NaN</td>\n",
       "      <td>NaN</td>\n",
       "      <td>1</td>\n",
       "      <td>2015-03-21</td>\n",
       "    </tr>\n",
       "  </tbody>\n",
       "</table>\n",
       "</div>"
      ],
      "text/plain": [
       "   overall  verified   reviewTime      reviewerID        asin  \\\n",
       "0      5.0      True  08 22, 2013  A34A1UP40713F8  B00009W3I4   \n",
       "1      5.0      True   02 8, 2016  A1AHW6I678O6F2  B00009W3PA   \n",
       "2      5.0      True   08 5, 2015   A8R48NKTGCJDQ  B00009W3PA   \n",
       "3      5.0      True  04 24, 2015   AR3OHHHW01A8E  B00009W3PA   \n",
       "4      5.0      True  03 21, 2015  A2CIEGHZ7L1WWR  B00009W3PA   \n",
       "\n",
       "                       style     reviewerName  \\\n",
       "0  {'Style:': ' Dryer Vent'}    James. Backus   \n",
       "1       {'Size:': ' 6-Foot'}           kevin.   \n",
       "2       {'Size:': ' 6-Foot'}        CDBrannom   \n",
       "3       {'Size:': ' 6-Foot'}  Calvin E Reames   \n",
       "4       {'Size:': ' 6-Foot'}   albert j. kong   \n",
       "\n",
       "                                          reviewText        summary  \\\n",
       "0  I like this as a vent as well as something tha...  Great product   \n",
       "1                                          good item     Five Stars   \n",
       "2                     Fit my new LG dryer perfectly.     Five Stars   \n",
       "3                     Good value for electric dryers   Perfect size   \n",
       "4                  Price and delivery was excellent.     Five Stars   \n",
       "\n",
       "   unixReviewTime vote image  Score   UnixTime  \n",
       "0      1377129600  NaN   NaN      1 2013-08-22  \n",
       "1      1454889600  NaN   NaN      1 2016-02-08  \n",
       "2      1438732800  NaN   NaN      1 2015-08-05  \n",
       "3      1429833600  NaN   NaN      1 2015-04-24  \n",
       "4      1426896000  NaN   NaN      1 2015-03-21  "
      ]
     },
     "execution_count": 10,
     "metadata": {},
     "output_type": "execute_result"
    }
   ],
   "source": [
    "df['UnixTime'] = pd.to_datetime(df['unixReviewTime'],unit='s')\n",
    "df.head()"
   ]
  },
  {
   "cell_type": "markdown",
   "metadata": {
    "id": "TX5b3dc5CAZS"
   },
   "source": [
    "<div class=\"alert alert-info\" style=\"background-color:#006a79; color:white; padding:0px 10px; border-radius:5px;\"><h2 style='margin:10px 5px'>Exploratory Data Analysis</h2>\n",
    "</div>\n",
    "\n",
    "\n",
    "<div class=\"alert alert-info\" style=\"background-color:#006a79; color:white; padding:0px 10px; border-radius:5px;\"><h2 style='margin:10px 5px'>3. Data Cleaning: Fix Duplicates</h2>\n",
    "</div>\n",
    "\n",
    "__Why do it?__\n",
    "\n",
    "1. Garbage In --> Garbage Out\n",
    "2. Impacts the quality of the model.\n",
    "\n",
    "\n",
    "The reviews data has many duplicate entries because the reviews get shared between variations of the same product. So remove duplicates in order to get unbiased results during data analysis."
   ]
  },
  {
   "cell_type": "markdown",
   "metadata": {},
   "source": [
    "__Initial Shape__"
   ]
  },
  {
   "cell_type": "code",
   "execution_count": 11,
   "metadata": {},
   "outputs": [
    {
     "data": {
      "text/plain": [
       "(9855, 14)"
      ]
     },
     "execution_count": 11,
     "metadata": {},
     "output_type": "execute_result"
    }
   ],
   "source": [
    "df.shape"
   ]
  },
  {
   "cell_type": "markdown",
   "metadata": {},
   "source": [
    "__Sort data first__"
   ]
  },
  {
   "cell_type": "code",
   "execution_count": 12,
   "metadata": {},
   "outputs": [],
   "source": [
    "# Sorting data according to \"reviewerName\",\"UnixTime\",\"summary\",\"reviewText\"\n",
    "df_sorted = df.sort_values([\"reviewerName\",\"UnixTime\",\"summary\",\"reviewText\"], \n",
    "                           axis=0, \n",
    "                           ascending=True, \n",
    "                           inplace=False, \n",
    "                           kind='quicksort', \n",
    "                           na_position='last')"
   ]
  },
  {
   "cell_type": "markdown",
   "metadata": {},
   "source": [
    "__Check for Duplicates__"
   ]
  },
  {
   "cell_type": "code",
   "execution_count": 13,
   "metadata": {},
   "outputs": [
    {
     "data": {
      "text/html": [
       "<div>\n",
       "<style scoped>\n",
       "    .dataframe tbody tr th:only-of-type {\n",
       "        vertical-align: middle;\n",
       "    }\n",
       "\n",
       "    .dataframe tbody tr th {\n",
       "        vertical-align: top;\n",
       "    }\n",
       "\n",
       "    .dataframe thead th {\n",
       "        text-align: right;\n",
       "    }\n",
       "</style>\n",
       "<table border=\"1\" class=\"dataframe\">\n",
       "  <thead>\n",
       "    <tr style=\"text-align: right;\">\n",
       "      <th></th>\n",
       "      <th>overall</th>\n",
       "      <th>verified</th>\n",
       "      <th>reviewTime</th>\n",
       "      <th>reviewerID</th>\n",
       "      <th>asin</th>\n",
       "      <th>style</th>\n",
       "      <th>reviewerName</th>\n",
       "      <th>reviewText</th>\n",
       "      <th>summary</th>\n",
       "      <th>unixReviewTime</th>\n",
       "      <th>vote</th>\n",
       "      <th>image</th>\n",
       "      <th>Score</th>\n",
       "      <th>UnixTime</th>\n",
       "    </tr>\n",
       "  </thead>\n",
       "  <tbody>\n",
       "    <tr>\n",
       "      <th>4924</th>\n",
       "      <td>5.0</td>\n",
       "      <td>False</td>\n",
       "      <td>08 26, 2017</td>\n",
       "      <td>A2MJ8OL2FYN7CW</td>\n",
       "      <td>B00W259T7G</td>\n",
       "      <td>{'Size:': ' 250 Gram', 'Color:': ' Olive Oil'}</td>\n",
       "      <td>Lynne E.</td>\n",
       "      <td>This PRE DE PROVENCE SHEA BUTTER ENRICHED ARTI...</td>\n",
       "      <td>Feels Luxurious, Doesn't Dry Out Sensitive Skin</td>\n",
       "      <td>1503705600</td>\n",
       "      <td>NaN</td>\n",
       "      <td>NaN</td>\n",
       "      <td>1</td>\n",
       "      <td>2017-08-26</td>\n",
       "    </tr>\n",
       "    <tr>\n",
       "      <th>4187</th>\n",
       "      <td>5.0</td>\n",
       "      <td>False</td>\n",
       "      <td>09 4, 2017</td>\n",
       "      <td>A2MJ8OL2FYN7CW</td>\n",
       "      <td>B001LNODUS</td>\n",
       "      <td>{'Color:': ' Shower Gel'}</td>\n",
       "      <td>Lynne E.</td>\n",
       "      <td>Lavender is my favorite soap fragrance, so it'...</td>\n",
       "      <td>Clear Gel Creates Nice Lather With Delicate La...</td>\n",
       "      <td>1504483200</td>\n",
       "      <td>NaN</td>\n",
       "      <td>NaN</td>\n",
       "      <td>1</td>\n",
       "      <td>2017-09-04</td>\n",
       "    </tr>\n",
       "    <tr>\n",
       "      <th>5034</th>\n",
       "      <td>5.0</td>\n",
       "      <td>False</td>\n",
       "      <td>09 4, 2017</td>\n",
       "      <td>A2MJ8OL2FYN7CW</td>\n",
       "      <td>B019FWRG3C</td>\n",
       "      <td>{'Color:': ' Shower Gel'}</td>\n",
       "      <td>Lynne E.</td>\n",
       "      <td>Lavender is my favorite soap fragrance, so it'...</td>\n",
       "      <td>Clear Gel Creates Nice Lather With Delicate La...</td>\n",
       "      <td>1504483200</td>\n",
       "      <td>NaN</td>\n",
       "      <td>NaN</td>\n",
       "      <td>1</td>\n",
       "      <td>2017-09-04</td>\n",
       "    </tr>\n",
       "    <tr>\n",
       "      <th>4856</th>\n",
       "      <td>5.0</td>\n",
       "      <td>False</td>\n",
       "      <td>09 21, 2017</td>\n",
       "      <td>A2MJ8OL2FYN7CW</td>\n",
       "      <td>B00W259T7G</td>\n",
       "      <td>{'Size:': ' 150 Gram', 'Color:': ' Sea Salt'}</td>\n",
       "      <td>Lynne E.</td>\n",
       "      <td>I love Pre de Provence soaps, but was intensel...</td>\n",
       "      <td>Luxurious French Soap Has Fresh Sea Breeze Fra...</td>\n",
       "      <td>1505952000</td>\n",
       "      <td>7</td>\n",
       "      <td>NaN</td>\n",
       "      <td>1</td>\n",
       "      <td>2017-09-21</td>\n",
       "    </tr>\n",
       "    <tr>\n",
       "      <th>4849</th>\n",
       "      <td>5.0</td>\n",
       "      <td>False</td>\n",
       "      <td>09 27, 2017</td>\n",
       "      <td>A2MJ8OL2FYN7CW</td>\n",
       "      <td>B00W259T7G</td>\n",
       "      <td>{'Size:': ' 250 Gram', 'Color:': ' Sandalwood'}</td>\n",
       "      <td>Lynne E.</td>\n",
       "      <td>This PRE DE PROVENCE Sandalwood SHEA BUTTER EN...</td>\n",
       "      <td>Luxurious French Soap With Mild, Masculine Fra...</td>\n",
       "      <td>1506470400</td>\n",
       "      <td>NaN</td>\n",
       "      <td>NaN</td>\n",
       "      <td>1</td>\n",
       "      <td>2017-09-27</td>\n",
       "    </tr>\n",
       "    <tr>\n",
       "      <th>4848</th>\n",
       "      <td>5.0</td>\n",
       "      <td>False</td>\n",
       "      <td>09 27, 2017</td>\n",
       "      <td>A2MJ8OL2FYN7CW</td>\n",
       "      <td>B00W259T7G</td>\n",
       "      <td>{'Size:': ' 250 Gram', 'Color:': ' Patchouli'}</td>\n",
       "      <td>Lynne E.</td>\n",
       "      <td>This PRE DE PROVENCE PATCHOULI SHEA BUTTER ENR...</td>\n",
       "      <td>Luxurious French Soap With Musky Masculine Fra...</td>\n",
       "      <td>1506470400</td>\n",
       "      <td>NaN</td>\n",
       "      <td>NaN</td>\n",
       "      <td>1</td>\n",
       "      <td>2017-09-27</td>\n",
       "    </tr>\n",
       "    <tr>\n",
       "      <th>4160</th>\n",
       "      <td>4.0</td>\n",
       "      <td>False</td>\n",
       "      <td>08 2, 2016</td>\n",
       "      <td>ALNFHVS3SC4FV</td>\n",
       "      <td>B001ET7FZE</td>\n",
       "      <td>{'Style Name:': ' Bubble Fruit'}</td>\n",
       "      <td>Seas the Day</td>\n",
       "      <td>My kids love using the Colgate pumps. I think ...</td>\n",
       "      <td>Kids Like the Flavor and the Pump</td>\n",
       "      <td>1470096000</td>\n",
       "      <td>NaN</td>\n",
       "      <td>NaN</td>\n",
       "      <td>1</td>\n",
       "      <td>2016-08-02</td>\n",
       "    </tr>\n",
       "    <tr>\n",
       "      <th>5056</th>\n",
       "      <td>4.0</td>\n",
       "      <td>False</td>\n",
       "      <td>08 2, 2016</td>\n",
       "      <td>ALNFHVS3SC4FV</td>\n",
       "      <td>B01BNEYGQU</td>\n",
       "      <td>{'Style Name:': ' Bubble Fruit'}</td>\n",
       "      <td>Seas the Day</td>\n",
       "      <td>My kids love using the Colgate pumps. I think ...</td>\n",
       "      <td>Kids Like the Flavor and the Pump</td>\n",
       "      <td>1470096000</td>\n",
       "      <td>NaN</td>\n",
       "      <td>NaN</td>\n",
       "      <td>1</td>\n",
       "      <td>2016-08-02</td>\n",
       "    </tr>\n",
       "    <tr>\n",
       "      <th>4908</th>\n",
       "      <td>5.0</td>\n",
       "      <td>False</td>\n",
       "      <td>08 29, 2017</td>\n",
       "      <td>ALNFHVS3SC4FV</td>\n",
       "      <td>B00W259T7G</td>\n",
       "      <td>{'Size:': ' 150 Gram', 'Color:': ' Starflower'}</td>\n",
       "      <td>Seas the Day</td>\n",
       "      <td>Review for Starflower:\\n\\nThis is a nice bar o...</td>\n",
       "      <td>Large Bar, Floral but Nice and Clean Smelling</td>\n",
       "      <td>1503964800</td>\n",
       "      <td>NaN</td>\n",
       "      <td>NaN</td>\n",
       "      <td>1</td>\n",
       "      <td>2017-08-29</td>\n",
       "    </tr>\n",
       "    <tr>\n",
       "      <th>2190</th>\n",
       "      <td>5.0</td>\n",
       "      <td>False</td>\n",
       "      <td>09 10, 2017</td>\n",
       "      <td>ALNFHVS3SC4FV</td>\n",
       "      <td>B0010ZBORW</td>\n",
       "      <td>{'Color:': ' Loofah'}</td>\n",
       "      <td>Seas the Day</td>\n",
       "      <td>Review for Loofah:\\n\\nI have tried loofahs in ...</td>\n",
       "      <td>Nice Loofah with Attached Suction Cup</td>\n",
       "      <td>1505001600</td>\n",
       "      <td>NaN</td>\n",
       "      <td>NaN</td>\n",
       "      <td>1</td>\n",
       "      <td>2017-09-10</td>\n",
       "    </tr>\n",
       "  </tbody>\n",
       "</table>\n",
       "</div>"
      ],
      "text/plain": [
       "      overall  verified   reviewTime      reviewerID        asin  \\\n",
       "4924      5.0     False  08 26, 2017  A2MJ8OL2FYN7CW  B00W259T7G   \n",
       "4187      5.0     False   09 4, 2017  A2MJ8OL2FYN7CW  B001LNODUS   \n",
       "5034      5.0     False   09 4, 2017  A2MJ8OL2FYN7CW  B019FWRG3C   \n",
       "4856      5.0     False  09 21, 2017  A2MJ8OL2FYN7CW  B00W259T7G   \n",
       "4849      5.0     False  09 27, 2017  A2MJ8OL2FYN7CW  B00W259T7G   \n",
       "4848      5.0     False  09 27, 2017  A2MJ8OL2FYN7CW  B00W259T7G   \n",
       "4160      4.0     False   08 2, 2016   ALNFHVS3SC4FV  B001ET7FZE   \n",
       "5056      4.0     False   08 2, 2016   ALNFHVS3SC4FV  B01BNEYGQU   \n",
       "4908      5.0     False  08 29, 2017   ALNFHVS3SC4FV  B00W259T7G   \n",
       "2190      5.0     False  09 10, 2017   ALNFHVS3SC4FV  B0010ZBORW   \n",
       "\n",
       "                                                style    reviewerName  \\\n",
       "4924   {'Size:': ' 250 Gram', 'Color:': ' Olive Oil'}        Lynne E.   \n",
       "4187                        {'Color:': ' Shower Gel'}        Lynne E.   \n",
       "5034                        {'Color:': ' Shower Gel'}        Lynne E.   \n",
       "4856    {'Size:': ' 150 Gram', 'Color:': ' Sea Salt'}        Lynne E.   \n",
       "4849  {'Size:': ' 250 Gram', 'Color:': ' Sandalwood'}        Lynne E.   \n",
       "4848   {'Size:': ' 250 Gram', 'Color:': ' Patchouli'}        Lynne E.   \n",
       "4160                 {'Style Name:': ' Bubble Fruit'}   Seas the Day    \n",
       "5056                 {'Style Name:': ' Bubble Fruit'}   Seas the Day    \n",
       "4908  {'Size:': ' 150 Gram', 'Color:': ' Starflower'}   Seas the Day    \n",
       "2190                            {'Color:': ' Loofah'}   Seas the Day    \n",
       "\n",
       "                                             reviewText  \\\n",
       "4924  This PRE DE PROVENCE SHEA BUTTER ENRICHED ARTI...   \n",
       "4187  Lavender is my favorite soap fragrance, so it'...   \n",
       "5034  Lavender is my favorite soap fragrance, so it'...   \n",
       "4856  I love Pre de Provence soaps, but was intensel...   \n",
       "4849  This PRE DE PROVENCE Sandalwood SHEA BUTTER EN...   \n",
       "4848  This PRE DE PROVENCE PATCHOULI SHEA BUTTER ENR...   \n",
       "4160  My kids love using the Colgate pumps. I think ...   \n",
       "5056  My kids love using the Colgate pumps. I think ...   \n",
       "4908  Review for Starflower:\\n\\nThis is a nice bar o...   \n",
       "2190  Review for Loofah:\\n\\nI have tried loofahs in ...   \n",
       "\n",
       "                                                summary  unixReviewTime vote  \\\n",
       "4924    Feels Luxurious, Doesn't Dry Out Sensitive Skin      1503705600  NaN   \n",
       "4187  Clear Gel Creates Nice Lather With Delicate La...      1504483200  NaN   \n",
       "5034  Clear Gel Creates Nice Lather With Delicate La...      1504483200  NaN   \n",
       "4856  Luxurious French Soap Has Fresh Sea Breeze Fra...      1505952000    7   \n",
       "4849  Luxurious French Soap With Mild, Masculine Fra...      1506470400  NaN   \n",
       "4848  Luxurious French Soap With Musky Masculine Fra...      1506470400  NaN   \n",
       "4160                  Kids Like the Flavor and the Pump      1470096000  NaN   \n",
       "5056                  Kids Like the Flavor and the Pump      1470096000  NaN   \n",
       "4908      Large Bar, Floral but Nice and Clean Smelling      1503964800  NaN   \n",
       "2190              Nice Loofah with Attached Suction Cup      1505001600  NaN   \n",
       "\n",
       "     image  Score   UnixTime  \n",
       "4924   NaN      1 2017-08-26  \n",
       "4187   NaN      1 2017-09-04  \n",
       "5034   NaN      1 2017-09-04  \n",
       "4856   NaN      1 2017-09-21  \n",
       "4849   NaN      1 2017-09-27  \n",
       "4848   NaN      1 2017-09-27  \n",
       "4160   NaN      1 2016-08-02  \n",
       "5056   NaN      1 2016-08-02  \n",
       "4908   NaN      1 2017-08-29  \n",
       "2190   NaN      1 2017-09-10  "
      ]
     },
     "execution_count": 13,
     "metadata": {},
     "output_type": "execute_result"
    }
   ],
   "source": [
    "df_sorted.head(10)"
   ]
  },
  {
   "cell_type": "markdown",
   "metadata": {},
   "source": [
    "\n",
    "\n",
    "You can see there are duplicates reviews from the same user, for the same product left at the exact same time. This is probably because the same review might get shared with multiple variations of the same product. \n",
    "\n",
    "In such cases, we want to retain just one instance of the review.\n",
    "\n",
    "So let's remove duplicates based on \"reviewerName\", \"unixReviewTime\", \"summary\", \"reviewText\"."
   ]
  },
  {
   "cell_type": "code",
   "execution_count": 14,
   "metadata": {},
   "outputs": [
    {
     "data": {
      "text/plain": [
       "(1874, 14)"
      ]
     },
     "execution_count": 14,
     "metadata": {},
     "output_type": "execute_result"
    }
   ],
   "source": [
    "# Remove duplicate reviews\n",
    "df_uniq = df_sorted.drop_duplicates(subset={\"reviewerName\",\n",
    "                                               \"unixReviewTime\",\n",
    "                                               \"summary\",\n",
    "                                               \"reviewText\"}, \n",
    "                                       keep='first', \n",
    "                                       inplace=False)\n",
    "\n",
    "df_uniq.shape"
   ]
  },
  {
   "cell_type": "markdown",
   "metadata": {},
   "source": [
    "__View__"
   ]
  },
  {
   "cell_type": "code",
   "execution_count": 15,
   "metadata": {},
   "outputs": [
    {
     "data": {
      "text/html": [
       "<div>\n",
       "<style scoped>\n",
       "    .dataframe tbody tr th:only-of-type {\n",
       "        vertical-align: middle;\n",
       "    }\n",
       "\n",
       "    .dataframe tbody tr th {\n",
       "        vertical-align: top;\n",
       "    }\n",
       "\n",
       "    .dataframe thead th {\n",
       "        text-align: right;\n",
       "    }\n",
       "</style>\n",
       "<table border=\"1\" class=\"dataframe\">\n",
       "  <thead>\n",
       "    <tr style=\"text-align: right;\">\n",
       "      <th></th>\n",
       "      <th>overall</th>\n",
       "      <th>verified</th>\n",
       "      <th>reviewTime</th>\n",
       "      <th>reviewerID</th>\n",
       "      <th>asin</th>\n",
       "      <th>style</th>\n",
       "      <th>reviewerName</th>\n",
       "      <th>reviewText</th>\n",
       "      <th>summary</th>\n",
       "      <th>unixReviewTime</th>\n",
       "      <th>vote</th>\n",
       "      <th>image</th>\n",
       "      <th>Score</th>\n",
       "      <th>UnixTime</th>\n",
       "    </tr>\n",
       "  </thead>\n",
       "  <tbody>\n",
       "    <tr>\n",
       "      <th>4924</th>\n",
       "      <td>5.0</td>\n",
       "      <td>False</td>\n",
       "      <td>08 26, 2017</td>\n",
       "      <td>A2MJ8OL2FYN7CW</td>\n",
       "      <td>B00W259T7G</td>\n",
       "      <td>{'Size:': ' 250 Gram', 'Color:': ' Olive Oil'}</td>\n",
       "      <td>Lynne E.</td>\n",
       "      <td>This PRE DE PROVENCE SHEA BUTTER ENRICHED ARTI...</td>\n",
       "      <td>Feels Luxurious, Doesn't Dry Out Sensitive Skin</td>\n",
       "      <td>1503705600</td>\n",
       "      <td>NaN</td>\n",
       "      <td>NaN</td>\n",
       "      <td>1</td>\n",
       "      <td>2017-08-26</td>\n",
       "    </tr>\n",
       "    <tr>\n",
       "      <th>4187</th>\n",
       "      <td>5.0</td>\n",
       "      <td>False</td>\n",
       "      <td>09 4, 2017</td>\n",
       "      <td>A2MJ8OL2FYN7CW</td>\n",
       "      <td>B001LNODUS</td>\n",
       "      <td>{'Color:': ' Shower Gel'}</td>\n",
       "      <td>Lynne E.</td>\n",
       "      <td>Lavender is my favorite soap fragrance, so it'...</td>\n",
       "      <td>Clear Gel Creates Nice Lather With Delicate La...</td>\n",
       "      <td>1504483200</td>\n",
       "      <td>NaN</td>\n",
       "      <td>NaN</td>\n",
       "      <td>1</td>\n",
       "      <td>2017-09-04</td>\n",
       "    </tr>\n",
       "    <tr>\n",
       "      <th>4856</th>\n",
       "      <td>5.0</td>\n",
       "      <td>False</td>\n",
       "      <td>09 21, 2017</td>\n",
       "      <td>A2MJ8OL2FYN7CW</td>\n",
       "      <td>B00W259T7G</td>\n",
       "      <td>{'Size:': ' 150 Gram', 'Color:': ' Sea Salt'}</td>\n",
       "      <td>Lynne E.</td>\n",
       "      <td>I love Pre de Provence soaps, but was intensel...</td>\n",
       "      <td>Luxurious French Soap Has Fresh Sea Breeze Fra...</td>\n",
       "      <td>1505952000</td>\n",
       "      <td>7</td>\n",
       "      <td>NaN</td>\n",
       "      <td>1</td>\n",
       "      <td>2017-09-21</td>\n",
       "    </tr>\n",
       "    <tr>\n",
       "      <th>4849</th>\n",
       "      <td>5.0</td>\n",
       "      <td>False</td>\n",
       "      <td>09 27, 2017</td>\n",
       "      <td>A2MJ8OL2FYN7CW</td>\n",
       "      <td>B00W259T7G</td>\n",
       "      <td>{'Size:': ' 250 Gram', 'Color:': ' Sandalwood'}</td>\n",
       "      <td>Lynne E.</td>\n",
       "      <td>This PRE DE PROVENCE Sandalwood SHEA BUTTER EN...</td>\n",
       "      <td>Luxurious French Soap With Mild, Masculine Fra...</td>\n",
       "      <td>1506470400</td>\n",
       "      <td>NaN</td>\n",
       "      <td>NaN</td>\n",
       "      <td>1</td>\n",
       "      <td>2017-09-27</td>\n",
       "    </tr>\n",
       "    <tr>\n",
       "      <th>4848</th>\n",
       "      <td>5.0</td>\n",
       "      <td>False</td>\n",
       "      <td>09 27, 2017</td>\n",
       "      <td>A2MJ8OL2FYN7CW</td>\n",
       "      <td>B00W259T7G</td>\n",
       "      <td>{'Size:': ' 250 Gram', 'Color:': ' Patchouli'}</td>\n",
       "      <td>Lynne E.</td>\n",
       "      <td>This PRE DE PROVENCE PATCHOULI SHEA BUTTER ENR...</td>\n",
       "      <td>Luxurious French Soap With Musky Masculine Fra...</td>\n",
       "      <td>1506470400</td>\n",
       "      <td>NaN</td>\n",
       "      <td>NaN</td>\n",
       "      <td>1</td>\n",
       "      <td>2017-09-27</td>\n",
       "    </tr>\n",
       "  </tbody>\n",
       "</table>\n",
       "</div>"
      ],
      "text/plain": [
       "      overall  verified   reviewTime      reviewerID        asin  \\\n",
       "4924      5.0     False  08 26, 2017  A2MJ8OL2FYN7CW  B00W259T7G   \n",
       "4187      5.0     False   09 4, 2017  A2MJ8OL2FYN7CW  B001LNODUS   \n",
       "4856      5.0     False  09 21, 2017  A2MJ8OL2FYN7CW  B00W259T7G   \n",
       "4849      5.0     False  09 27, 2017  A2MJ8OL2FYN7CW  B00W259T7G   \n",
       "4848      5.0     False  09 27, 2017  A2MJ8OL2FYN7CW  B00W259T7G   \n",
       "\n",
       "                                                style reviewerName  \\\n",
       "4924   {'Size:': ' 250 Gram', 'Color:': ' Olive Oil'}     Lynne E.   \n",
       "4187                        {'Color:': ' Shower Gel'}     Lynne E.   \n",
       "4856    {'Size:': ' 150 Gram', 'Color:': ' Sea Salt'}     Lynne E.   \n",
       "4849  {'Size:': ' 250 Gram', 'Color:': ' Sandalwood'}     Lynne E.   \n",
       "4848   {'Size:': ' 250 Gram', 'Color:': ' Patchouli'}     Lynne E.   \n",
       "\n",
       "                                             reviewText  \\\n",
       "4924  This PRE DE PROVENCE SHEA BUTTER ENRICHED ARTI...   \n",
       "4187  Lavender is my favorite soap fragrance, so it'...   \n",
       "4856  I love Pre de Provence soaps, but was intensel...   \n",
       "4849  This PRE DE PROVENCE Sandalwood SHEA BUTTER EN...   \n",
       "4848  This PRE DE PROVENCE PATCHOULI SHEA BUTTER ENR...   \n",
       "\n",
       "                                                summary  unixReviewTime vote  \\\n",
       "4924    Feels Luxurious, Doesn't Dry Out Sensitive Skin      1503705600  NaN   \n",
       "4187  Clear Gel Creates Nice Lather With Delicate La...      1504483200  NaN   \n",
       "4856  Luxurious French Soap Has Fresh Sea Breeze Fra...      1505952000    7   \n",
       "4849  Luxurious French Soap With Mild, Masculine Fra...      1506470400  NaN   \n",
       "4848  Luxurious French Soap With Musky Masculine Fra...      1506470400  NaN   \n",
       "\n",
       "     image  Score   UnixTime  \n",
       "4924   NaN      1 2017-08-26  \n",
       "4187   NaN      1 2017-09-04  \n",
       "4856   NaN      1 2017-09-21  \n",
       "4849   NaN      1 2017-09-27  \n",
       "4848   NaN      1 2017-09-27  "
      ]
     },
     "execution_count": 15,
     "metadata": {},
     "output_type": "execute_result"
    }
   ],
   "source": [
    "df_uniq.head()"
   ]
  },
  {
   "cell_type": "code",
   "execution_count": 16,
   "metadata": {
    "id": "S72Yh-rHCAZc",
    "outputId": "146c067f-081c-4e26-f527-71442ff83b8d"
   },
   "outputs": [
    {
     "data": {
      "text/plain": [
       "19.02"
      ]
     },
     "execution_count": 16,
     "metadata": {},
     "output_type": "execute_result"
    }
   ],
   "source": [
    "# What percent of data is unique\n",
    "np.round((df_uniq.shape[0]/df_sorted.shape[0])*100, 2)"
   ]
  },
  {
   "cell_type": "markdown",
   "metadata": {},
   "source": [
    "__Display full text__"
   ]
  },
  {
   "cell_type": "code",
   "execution_count": 17,
   "metadata": {},
   "outputs": [
    {
     "name": "stdout",
     "output_type": "stream",
     "text": [
      "428                                                                                                                                                                                                                                                                                                                                                                                                                                                                                                                                                                                                                                                                                                                                                                                                                                                                                                                                                                                                                                                                                                                                                                                                                                                                                                                                                                                                                                                                                                                                                                                                                                                                      Beautiful Beginnings have been the answer to my prayers when it comes to my daughter's very thick and curly hair. The shampoo, Detangler and Conditioner work like a charm together. Her hair was breaking too much prior to me using these, not, I only get a few strands when am all done washing and combing her hair. I can't seem to find them in the local Sally Beauty Supply nor grocery stores. Highly recommend!\n",
      "2175                                                                                                                                                                                                                                                                                                                                                                                                                                                                                                                                                                                                                                                                                                                                                                                                                                                                                                                                                                                                                                                                                                                                                                                                                                                                                                                                                                                                                                                                                                                                                                                                                                                                                                                                                                                                                                                                                                                                                                                                                                                          ALL WAS GREAT, NO PROBLEM WORKS FINE.\n",
      "462                                                                                                                                                                                                                                                                                                                                                                                                                                                                                                                                                                                                                                                                                                                                                                                                                                                                                                                                                                                                                                                                                                                                                                  I have fine hair that's oily at the crown and very dry brittle ends.  A year ago my stylist recommended the HBL products.  Now I can't live without them!  I use hydrating shampoo and the hair masque. Only a small dab needed.  The higher cost is made up for in value of the product. I occasionally change up shampoo by using the HBL volumizing shampoo.  With the hydrating I wash hair more quickly as it is rich but never leaves hair oily.  With the masque...I do use daily but I apply first at the brittle ends and then work up from there....basically only using the remaining residuals of the shampoo on my crown.  After washing I towel dry and after it begins to dry I then work into the dry ends, a pea sized amount of the HBL Shine and Seal.  Any residual on finger tips is lightly applied to areas with fly aways. My hair looks healthy and naturally shiny!  Products smell fresh and clean.\n",
      "123                                                                                                                                                                                                                                                                                                                                                                                                                                                                                                                                                                                                                                                                                                                                                                                                                                                                                                                                                                                                                                                                                                                                                                                                                                                                                                                                                                                                                                                                                                                                                                                                                                                                                                                                                                                                                                                                                                                                                                                   Christmas present.\\nMy son loves the variety. Inviting look.\\nEfficient packaging. Arrived in a few days.  :)\n",
      "24                                                                                                                                                                                                                                                                                                                                                                                                                                                                                                                                                                                                                                                                                                                                                                                                                                                                                                                                                                                                                                                                                                                                                                                                                                                                                                                                                                                                                                                                                                                                                                                                                                                                                                                                                                                                                                                                                                                                                                                                                                                                       Great. Just what I needed.\n",
      "236                                                                                                                                                                                                                                                                                                                                                                                                                                                                                                                                                                                                                                                                                                                                                                                                                                                                                                                                                                                                                                                                                                                                                                                                                                                                                                                                                                                                                                                                                                                                                                                                                                                                                                                                                                                                                                                                                                                                                                                                                                                                                      love them!\n",
      "430                                                                                                                                                                                                                                                                                                                                                                                                                                                                                                                                                                                                                                                                                                                                                                                                                                                                                                                                                                                                                                                                                                                                                                                                                                                                                                                                                                                                                                                                                                                                                                                                                                                                                                                                                                                                                                                                                                                                              Great buy\\nProduct works very wel;l.  Leaves skin smooth and soft\\nIf you use Estee Lauder products,  Amnazon is great place to save money on them\n",
      "865                                                                                                                                                                                                                                                                                                                                                                                                                                                                                                                                                                                                                                                                                                                                                                                                                                                                                                                                                                                                                                                                                                                                                                                                                                                                                                                                                                                                                                                                                                                                                                                                                                                                                                            This soap has a very pleasant smell, but most importantly it is very concentrated and so you don't need to use as much soap (saving you money and resources).  I used this for medical reasons (jock itch) and found that the tea tree solution helps.  However Tea Tree is often very costly and to be able to buy this in bulk at such a good value... I would strongly recommend.\n",
      "867                                                                                                                                                                                                                                                                                                                                                                                                                                                                                                                                                                                                                                                                                                                                                                                                                                                                                                                                                                                                                                                                                                                                                                                                                                                                                                                                                                                                                                                                                                                                                                                                                                                                                                                                                                                                                                                                                                                                    This is a great product for pampering yourself.  I would recommend purchasing extra bottles as they make great gifts.  This product is hard to find locally.\n",
      "4796    I have this in \"Berry Seductive\" but I've had a great experience with it and would certainly purchase it in other colors.\\n\\nAs you can see from the product image, this comes with two products -- a lip stain and a balm -- in one container.  I have found that I only needed to apply the lip stain (or liquid lipstick, or whatever you want to call it) once and it lasted throughout an entire work day.  So they're not lying about the 16 hours (well, I probably wore it for more like 10 or 11 hours, but it still looked good and was a bit difficult to remove at the end of that time).  I applied it using the doefoot applicator it comes with and then kept my lips slightly open while I let it dry.\\n\\nI gave it a few minutes and did other things to get ready, then applied the balm over it.  The balm has a similar applicator to the lip stain part.  The balm (or you might call it a gloss) is clear.  It did pick up some of the color of the stain on the applicator when I used it, but no big deal since I'm only going to ever use the balm *with* the stain.  Anyway, although the stain itself was rather drying, using the second step made this product completely comfortable to wear.  I did have to reapply the balm a few times throughout the day.\\n\\nI did not get much color transfer to mugs and I did not lose much color over the course of the day.  I found the appearance of the product quite acceptable at the end of the day.  It was actually a bit difficult to get off; I used a dual phase liquid makeup remover on a cotton pad and I kind of had to scrub.  You may want to finish up with a lip scrub to ensure complete removal.  Anyway, this stuff has staying power.\\n\\nThe berry color I had was more of a cool red than a true berry color, at least on my lips.  I really liked the color.  I'm pale, but I think it would show up on people with darker skin tones as well.  This was non-irritating and didn't have a noticeable fragrance.\\n\\nOverall, I'm very happy with this product.  Definitely glad I bought it.\n",
      "Name: reviewText, dtype: object\n"
     ]
    }
   ],
   "source": [
    "pd.set_option('display.max_colwidth', None)\n",
    "print(df_uniq.reviewText.sample(10))"
   ]
  },
  {
   "cell_type": "markdown",
   "metadata": {
    "id": "RxBsuBylCAZr"
   },
   "source": [
    "<div class=\"alert alert-info\" style=\"background-color:#006a79; color:white; padding:0px 10px; border-radius:5px;\"><h2 style='margin:10px 5px'>4d. Code Demo - Preprocessing Text Data</h2>\n",
    "</div>\n",
    "\n",
    "Let's preprocess the text before we go on further with analysis and making the prediction model. Often, the text people write in online comments and reviews contain html links and other html tags. \n",
    "\n",
    "We will need to get rid of them and is sort of a standard step to do when dealing with text data collected online. \n",
    "\n",
    "We also don't want punctuations, special non-english characters, stop words that don't add value to the text etc. Also let's convert all of the text to lowercase.\n",
    "\n",
    "1. Remove html tags\n",
    "2. Remove punctuations or limited set of special characters like , . # etc.\n",
    "3. Make sure words are made of english letters and are not alpha-numeric\n",
    "4. See if the length of the word is greater than 2\n",
    "5. Convert to lowercase\n",
    "6. Remove Stopwords, that is, words that dont add much to the meaning.\n",
    "7. Finally Snowball Stemming the word<br>"
   ]
  },
  {
   "cell_type": "code",
   "execution_count": 18,
   "metadata": {
    "id": "laOGMFB7CAZt",
    "outputId": "49d82795-cea4-4695-9834-45978266f6f4"
   },
   "outputs": [
    {
     "name": "stdout",
     "output_type": "stream",
     "text": [
      "This PRE DE PROVENCE SHEA BUTTER ENRICHED ARTISANAL FRENCH SOAP BAR (Olive Oil (250 g)) lathers beautifully, and feels luxurious.  It doesn't dry out or irritate my sensitive skin, so I can use it every day.  This is a large 250 gram olive oil bar that gives good value for the money (about $7 on Amazon).\n"
     ]
    }
   ],
   "source": [
    "# print some random reviews\n",
    "s0 = df_uniq['reviewText'].values[0]\n",
    "print(s0)"
   ]
  },
  {
   "cell_type": "code",
   "execution_count": 20,
   "metadata": {
    "id": "laOGMFB7CAZt",
    "outputId": "49d82795-cea4-4695-9834-45978266f6f4"
   },
   "outputs": [
    {
     "name": "stdout",
     "output_type": "stream",
     "text": [
      "In really like these. I wear between a 9-9.5 womens, I got the 9.5 and they fit perfectly. They are light weight but have good support. I will buy another pair.\n"
     ]
    }
   ],
   "source": [
    "s50 = df_uniq['reviewText'].values[50]\n",
    "print(s50)"
   ]
  },
  {
   "cell_type": "code",
   "execution_count": 21,
   "metadata": {
    "id": "laOGMFB7CAZt",
    "outputId": "49d82795-cea4-4695-9834-45978266f6f4"
   },
   "outputs": [
    {
     "name": "stdout",
     "output_type": "stream",
     "text": [
      "I am so disappointed that Avon discontinued this item because this is a great cleanser.  Scents are great, love the particles for cleansing and the fact that it does not break my skin out like many of the heavily perfumed items from the Body shop and Bath & Body Works. Great stuff, wish I could buy it buy the case!  Thanks for Amazon sites still offering it!\n"
     ]
    }
   ],
   "source": [
    "s1000 = df_uniq['reviewText'].values[1000]\n",
    "print(s1000)"
   ]
  },
  {
   "cell_type": "code",
   "execution_count": 26,
   "metadata": {},
   "outputs": [
    {
     "name": "stdout",
     "output_type": "stream",
     "text": [
      "I have this in \"Berry Seductive\" but I've had a great experience with it and would certainly purchase it in other colors.\n",
      "\n",
      "As you can see from the product image, this comes with two products -- a lip stain and a balm -- in one container.  I have found that I only needed to apply the lip stain (or liquid lipstick, or whatever you want to call it) once and it lasted throughout an entire work day.  So they're not lying about the 16 hours (well, I probably wore it for more like 10 or 11 hours, but it still looked good and was a bit difficult to remove at the end of that time).  I applied it using the doefoot applicator it comes with and then kept my lips slightly open while I let it dry.\n",
      "\n",
      "I gave it a few minutes and did other things to get ready, then applied the balm over it.  The balm has a similar applicator to the lip stain part.  The balm (or you might call it a gloss) is clear.  It did pick up some of the color of the stain on the applicator when I used it, but no big deal since I'm only going to ever use the balm *with* the stain.  Anyway, although the stain itself was rather drying, using the second step made this product completely comfortable to wear.  I did have to reapply the balm a few times throughout the day.\n",
      "\n",
      "I did not get much color transfer to mugs and I did not lose much color over the course of the day.  I found the appearance of the product quite acceptable at the end of the day.  It was actually a bit difficult to get off; I used a dual phase liquid makeup remover on a cotton pad and I kind of had to scrub.  You may want to finish up with a lip scrub to ensure complete removal.  Anyway, this stuff has staying power.\n",
      "\n",
      "The berry color I had was more of a cool red than a true berry color, at least on my lips.  I really liked the color.  I'm pale, but I think it would show up on people with darker skin tones as well.  This was non-irritating and didn't have a noticeable fragrance.\n",
      "\n",
      "Overall, I'm very happy with this product.  Definitely glad I bought it.\n"
     ]
    }
   ],
   "source": [
    "s4796 = df_uniq.loc[4796, 'reviewText']\n",
    "print(s4796)"
   ]
  },
  {
   "cell_type": "markdown",
   "metadata": {},
   "source": [
    "__Remove URLS__"
   ]
  },
  {
   "cell_type": "code",
   "execution_count": 22,
   "metadata": {
    "id": "MvD0JaQ9CAZx",
    "outputId": "dcc683d4-6014-4430-fb91-f9526bca4475"
   },
   "outputs": [
    {
     "name": "stdout",
     "output_type": "stream",
     "text": [
      "This PRE DE PROVENCE SHEA BUTTER ENRICHED ARTISANAL FRENCH SOAP BAR (Olive Oil (250 g)) lathers beautifully, and feels luxurious.  It doesn't dry out or irritate my sensitive skin, so I can use it every day.  This is a large 250 gram olive oil bar that gives good value for the money (about $7 on Amazon).\n"
     ]
    }
   ],
   "source": [
    "# remove urls from text python: https://stackoverflow.com/a/40823105/4084039\n",
    "sent_0 = re.sub(r\"http\\S+\", \"\", s0)\n",
    "sent_1000 = re.sub(r\"http\\S+\", \"\", s1000)\n",
    "sent_50 = re.sub(r\"http\\S+\", \"\", s50)\n",
    "\n",
    "print(sent_0)"
   ]
  },
  {
   "cell_type": "markdown",
   "metadata": {},
   "source": [
    "__Remove URLs and all other HTML tags__"
   ]
  },
  {
   "cell_type": "code",
   "execution_count": 23,
   "metadata": {
    "id": "Liu2zNFLCAZ0",
    "outputId": "f66770ef-17d3-4a99-df7f-75242858701d"
   },
   "outputs": [
    {
     "name": "stdout",
     "output_type": "stream",
     "text": [
      "This PRE DE PROVENCE SHEA BUTTER ENRICHED ARTISANAL FRENCH SOAP BAR (Olive Oil (250 g)) lathers beautifully, and feels luxurious.  It doesn't dry out or irritate my sensitive skin, so I can use it every day.  This is a large 250 gram olive oil bar that gives good value for the money (about $7 on Amazon).\n",
      "----------------------------------------------------------------------------------------------------\n",
      "I am so disappointed that Avon discontinued this item because this is a great cleanser.  Scents are great, love the particles for cleansing and the fact that it does not break my skin out like many of the heavily perfumed items from the Body shop and Bath & Body Works. Great stuff, wish I could buy it buy the case!  Thanks for Amazon sites still offering it!\n",
      "----------------------------------------------------------------------------------------------------\n",
      "In really like these. I wear between a 9-9.5 womens, I got the 9.5 and they fit perfectly. They are light weight but have good support. I will buy another pair.\n",
      "----------------------------------------------------------------------------------------------------\n"
     ]
    }
   ],
   "source": [
    "# https://stackoverflow.com/questions/16206380/python-beautifulsoup-how-to-remove-all-tags-from-an-element\n",
    "from bs4 import BeautifulSoup\n",
    "\n",
    "soup = BeautifulSoup(s0, 'lxml')\n",
    "text = soup.get_text()\n",
    "print(text)\n",
    "print(\"-\"*100)\n",
    "\n",
    "soup = BeautifulSoup(s1000, 'lxml')\n",
    "text = soup.get_text()\n",
    "print(text)\n",
    "print(\"-\"*100)\n",
    "\n",
    "soup = BeautifulSoup(s50, 'lxml')\n",
    "text = soup.get_text()\n",
    "print(text)\n",
    "print(\"-\"*100)"
   ]
  },
  {
   "cell_type": "markdown",
   "metadata": {},
   "source": [
    "__Expand the words__"
   ]
  },
  {
   "cell_type": "code",
   "execution_count": 27,
   "metadata": {
    "id": "lNHWbzBaCAZ3"
   },
   "outputs": [],
   "source": [
    "# https://stackoverflow.com/a/47091490/4084039\n",
    "def expand(phrase):\n",
    "    phrase = re.sub(r\"won't\", \"will not\", phrase)\n",
    "    phrase = re.sub(r\"can\\'t\", \"can not\", phrase)\n",
    "    phrase = re.sub(r\"n\\'t\", \" not\", phrase)\n",
    "    phrase = re.sub(r\"\\'re\", \" are\", phrase)\n",
    "    phrase = re.sub(r\"\\'s\", \" is\", phrase)\n",
    "    phrase = re.sub(r\"\\'d\", \" would\", phrase)\n",
    "    phrase = re.sub(r\"\\'ll\", \" will\", phrase)\n",
    "    phrase = re.sub(r\"\\'t\", \" not\", phrase)\n",
    "    phrase = re.sub(r\"\\'ve\", \" have\", phrase)\n",
    "    phrase = re.sub(r\"\\'m\", \" am\", phrase)\n",
    "    return phrase"
   ]
  },
  {
   "cell_type": "code",
   "execution_count": 28,
   "metadata": {
    "id": "y7v1fmngCAZ5",
    "outputId": "22e3fcb6-c2e6-4c92-be48-f65543b1140f"
   },
   "outputs": [
    {
     "name": "stdout",
     "output_type": "stream",
     "text": [
      "I have this in \"Berry Seductive\" but I've had a great experience with it and would certainly purchase it in other colors.\n",
      "\n",
      "As you can see from the product image, this comes with two products -- a lip stain and a balm -- in one container.  I have found that I only needed to apply the lip stain (or liquid lipstick, or whatever you want to call it) once and it lasted throughout an entire work day.  So they're not lying about the 16 hours (well, I probably wore it for more like 10 or 11 hours, but it still looked good and was a bit difficult to remove at the end of that time).  I applied it using the doefoot applicator it comes with and then kept my lips slightly open while I let it dry.\n",
      "\n",
      "I gave it a few minutes and did other things to get ready, then applied the balm over it.  The balm has a similar applicator to the lip stain part.  The balm (or you might call it a gloss) is clear.  It did pick up some of the color of the stain on the applicator when I used it, but no big deal since I'm only going to ever use the balm *with* the stain.  Anyway, although the stain itself was rather drying, using the second step made this product completely comfortable to wear.  I did have to reapply the balm a few times throughout the day.\n",
      "\n",
      "I did not get much color transfer to mugs and I did not lose much color over the course of the day.  I found the appearance of the product quite acceptable at the end of the day.  It was actually a bit difficult to get off; I used a dual phase liquid makeup remover on a cotton pad and I kind of had to scrub.  You may want to finish up with a lip scrub to ensure complete removal.  Anyway, this stuff has staying power.\n",
      "\n",
      "The berry color I had was more of a cool red than a true berry color, at least on my lips.  I really liked the color.  I'm pale, but I think it would show up on people with darker skin tones as well.  This was non-irritating and didn't have a noticeable fragrance.\n",
      "\n",
      "Overall, I'm very happy with this product.  Definitely glad I bought it.\n",
      "----------------------------------------------------------------------------------------------------\n",
      "I have this in \"Berry Seductive\" but I have had a great experience with it and would certainly purchase it in other colors.\n",
      "\n",
      "As you can see from the product image, this comes with two products -- a lip stain and a balm -- in one container.  I have found that I only needed to apply the lip stain (or liquid lipstick, or whatever you want to call it) once and it lasted throughout an entire work day.  So they are not lying about the 16 hours (well, I probably wore it for more like 10 or 11 hours, but it still looked good and was a bit difficult to remove at the end of that time).  I applied it using the doefoot applicator it comes with and then kept my lips slightly open while I let it dry.\n",
      "\n",
      "I gave it a few minutes and did other things to get ready, then applied the balm over it.  The balm has a similar applicator to the lip stain part.  The balm (or you might call it a gloss) is clear.  It did pick up some of the color of the stain on the applicator when I used it, but no big deal since I am only going to ever use the balm *with* the stain.  Anyway, although the stain itself was rather drying, using the second step made this product completely comfortable to wear.  I did have to reapply the balm a few times throughout the day.\n",
      "\n",
      "I did not get much color transfer to mugs and I did not lose much color over the course of the day.  I found the appearance of the product quite acceptable at the end of the day.  It was actually a bit difficult to get off; I used a dual phase liquid makeup remover on a cotton pad and I kind of had to scrub.  You may want to finish up with a lip scrub to ensure complete removal.  Anyway, this stuff has staying power.\n",
      "\n",
      "The berry color I had was more of a cool red than a true berry color, at least on my lips.  I really liked the color.  I am pale, but I think it would show up on people with darker skin tones as well.  This was non-irritating and did not have a noticeable fragrance.\n",
      "\n",
      "Overall, I am very happy with this product.  Definitely glad I bought it.\n"
     ]
    }
   ],
   "source": [
    "s4796_ = expand(s4796)\n",
    "print(s4796)\n",
    "print(\"\\n\",\"-\"*100, \"\\n\")\n",
    "print(s4796_)"
   ]
  },
  {
   "cell_type": "markdown",
   "metadata": {},
   "source": [
    "__Remove words with numbers__"
   ]
  },
  {
   "cell_type": "code",
   "execution_count": 29,
   "metadata": {
    "id": "jKIBLrAjCAZ7",
    "outputId": "376f1e55-511a-4352-c345-a39f1d2a2224"
   },
   "outputs": [
    {
     "name": "stdout",
     "output_type": "stream",
     "text": [
      "I have this in \"Berry Seductive\" but I've had a great experience with it and would certainly purchase it in other colors.\n",
      "\n",
      "As you can see from the product image, this comes with two products -- a lip stain and a balm -- in one container.  I have found that I only needed to apply the lip stain (or liquid lipstick, or whatever you want to call it) once and it lasted throughout an entire work day.  So they're not lying about the  hours (well, I probably wore it for more like  or  hours, but it still looked good and was a bit difficult to remove at the end of that time).  I applied it using the doefoot applicator it comes with and then kept my lips slightly open while I let it dry.\n",
      "\n",
      "I gave it a few minutes and did other things to get ready, then applied the balm over it.  The balm has a similar applicator to the lip stain part.  The balm (or you might call it a gloss) is clear.  It did pick up some of the color of the stain on the applicator when I used it, but no big deal since I'm only going to ever use the balm *with* the stain.  Anyway, although the stain itself was rather drying, using the second step made this product completely comfortable to wear.  I did have to reapply the balm a few times throughout the day.\n",
      "\n",
      "I did not get much color transfer to mugs and I did not lose much color over the course of the day.  I found the appearance of the product quite acceptable at the end of the day.  It was actually a bit difficult to get off; I used a dual phase liquid makeup remover on a cotton pad and I kind of had to scrub.  You may want to finish up with a lip scrub to ensure complete removal.  Anyway, this stuff has staying power.\n",
      "\n",
      "The berry color I had was more of a cool red than a true berry color, at least on my lips.  I really liked the color.  I'm pale, but I think it would show up on people with darker skin tones as well.  This was non-irritating and didn't have a noticeable fragrance.\n",
      "\n",
      "Overall, I'm very happy with this product.  Definitely glad I bought it.\n"
     ]
    }
   ],
   "source": [
    "# Remove words with numbers python: https://stackoverflow.com/a/18082370/4084039\n",
    "s4796_ = re.sub(\"\\S*\\d\\S*\", \"\", s4796).strip()\n",
    "print(s4796_)"
   ]
  },
  {
   "cell_type": "markdown",
   "metadata": {},
   "source": [
    "_Notice '16 hours' became 'hours'_"
   ]
  },
  {
   "cell_type": "markdown",
   "metadata": {},
   "source": [
    "__Remove special characters__"
   ]
  },
  {
   "cell_type": "code",
   "execution_count": 32,
   "metadata": {
    "id": "sU3eY6geCAZ9",
    "outputId": "90d91c93-0d77-47c0-e496-77d1611a86fb"
   },
   "outputs": [
    {
     "name": "stdout",
     "output_type": "stream",
     "text": [
      "I have this in \"Berry Seductive\" but I've had a great experience with it and would certainly purchase it in other colors.\n",
      "\n",
      "As you can see from the product image, this comes with two products -- a lip stain and a balm -- in one container.  I have found that I only needed to apply the lip stain (or liquid lipstick, or whatever you want to call it) once and it lasted throughout an entire work day.  So they're not lying about the 16 hours (well, I probably wore it for more like 10 or 11 hours, but it still looked good and was a bit difficult to remove at the end of that time).  I applied it using the doefoot applicator it comes with and then kept my lips slightly open while I let it dry.\n",
      "\n",
      "I gave it a few minutes and did other things to get ready, then applied the balm over it.  The balm has a similar applicator to the lip stain part.  The balm (or you might call it a gloss) is clear.  It did pick up some of the color of the stain on the applicator when I used it, but no big deal since I'm only going to ever use the balm *with* the stain.  Anyway, although the stain itself was rather drying, using the second step made this product completely comfortable to wear.  I did have to reapply the balm a few times throughout the day.\n",
      "\n",
      "I did not get much color transfer to mugs and I did not lose much color over the course of the day.  I found the appearance of the product quite acceptable at the end of the day.  It was actually a bit difficult to get off; I used a dual phase liquid makeup remover on a cotton pad and I kind of had to scrub.  You may want to finish up with a lip scrub to ensure complete removal.  Anyway, this stuff has staying power.\n",
      "\n",
      "The berry color I had was more of a cool red than a true berry color, at least on my lips.  I really liked the color.  I'm pale, but I think it would show up on people with darker skin tones as well.  This was non-irritating and didn't have a noticeable fragrance.\n",
      "\n",
      "Overall, I'm very happy with this product.  Definitely glad I bought it.\n",
      "\n",
      " ---------------------------------------------------------------------------------------------------- \n",
      "\n",
      "I have this in Berry Seductive but I ve had a great experience with it and would certainly purchase it in other colors As you can see from the product image this comes with two products a lip stain and a balm in one container I have found that I only needed to apply the lip stain or liquid lipstick or whatever you want to call it once and it lasted throughout an entire work day So they re not lying about the 16 hours well I probably wore it for more like 10 or 11 hours but it still looked good and was a bit difficult to remove at the end of that time I applied it using the doefoot applicator it comes with and then kept my lips slightly open while I let it dry I gave it a few minutes and did other things to get ready then applied the balm over it The balm has a similar applicator to the lip stain part The balm or you might call it a gloss is clear It did pick up some of the color of the stain on the applicator when I used it but no big deal since I m only going to ever use the balm with the stain Anyway although the stain itself was rather drying using the second step made this product completely comfortable to wear I did have to reapply the balm a few times throughout the day I did not get much color transfer to mugs and I did not lose much color over the course of the day I found the appearance of the product quite acceptable at the end of the day It was actually a bit difficult to get off I used a dual phase liquid makeup remover on a cotton pad and I kind of had to scrub You may want to finish up with a lip scrub to ensure complete removal Anyway this stuff has staying power The berry color I had was more of a cool red than a true berry color at least on my lips I really liked the color I m pale but I think it would show up on people with darker skin tones as well This was non irritating and didn t have a noticeable fragrance Overall I m very happy with this product Definitely glad I bought it \n"
     ]
    }
   ],
   "source": [
    "#remove spacial character: https://stackoverflow.com/a/5843547/4084039\n",
    "s4796_ = re.sub('[^A-Za-z0-9]+', ' ', s4796)\n",
    "print(s4796)\n",
    "print(\"\\n\", \"-\"*100, \"\\n\")\n",
    "print(s4796_)"
   ]
  },
  {
   "cell_type": "markdown",
   "metadata": {},
   "source": [
    "__Remove stop words__"
   ]
  },
  {
   "cell_type": "code",
   "execution_count": 33,
   "metadata": {
    "id": "Xsr4xHkJCAaA"
   },
   "outputs": [],
   "source": [
    "stopwords= set(['br', 'the', 'i', 'me', 'my', 'myself', 'we', 'our', 'ours', 'ourselves', 'you', \"you're\", \"you've\",\\\n",
    "            \"you'll\", \"you'd\", 'your', 'yours', 'yourself', 'yourselves', 'he', 'him', 'his', 'himself', \\\n",
    "            'she', \"she's\", 'her', 'hers', 'herself', 'it', \"it's\", 'its', 'itself', 'they', 'them', 'their',\\\n",
    "            'theirs', 'themselves', 'what', 'which', 'who', 'whom', 'this', 'that', \"that'll\", 'these', 'those', \\\n",
    "            'am', 'is', 'are', 'was', 'were', 'be', 'been', 'being', 'have', 'has', 'had', 'having', 'do', 'does', \\\n",
    "            'did', 'doing', 'a', 'an', 'the', 'and', 'but', 'if', 'or', 'because', 'as', 'until', 'while', 'of', \\\n",
    "            'at', 'by', 'for', 'with', 'about', 'against', 'between', 'into', 'through', 'during', 'before', 'after',\\\n",
    "            'above', 'below', 'to', 'from', 'up', 'down', 'in', 'out', 'on', 'off', 'over', 'under', 'again', 'further',\\\n",
    "            'then', 'once', 'here', 'there', 'when', 'where', 'why', 'how', 'all', 'any', 'both', 'each', 'few', 'more',\\\n",
    "            'most', 'other', 'some', 'such', 'only', 'own', 'same', 'so', 'than', 'too', 'very', \\\n",
    "            's', 't', 'can', 'will', 'just', 'don', \"don't\", 'should', \"should've\", 'now', 'd', 'll', 'm', 'o', 're', \\\n",
    "            've', 'y', 'ain', 'aren', \"aren't\", 'couldn', \"couldn't\", 'didn', \"didn't\", 'doesn', \"doesn't\", 'hadn',\\\n",
    "            \"hadn't\", 'hasn', \"hasn't\", 'haven', \"haven't\", 'isn', \"isn't\", 'ma', 'mightn', \"mightn't\", 'mustn',\\\n",
    "            \"mustn't\", 'needn', \"needn't\", 'shan', \"shan't\", 'shouldn', \"shouldn't\", 'wasn', \"wasn't\", 'weren', \"weren't\", \\\n",
    "            'won', \"won't\", 'wouldn', \"wouldn't\"])"
   ]
  },
  {
   "cell_type": "markdown",
   "metadata": {},
   "source": [
    "__Combine all steps in one__"
   ]
  },
  {
   "cell_type": "code",
   "execution_count": 34,
   "metadata": {
    "id": "MgsJ09NpCAaB",
    "outputId": "1d7ef7e7-d03e-4bff-850a-a2aef70af7d9"
   },
   "outputs": [],
   "source": [
    "# Combine all the steps in one\n",
    "def textprocess(text_series):    \n",
    "    output = []\n",
    "    for i, sent in enumerate(text_series.values):\n",
    "        try:\n",
    "            sent = re.sub(r\"http\\S+\", \"\", sent)\n",
    "            sent = BeautifulSoup(sent, 'lxml').get_text()\n",
    "            sent = expand(sent)\n",
    "            sent = re.sub(\"\\S*\\d\\S*\", \"\", sent).strip()\n",
    "            sent = re.sub('[^A-Za-z]+', ' ', sent)\n",
    "            sent = ' '.join(e.lower() for e in sent.split() if e.lower() not in stopwords)\n",
    "            output.append(sent.strip())\n",
    "        except:\n",
    "            print(i, sent)\n",
    "            output.append(None)\n",
    "    return output"
   ]
  },
  {
   "cell_type": "code",
   "execution_count": 35,
   "metadata": {},
   "outputs": [
    {
     "name": "stdout",
     "output_type": "stream",
     "text": [
      "496 nan\n",
      "580 nan\n",
      "1863 nan\n"
     ]
    }
   ],
   "source": [
    "df_uniq['processedText'] = textprocess(df_uniq['reviewText'])"
   ]
  },
  {
   "cell_type": "code",
   "execution_count": 36,
   "metadata": {},
   "outputs": [
    {
     "data": {
      "text/html": [
       "<div>\n",
       "<style scoped>\n",
       "    .dataframe tbody tr th:only-of-type {\n",
       "        vertical-align: middle;\n",
       "    }\n",
       "\n",
       "    .dataframe tbody tr th {\n",
       "        vertical-align: top;\n",
       "    }\n",
       "\n",
       "    .dataframe thead th {\n",
       "        text-align: right;\n",
       "    }\n",
       "</style>\n",
       "<table border=\"1\" class=\"dataframe\">\n",
       "  <thead>\n",
       "    <tr style=\"text-align: right;\">\n",
       "      <th></th>\n",
       "      <th>overall</th>\n",
       "      <th>verified</th>\n",
       "      <th>reviewTime</th>\n",
       "      <th>reviewerID</th>\n",
       "      <th>asin</th>\n",
       "      <th>style</th>\n",
       "      <th>reviewerName</th>\n",
       "      <th>reviewText</th>\n",
       "      <th>summary</th>\n",
       "      <th>unixReviewTime</th>\n",
       "      <th>vote</th>\n",
       "      <th>image</th>\n",
       "      <th>Score</th>\n",
       "      <th>UnixTime</th>\n",
       "      <th>processedText</th>\n",
       "    </tr>\n",
       "  </thead>\n",
       "  <tbody>\n",
       "    <tr>\n",
       "      <th>172</th>\n",
       "      <td>5.0</td>\n",
       "      <td>True</td>\n",
       "      <td>04 7, 2018</td>\n",
       "      <td>A1CKPC88NHMYGR</td>\n",
       "      <td>B001IKJOLW</td>\n",
       "      <td>{'Size:': ' 11 B(M) US', 'Color:': ' Wolf Grey/Black-pink Blast/White'}</td>\n",
       "      <td>Cynthia Foyer</td>\n",
       "      <td>NaN</td>\n",
       "      <td>Five Stars</td>\n",
       "      <td>1523059200</td>\n",
       "      <td>NaN</td>\n",
       "      <td>[https://images-na.ssl-images-amazon.com/images/I/61ifu-JvzQL._SY88.jpg]</td>\n",
       "      <td>1</td>\n",
       "      <td>2018-04-07</td>\n",
       "      <td>None</td>\n",
       "    </tr>\n",
       "    <tr>\n",
       "      <th>285</th>\n",
       "      <td>5.0</td>\n",
       "      <td>True</td>\n",
       "      <td>07 18, 2017</td>\n",
       "      <td>AN5PL4KUZS35E</td>\n",
       "      <td>B001IKJOLW</td>\n",
       "      <td>{'Size:': ' 9.5 B(M) US', 'Color:': ' Black/White/Anthracite/Stealth'}</td>\n",
       "      <td>Dilly Anderson</td>\n",
       "      <td>NaN</td>\n",
       "      <td>Five Stars</td>\n",
       "      <td>1500336000</td>\n",
       "      <td>NaN</td>\n",
       "      <td>NaN</td>\n",
       "      <td>1</td>\n",
       "      <td>2017-07-18</td>\n",
       "      <td>None</td>\n",
       "    </tr>\n",
       "    <tr>\n",
       "      <th>359</th>\n",
       "      <td>5.0</td>\n",
       "      <td>True</td>\n",
       "      <td>02 28, 2015</td>\n",
       "      <td>A3DA9MP7OGLPC0</td>\n",
       "      <td>B00006L9LC</td>\n",
       "      <td>{'Size:': ' 38'}</td>\n",
       "      <td>verenice</td>\n",
       "      <td>NaN</td>\n",
       "      <td>Five Stars</td>\n",
       "      <td>1425081600</td>\n",
       "      <td>NaN</td>\n",
       "      <td>NaN</td>\n",
       "      <td>1</td>\n",
       "      <td>2015-02-28</td>\n",
       "      <td>None</td>\n",
       "    </tr>\n",
       "  </tbody>\n",
       "</table>\n",
       "</div>"
      ],
      "text/plain": [
       "     overall  verified   reviewTime      reviewerID        asin  \\\n",
       "172      5.0      True   04 7, 2018  A1CKPC88NHMYGR  B001IKJOLW   \n",
       "285      5.0      True  07 18, 2017   AN5PL4KUZS35E  B001IKJOLW   \n",
       "359      5.0      True  02 28, 2015  A3DA9MP7OGLPC0  B00006L9LC   \n",
       "\n",
       "                                                                       style  \\\n",
       "172  {'Size:': ' 11 B(M) US', 'Color:': ' Wolf Grey/Black-pink Blast/White'}   \n",
       "285   {'Size:': ' 9.5 B(M) US', 'Color:': ' Black/White/Anthracite/Stealth'}   \n",
       "359                                                         {'Size:': ' 38'}   \n",
       "\n",
       "       reviewerName reviewText     summary  unixReviewTime vote  \\\n",
       "172   Cynthia Foyer        NaN  Five Stars      1523059200  NaN   \n",
       "285  Dilly Anderson        NaN  Five Stars      1500336000  NaN   \n",
       "359        verenice        NaN  Five Stars      1425081600  NaN   \n",
       "\n",
       "                                                                        image  \\\n",
       "172  [https://images-na.ssl-images-amazon.com/images/I/61ifu-JvzQL._SY88.jpg]   \n",
       "285                                                                       NaN   \n",
       "359                                                                       NaN   \n",
       "\n",
       "     Score   UnixTime processedText  \n",
       "172      1 2018-04-07          None  \n",
       "285      1 2017-07-18          None  \n",
       "359      1 2015-02-28          None  "
      ]
     },
     "execution_count": 36,
     "metadata": {},
     "output_type": "execute_result"
    }
   ],
   "source": [
    "df_uniq.loc[df_uniq['processedText'].isnull(), :]"
   ]
  },
  {
   "cell_type": "markdown",
   "metadata": {},
   "source": [
    "__Drop rows the contain null texts__"
   ]
  },
  {
   "cell_type": "code",
   "execution_count": 37,
   "metadata": {},
   "outputs": [],
   "source": [
    "df_uniq = df_uniq.loc[df_uniq['processedText'].notnull(), :]"
   ]
  },
  {
   "cell_type": "markdown",
   "metadata": {},
   "source": [
    "__View__"
   ]
  },
  {
   "cell_type": "code",
   "execution_count": 38,
   "metadata": {
    "id": "f_zfwXXWCAaE",
    "outputId": "a8ba4cbf-3a4c-4447-f06a-2b639e1a5f88"
   },
   "outputs": [
    {
     "data": {
      "text/plain": [
       "4924                                                                                                                                                                                                                                                                                                                                                                                                                                                                                                                                                                            pre de provence shea butter enriched artisanal french soap bar olive oil g lathers beautifully feels luxurious not dry irritate sensitive skin use every day large gram olive oil bar gives good value money amazon\n",
       "4187                                                                                                                                                                                                                                                                                                                                                                                      lavender favorite soap fragrance no surprise love pre de provence french lavender bath shower gel shower pump two enough nice lather lather washes easily lavender fragrance delicate lingers short time not overwhelm perfume aftershave lotion shampoo scented products may like use clear gel arrives attractive square pump dispenser shower gel leaves skin silky smooth not irritate sensitive skin\n",
       "4856    love pre de provence soaps intensely curious sea salt bar would smell like would want wash hands sea salt happily pre de provence sea salt french soap bar ounce no different pre de provence soaps smells wonderful produces rich thick lather fragrance hard describe kind floral maybe best described fresh sea breeze makes one think fresh air sunshine fragrance not linger overlong soap not irritate sensitive skin may little drying pre de provence soaps unless imagination working overtime soap definitely contains salt ingredients sodium palmate sodium palm kernelate water fragrance palm acid titanium dioxide glycerin palm kernel acid sodium chloride shea butter sodium hydroxide tetrasodium edta tetrasodium etidronate benzyl salicylate linalool geraniol citral\n",
       "4849                                                                                                                                                                                                                                                                                                                                                                                                                                                                                                   pre de provence sandalwood shea butter enriched soap gram appeal male members household mild woody fragrance pre de provence soaps fairly strong flowery fragrances large bar luxurious french soap lathers beautifully fragrance never lingers long soap gentle not irritate sensitive skin\n",
       "4848                                                                                                                                                                                                                                                                                                  pre de provence patchouli shea butter enriched soap gram mild musky fragrance many women find sexy fragrance risky people including smells like fungus damp basement still soap may appeal male household members different pre de provence soaps fairly strong flowery fragrances large bar luxurious french soap lathers beautifully fragrance never lingers long soap gentle not irritate sensitive skin men much safer pre de provence soap sandalwood bar see pre de provence sandalwood\n",
       "Name: processedText, dtype: object"
      ]
     },
     "execution_count": 38,
     "metadata": {},
     "output_type": "execute_result"
    }
   ],
   "source": [
    "df_uniq['processedText'].head()"
   ]
  },
  {
   "cell_type": "markdown",
   "metadata": {
    "id": "tmeU-LoVCAaI"
   },
   "source": [
    "<div class=\"alert alert-info\" style=\"background-color:#006a79; color:white; padding:0px 10px; border-radius:5px;\"><h2 style='margin:10px 5px'>5. Preprocessing Review Summary Data</h2>\n",
    "</div>"
   ]
  },
  {
   "cell_type": "code",
   "execution_count": 39,
   "metadata": {},
   "outputs": [
    {
     "data": {
      "text/plain": [
       "4924               Feels Luxurious, Doesn't Dry Out Sensitive Skin\n",
       "4187    Clear Gel Creates Nice Lather With Delicate Lavender Scent\n",
       "4856          Luxurious French Soap Has Fresh Sea Breeze Fragrance\n",
       "4849          Luxurious French Soap With Mild, Masculine Fragrance\n",
       "4848          Luxurious French Soap With Musky Masculine Fragrance\n",
       "Name: summary, dtype: object"
      ]
     },
     "execution_count": 39,
     "metadata": {},
     "output_type": "execute_result"
    }
   ],
   "source": [
    "df_uniq['summary'][:5]"
   ]
  },
  {
   "cell_type": "code",
   "execution_count": 40,
   "metadata": {},
   "outputs": [
    {
     "data": {
      "text/plain": [
       "['feels luxurious not dry sensitive skin',\n",
       " 'clear gel creates nice lather delicate lavender scent',\n",
       " 'luxurious french soap fresh sea breeze fragrance',\n",
       " 'luxurious french soap mild masculine fragrance',\n",
       " 'luxurious french soap musky masculine fragrance']"
      ]
     },
     "execution_count": 40,
     "metadata": {},
     "output_type": "execute_result"
    }
   ],
   "source": [
    "textprocess(df_uniq['summary'][:5])"
   ]
  },
  {
   "cell_type": "code",
   "execution_count": 41,
   "metadata": {
    "id": "wtJ2hcy9CAaI"
   },
   "outputs": [
    {
     "name": "stdout",
     "output_type": "stream",
     "text": [
      "719 nan\n"
     ]
    },
    {
     "data": {
      "text/html": [
       "<div>\n",
       "<style scoped>\n",
       "    .dataframe tbody tr th:only-of-type {\n",
       "        vertical-align: middle;\n",
       "    }\n",
       "\n",
       "    .dataframe tbody tr th {\n",
       "        vertical-align: top;\n",
       "    }\n",
       "\n",
       "    .dataframe thead th {\n",
       "        text-align: right;\n",
       "    }\n",
       "</style>\n",
       "<table border=\"1\" class=\"dataframe\">\n",
       "  <thead>\n",
       "    <tr style=\"text-align: right;\">\n",
       "      <th></th>\n",
       "      <th>overall</th>\n",
       "      <th>verified</th>\n",
       "      <th>reviewTime</th>\n",
       "      <th>reviewerID</th>\n",
       "      <th>asin</th>\n",
       "      <th>style</th>\n",
       "      <th>reviewerName</th>\n",
       "      <th>reviewText</th>\n",
       "      <th>summary</th>\n",
       "      <th>unixReviewTime</th>\n",
       "      <th>vote</th>\n",
       "      <th>image</th>\n",
       "      <th>Score</th>\n",
       "      <th>UnixTime</th>\n",
       "      <th>processedText</th>\n",
       "      <th>processedSummary</th>\n",
       "    </tr>\n",
       "  </thead>\n",
       "  <tbody>\n",
       "    <tr>\n",
       "      <th>4924</th>\n",
       "      <td>5.0</td>\n",
       "      <td>False</td>\n",
       "      <td>08 26, 2017</td>\n",
       "      <td>A2MJ8OL2FYN7CW</td>\n",
       "      <td>B00W259T7G</td>\n",
       "      <td>{'Size:': ' 250 Gram', 'Color:': ' Olive Oil'}</td>\n",
       "      <td>Lynne E.</td>\n",
       "      <td>This PRE DE PROVENCE SHEA BUTTER ENRICHED ARTISANAL FRENCH SOAP BAR (Olive Oil (250 g)) lathers beautifully, and feels luxurious.  It doesn't dry out or irritate my sensitive skin, so I can use it every day.  This is a large 250 gram olive oil bar that gives good value for the money (about $7 on Amazon).</td>\n",
       "      <td>Feels Luxurious, Doesn't Dry Out Sensitive Skin</td>\n",
       "      <td>1503705600</td>\n",
       "      <td>NaN</td>\n",
       "      <td>NaN</td>\n",
       "      <td>1</td>\n",
       "      <td>2017-08-26</td>\n",
       "      <td>pre de provence shea butter enriched artisanal french soap bar olive oil g lathers beautifully feels luxurious not dry irritate sensitive skin use every day large gram olive oil bar gives good value money amazon</td>\n",
       "      <td>feels luxurious not dry sensitive skin</td>\n",
       "    </tr>\n",
       "    <tr>\n",
       "      <th>4187</th>\n",
       "      <td>5.0</td>\n",
       "      <td>False</td>\n",
       "      <td>09 4, 2017</td>\n",
       "      <td>A2MJ8OL2FYN7CW</td>\n",
       "      <td>B001LNODUS</td>\n",
       "      <td>{'Color:': ' Shower Gel'}</td>\n",
       "      <td>Lynne E.</td>\n",
       "      <td>Lavender is my favorite soap fragrance, so it's no surprise that I love this PRE DE PROVENCE FRENCH LAVENDER BATH &amp; SHOWER GEL.  For the shower, a pump or two is enough for a nice lather, and the lather washes off easily.\\n\\nThe lavender fragrance is delicate, and it lingers for only a short time.  It doesn't overwhelm perfume, aftershave lotion, shampoo, or other scented products you may like to use.  The clear gel arrives in an attractive square pump dispenser.\\n\\nThe shower gel leaves my skin silky smooth, and it doesn't irritate my sensitive skin.</td>\n",
       "      <td>Clear Gel Creates Nice Lather With Delicate Lavender Scent</td>\n",
       "      <td>1504483200</td>\n",
       "      <td>NaN</td>\n",
       "      <td>NaN</td>\n",
       "      <td>1</td>\n",
       "      <td>2017-09-04</td>\n",
       "      <td>lavender favorite soap fragrance no surprise love pre de provence french lavender bath shower gel shower pump two enough nice lather lather washes easily lavender fragrance delicate lingers short time not overwhelm perfume aftershave lotion shampoo scented products may like use clear gel arrives attractive square pump dispenser shower gel leaves skin silky smooth not irritate sensitive skin</td>\n",
       "      <td>clear gel creates nice lather delicate lavender scent</td>\n",
       "    </tr>\n",
       "    <tr>\n",
       "      <th>4856</th>\n",
       "      <td>5.0</td>\n",
       "      <td>False</td>\n",
       "      <td>09 21, 2017</td>\n",
       "      <td>A2MJ8OL2FYN7CW</td>\n",
       "      <td>B00W259T7G</td>\n",
       "      <td>{'Size:': ' 150 Gram', 'Color:': ' Sea Salt'}</td>\n",
       "      <td>Lynne E.</td>\n",
       "      <td>I love Pre de Provence soaps, but was intensely curious about the Sea Salt bar.  What would it smell like?  Why would I want to wash my hands with sea salt?  Happily, this PRE DE PROVENCE SEA SALT FRENCH SOAP BAR (150g, 5.2 Ounce) is no different from the other Pre de Provence soaps--it smells wonderful, and produces a rich, thick lather.\\n\\nThe fragrance is hard to describe.  Its kind of floral, but maybe is best described as fresh sea breeze.  It makes one think of fresh air and sunshine.  The fragrance doesn't linger overlong.  The soap doesn't irritate my sensitive skin, but may be a little more drying than other Pre de Provence soaps (unless it's my imagination working overtime).\\n\\nThe soap definitely contains salt. The ingredients are:  sodium palmate, sodium palm kernelate, water, fragrance, palm acid, titanium dioxide, glycerin, palm kernel acid, SODIUM CHLORIDE, shea butter, sodium hydroxide, tetrasodium edta, tetrasodium etidronate, benzyl salicylate, linalool, geraniol, citral.</td>\n",
       "      <td>Luxurious French Soap Has Fresh Sea Breeze Fragrance</td>\n",
       "      <td>1505952000</td>\n",
       "      <td>7</td>\n",
       "      <td>NaN</td>\n",
       "      <td>1</td>\n",
       "      <td>2017-09-21</td>\n",
       "      <td>love pre de provence soaps intensely curious sea salt bar would smell like would want wash hands sea salt happily pre de provence sea salt french soap bar ounce no different pre de provence soaps smells wonderful produces rich thick lather fragrance hard describe kind floral maybe best described fresh sea breeze makes one think fresh air sunshine fragrance not linger overlong soap not irritate sensitive skin may little drying pre de provence soaps unless imagination working overtime soap definitely contains salt ingredients sodium palmate sodium palm kernelate water fragrance palm acid titanium dioxide glycerin palm kernel acid sodium chloride shea butter sodium hydroxide tetrasodium edta tetrasodium etidronate benzyl salicylate linalool geraniol citral</td>\n",
       "      <td>luxurious french soap fresh sea breeze fragrance</td>\n",
       "    </tr>\n",
       "    <tr>\n",
       "      <th>4849</th>\n",
       "      <td>5.0</td>\n",
       "      <td>False</td>\n",
       "      <td>09 27, 2017</td>\n",
       "      <td>A2MJ8OL2FYN7CW</td>\n",
       "      <td>B00W259T7G</td>\n",
       "      <td>{'Size:': ' 250 Gram', 'Color:': ' Sandalwood'}</td>\n",
       "      <td>Lynne E.</td>\n",
       "      <td>This PRE DE PROVENCE Sandalwood SHEA BUTTER ENRICHED SOAP (250 Gram) should appeal to the male members of the household, because of the mild, woody fragrance.  (Most Pre de Provence soaps have fairly strong, flowery fragrances.)\\n\\nIt's a large bar of luxurious French soap.  It lathers beautifully, and the fragrance never lingers too long.  The soap is very gentle, and doesn't irritate sensitive skin.</td>\n",
       "      <td>Luxurious French Soap With Mild, Masculine Fragrance</td>\n",
       "      <td>1506470400</td>\n",
       "      <td>NaN</td>\n",
       "      <td>NaN</td>\n",
       "      <td>1</td>\n",
       "      <td>2017-09-27</td>\n",
       "      <td>pre de provence sandalwood shea butter enriched soap gram appeal male members household mild woody fragrance pre de provence soaps fairly strong flowery fragrances large bar luxurious french soap lathers beautifully fragrance never lingers long soap gentle not irritate sensitive skin</td>\n",
       "      <td>luxurious french soap mild masculine fragrance</td>\n",
       "    </tr>\n",
       "    <tr>\n",
       "      <th>4848</th>\n",
       "      <td>5.0</td>\n",
       "      <td>False</td>\n",
       "      <td>09 27, 2017</td>\n",
       "      <td>A2MJ8OL2FYN7CW</td>\n",
       "      <td>B00W259T7G</td>\n",
       "      <td>{'Size:': ' 250 Gram', 'Color:': ' Patchouli'}</td>\n",
       "      <td>Lynne E.</td>\n",
       "      <td>This PRE DE PROVENCE PATCHOULI SHEA BUTTER ENRICHED SOAP (250 Gram) has the mild, musky fragrance that many women find sexy, but the fragrance is risky.  To some people (including me) it smells like fungus or damp basement.  Still, this soap may appeal to male household members, because it's so different from most other Pre de Provence soaps (with their fairly strong, flowery fragrances).\\n\\nThis is a large bar of luxurious French soap.  It lathers beautifully, and the fragrance never lingers too long.  The soap is very gentle, and doesn't irritate sensitive skin.\\n\\nFor men, a much safer Pre de Provence soap is the Sandalwood bar (see&amp;nbsp;&lt;a data-hook=\"product-link-linked\" class=\"a-link-normal\" href=\"/Pre-de-Provence-Sandalwood/dp/B01LWWOLW2/ref=cm_cr_arp_d_rvw_txt?ie=UTF8\"&gt;Pre de Provence Sandalwood&lt;/a&gt;).</td>\n",
       "      <td>Luxurious French Soap With Musky Masculine Fragrance</td>\n",
       "      <td>1506470400</td>\n",
       "      <td>NaN</td>\n",
       "      <td>NaN</td>\n",
       "      <td>1</td>\n",
       "      <td>2017-09-27</td>\n",
       "      <td>pre de provence patchouli shea butter enriched soap gram mild musky fragrance many women find sexy fragrance risky people including smells like fungus damp basement still soap may appeal male household members different pre de provence soaps fairly strong flowery fragrances large bar luxurious french soap lathers beautifully fragrance never lingers long soap gentle not irritate sensitive skin men much safer pre de provence soap sandalwood bar see pre de provence sandalwood</td>\n",
       "      <td>luxurious french soap musky masculine fragrance</td>\n",
       "    </tr>\n",
       "  </tbody>\n",
       "</table>\n",
       "</div>"
      ],
      "text/plain": [
       "      overall  verified   reviewTime      reviewerID        asin  \\\n",
       "4924      5.0     False  08 26, 2017  A2MJ8OL2FYN7CW  B00W259T7G   \n",
       "4187      5.0     False   09 4, 2017  A2MJ8OL2FYN7CW  B001LNODUS   \n",
       "4856      5.0     False  09 21, 2017  A2MJ8OL2FYN7CW  B00W259T7G   \n",
       "4849      5.0     False  09 27, 2017  A2MJ8OL2FYN7CW  B00W259T7G   \n",
       "4848      5.0     False  09 27, 2017  A2MJ8OL2FYN7CW  B00W259T7G   \n",
       "\n",
       "                                                style reviewerName  \\\n",
       "4924   {'Size:': ' 250 Gram', 'Color:': ' Olive Oil'}     Lynne E.   \n",
       "4187                        {'Color:': ' Shower Gel'}     Lynne E.   \n",
       "4856    {'Size:': ' 150 Gram', 'Color:': ' Sea Salt'}     Lynne E.   \n",
       "4849  {'Size:': ' 250 Gram', 'Color:': ' Sandalwood'}     Lynne E.   \n",
       "4848   {'Size:': ' 250 Gram', 'Color:': ' Patchouli'}     Lynne E.   \n",
       "\n",
       "                                                                                                                                                                                                                                                                                                                                                                                                                                                                                                                                                                                                                                                                                                                                                                                                                                                                                                                                                                                                                                        reviewText  \\\n",
       "4924                                                                                                                                                                                                                                                                                                                                                                                                                                                                                                                                                                                                                                                                                                                             This PRE DE PROVENCE SHEA BUTTER ENRICHED ARTISANAL FRENCH SOAP BAR (Olive Oil (250 g)) lathers beautifully, and feels luxurious.  It doesn't dry out or irritate my sensitive skin, so I can use it every day.  This is a large 250 gram olive oil bar that gives good value for the money (about $7 on Amazon).   \n",
       "4187                                                                                                                                                                                                                                                                                                                                                                                                                                                                 Lavender is my favorite soap fragrance, so it's no surprise that I love this PRE DE PROVENCE FRENCH LAVENDER BATH & SHOWER GEL.  For the shower, a pump or two is enough for a nice lather, and the lather washes off easily.\\n\\nThe lavender fragrance is delicate, and it lingers for only a short time.  It doesn't overwhelm perfume, aftershave lotion, shampoo, or other scented products you may like to use.  The clear gel arrives in an attractive square pump dispenser.\\n\\nThe shower gel leaves my skin silky smooth, and it doesn't irritate my sensitive skin.   \n",
       "4856  I love Pre de Provence soaps, but was intensely curious about the Sea Salt bar.  What would it smell like?  Why would I want to wash my hands with sea salt?  Happily, this PRE DE PROVENCE SEA SALT FRENCH SOAP BAR (150g, 5.2 Ounce) is no different from the other Pre de Provence soaps--it smells wonderful, and produces a rich, thick lather.\\n\\nThe fragrance is hard to describe.  Its kind of floral, but maybe is best described as fresh sea breeze.  It makes one think of fresh air and sunshine.  The fragrance doesn't linger overlong.  The soap doesn't irritate my sensitive skin, but may be a little more drying than other Pre de Provence soaps (unless it's my imagination working overtime).\\n\\nThe soap definitely contains salt. The ingredients are:  sodium palmate, sodium palm kernelate, water, fragrance, palm acid, titanium dioxide, glycerin, palm kernel acid, SODIUM CHLORIDE, shea butter, sodium hydroxide, tetrasodium edta, tetrasodium etidronate, benzyl salicylate, linalool, geraniol, citral.   \n",
       "4849                                                                                                                                                                                                                                                                                                                                                                                                                                                                                                                                                                                                                          This PRE DE PROVENCE Sandalwood SHEA BUTTER ENRICHED SOAP (250 Gram) should appeal to the male members of the household, because of the mild, woody fragrance.  (Most Pre de Provence soaps have fairly strong, flowery fragrances.)\\n\\nIt's a large bar of luxurious French soap.  It lathers beautifully, and the fragrance never lingers too long.  The soap is very gentle, and doesn't irritate sensitive skin.   \n",
       "4848                                                                                                                                                                                           This PRE DE PROVENCE PATCHOULI SHEA BUTTER ENRICHED SOAP (250 Gram) has the mild, musky fragrance that many women find sexy, but the fragrance is risky.  To some people (including me) it smells like fungus or damp basement.  Still, this soap may appeal to male household members, because it's so different from most other Pre de Provence soaps (with their fairly strong, flowery fragrances).\\n\\nThis is a large bar of luxurious French soap.  It lathers beautifully, and the fragrance never lingers too long.  The soap is very gentle, and doesn't irritate sensitive skin.\\n\\nFor men, a much safer Pre de Provence soap is the Sandalwood bar (see&nbsp;<a data-hook=\"product-link-linked\" class=\"a-link-normal\" href=\"/Pre-de-Provence-Sandalwood/dp/B01LWWOLW2/ref=cm_cr_arp_d_rvw_txt?ie=UTF8\">Pre de Provence Sandalwood</a>).   \n",
       "\n",
       "                                                         summary  \\\n",
       "4924             Feels Luxurious, Doesn't Dry Out Sensitive Skin   \n",
       "4187  Clear Gel Creates Nice Lather With Delicate Lavender Scent   \n",
       "4856        Luxurious French Soap Has Fresh Sea Breeze Fragrance   \n",
       "4849        Luxurious French Soap With Mild, Masculine Fragrance   \n",
       "4848        Luxurious French Soap With Musky Masculine Fragrance   \n",
       "\n",
       "      unixReviewTime vote image  Score   UnixTime  \\\n",
       "4924      1503705600  NaN   NaN      1 2017-08-26   \n",
       "4187      1504483200  NaN   NaN      1 2017-09-04   \n",
       "4856      1505952000    7   NaN      1 2017-09-21   \n",
       "4849      1506470400  NaN   NaN      1 2017-09-27   \n",
       "4848      1506470400  NaN   NaN      1 2017-09-27   \n",
       "\n",
       "                                                                                                                                                                                                                                                                                                                                                                                                                                                                                                                                                                                                                                                                                                                                                                                    processedText  \\\n",
       "4924                                                                                                                                                                                                                                                                                                                                                                                                                                                                                                                                                                          pre de provence shea butter enriched artisanal french soap bar olive oil g lathers beautifully feels luxurious not dry irritate sensitive skin use every day large gram olive oil bar gives good value money amazon   \n",
       "4187                                                                                                                                                                                                                                                                                                                                                                                    lavender favorite soap fragrance no surprise love pre de provence french lavender bath shower gel shower pump two enough nice lather lather washes easily lavender fragrance delicate lingers short time not overwhelm perfume aftershave lotion shampoo scented products may like use clear gel arrives attractive square pump dispenser shower gel leaves skin silky smooth not irritate sensitive skin   \n",
       "4856  love pre de provence soaps intensely curious sea salt bar would smell like would want wash hands sea salt happily pre de provence sea salt french soap bar ounce no different pre de provence soaps smells wonderful produces rich thick lather fragrance hard describe kind floral maybe best described fresh sea breeze makes one think fresh air sunshine fragrance not linger overlong soap not irritate sensitive skin may little drying pre de provence soaps unless imagination working overtime soap definitely contains salt ingredients sodium palmate sodium palm kernelate water fragrance palm acid titanium dioxide glycerin palm kernel acid sodium chloride shea butter sodium hydroxide tetrasodium edta tetrasodium etidronate benzyl salicylate linalool geraniol citral   \n",
       "4849                                                                                                                                                                                                                                                                                                                                                                                                                                                                                                 pre de provence sandalwood shea butter enriched soap gram appeal male members household mild woody fragrance pre de provence soaps fairly strong flowery fragrances large bar luxurious french soap lathers beautifully fragrance never lingers long soap gentle not irritate sensitive skin   \n",
       "4848                                                                                                                                                                                                                                                                                                pre de provence patchouli shea butter enriched soap gram mild musky fragrance many women find sexy fragrance risky people including smells like fungus damp basement still soap may appeal male household members different pre de provence soaps fairly strong flowery fragrances large bar luxurious french soap lathers beautifully fragrance never lingers long soap gentle not irritate sensitive skin men much safer pre de provence soap sandalwood bar see pre de provence sandalwood   \n",
       "\n",
       "                                           processedSummary  \n",
       "4924                 feels luxurious not dry sensitive skin  \n",
       "4187  clear gel creates nice lather delicate lavender scent  \n",
       "4856       luxurious french soap fresh sea breeze fragrance  \n",
       "4849         luxurious french soap mild masculine fragrance  \n",
       "4848        luxurious french soap musky masculine fragrance  "
      ]
     },
     "execution_count": 41,
     "metadata": {},
     "output_type": "execute_result"
    }
   ],
   "source": [
    "df_uniq['processedSummary'] = textprocess(df_uniq['summary'])\n",
    "df_uniq.head()"
   ]
  },
  {
   "cell_type": "markdown",
   "metadata": {
    "id": "ytBZVEs2CAaL"
   },
   "source": [
    "<div class=\"alert alert-info\" style=\"background-color:#006a79; color:white; padding:0px 10px; border-radius:5px;\"><h2 style='margin:10px 5px'>Feature Engineering for Text Data</h2>\n",
    "</div>"
   ]
  },
  {
   "cell_type": "markdown",
   "metadata": {
    "id": "9amw6tMZCAaL"
   },
   "source": [
    "<div class=\"alert alert-info\" style=\"background-color:#006a79; color:white; padding:0px 10px; border-radius:5px;\"><h2 style='margin:10px 5px'>6. Bag of Words</h2>\n",
    "</div>"
   ]
  },
  {
   "cell_type": "code",
   "execution_count": 42,
   "metadata": {},
   "outputs": [],
   "source": [
    "# sklearn\n",
    "from sklearn.feature_extraction.text import TfidfTransformer\n",
    "from sklearn.feature_extraction.text import TfidfVectorizer\n",
    "from sklearn.feature_extraction.text import CountVectorizer\n",
    "from sklearn.metrics import confusion_matrix\n",
    "from sklearn import metrics\n",
    "from sklearn.metrics import roc_curve, auc"
   ]
  },
  {
   "cell_type": "markdown",
   "metadata": {},
   "source": [
    "__Train Count Vectorizer__"
   ]
  },
  {
   "cell_type": "code",
   "execution_count": 43,
   "metadata": {
    "id": "3hasoJ-_CAaN",
    "outputId": "12aa3f3f-083c-4de4-a6e7-3dbde6b5a905"
   },
   "outputs": [
    {
     "name": "stdout",
     "output_type": "stream",
     "text": [
      "Sample:  ['aaa', 'abating', 'abbey', 'abd', 'ability', 'abit', 'able', 'abrasing', 'abrasive', 'absinthe']\n",
      "\n",
      " ---------------------------------------------------------------------------------------------------- \n",
      "\n"
     ]
    }
   ],
   "source": [
    "count_vect = CountVectorizer() #in scikit-learn\n",
    "count_vect.fit(df_uniq['processedText'])\n",
    "print(\"Sample: \", count_vect.get_feature_names()[:10])\n",
    "print(\"\\n\",'-'*100, \"\\n\")"
   ]
  },
  {
   "cell_type": "markdown",
   "metadata": {},
   "source": [
    "__Transform the entire dataset to for Doc-term matrix__"
   ]
  },
  {
   "cell_type": "code",
   "execution_count": 45,
   "metadata": {
    "id": "3hasoJ-_CAaN",
    "outputId": "12aa3f3f-083c-4de4-a6e7-3dbde6b5a905"
   },
   "outputs": [
    {
     "name": "stdout",
     "output_type": "stream",
     "text": [
      "the type of count vectorizer  <class 'scipy.sparse.csr.csr_matrix'>\n",
      "the shape of out text BOW vectorizer  (1871, 5928)\n",
      "the number of unique words  5928\n"
     ]
    }
   ],
   "source": [
    "final_counts = count_vect.transform(df_uniq['processedText'])\n",
    "print(\"the type of count vectorizer \",type(final_counts))\n",
    "print(\"the shape of out text BOW vectorizer \",final_counts.get_shape())\n",
    "print(\"the number of unique words \", final_counts.get_shape()[1])"
   ]
  },
  {
   "cell_type": "markdown",
   "metadata": {},
   "source": [
    "__View the sparse matrix__"
   ]
  },
  {
   "cell_type": "code",
   "execution_count": 59,
   "metadata": {},
   "outputs": [
    {
     "name": "stdout",
     "output_type": "stream",
     "text": [
      "Shape of Doc Term Matrix:  (1871, 5928)\n"
     ]
    },
    {
     "data": {
      "text/plain": [
       "array([[0, 0, 0, 0, 0, 0, 0, 0, 0, 0, 0, 0, 0, 0, 0, 0, 0, 0, 0, 0],\n",
       "       [0, 0, 0, 0, 0, 0, 0, 0, 0, 0, 0, 0, 0, 0, 0, 0, 0, 0, 0, 0],\n",
       "       [0, 0, 0, 0, 0, 0, 0, 0, 0, 0, 0, 0, 0, 0, 0, 0, 0, 0, 0, 0],\n",
       "       [0, 0, 0, 0, 0, 0, 0, 0, 0, 0, 0, 0, 0, 0, 0, 0, 0, 0, 0, 0],\n",
       "       [0, 0, 0, 0, 0, 0, 0, 0, 0, 0, 0, 0, 0, 0, 0, 0, 0, 0, 0, 0],\n",
       "       [0, 0, 0, 0, 0, 0, 0, 0, 0, 0, 0, 0, 0, 0, 0, 0, 0, 0, 0, 0],\n",
       "       [0, 0, 0, 0, 0, 0, 0, 0, 0, 0, 0, 0, 0, 0, 0, 0, 0, 0, 0, 0],\n",
       "       [0, 0, 0, 0, 0, 0, 0, 0, 0, 0, 0, 0, 0, 0, 0, 0, 0, 0, 0, 0],\n",
       "       [0, 0, 0, 0, 0, 0, 0, 0, 0, 0, 0, 0, 0, 0, 0, 0, 0, 0, 0, 0],\n",
       "       [0, 0, 0, 0, 0, 0, 0, 0, 0, 0, 0, 0, 0, 0, 0, 0, 0, 0, 0, 0]],\n",
       "      dtype=int64)"
      ]
     },
     "execution_count": 59,
     "metadata": {},
     "output_type": "execute_result"
    }
   ],
   "source": [
    "dtm = final_counts.toarray()\n",
    "print(\"Shape of Doc Term Matrix: \", dtm.shape)\n",
    "dtm[:10, :20]"
   ]
  },
  {
   "cell_type": "markdown",
   "metadata": {},
   "source": [
    "__Total count of words in entire data__"
   ]
  },
  {
   "cell_type": "code",
   "execution_count": 54,
   "metadata": {},
   "outputs": [
    {
     "data": {
      "text/plain": [
       "45727"
      ]
     },
     "execution_count": 54,
     "metadata": {},
     "output_type": "execute_result"
    }
   ],
   "source": [
    "dtm.sum()"
   ]
  },
  {
   "cell_type": "markdown",
   "metadata": {
    "id": "1dhfJZ7ZCAaR",
    "tags": []
   },
   "source": [
    "<div class=\"alert alert-info\" style=\"background-color:#006a79; color:white; padding:0px 10px; border-radius:5px;\"><h2 style='margin:10px 5px'>7b. Code Demo - Create Bigrams and Trigrams</h2>\n",
    "</div>"
   ]
  },
  {
   "cell_type": "markdown",
   "metadata": {},
   "source": [
    "__Let's create bigrams__\n",
    "\n",
    "Ideally we should not remove stopwords before creating bi and trigrams, because there can be combinations formed with the stop words. \n",
    "\n",
    "So, in this case, expect fewer number of bigrams combinations to form."
   ]
  },
  {
   "cell_type": "code",
   "execution_count": 71,
   "metadata": {
    "id": "u1Ma2LBfCAaR",
    "outputId": "a5208a4c-c0ad-4360-f021-b2e8715610a4"
   },
   "outputs": [
    {
     "name": "stdout",
     "output_type": "stream",
     "text": [
      "Shape of DocTerm matrix (1871, 869)\n",
      "# unique words both unigrams and bigrams:  869\n"
     ]
    }
   ],
   "source": [
    "# Ref: http://scikit-learn.org/stable/modules/generated/sklearn.feature_extraction.text.CountVectorizer.html\n",
    "# To limt the maximum # features, set: max_features=10000\n",
    "\n",
    "count_vect = CountVectorizer(ngram_range=(1,2), min_df=10, max_features=5000)\n",
    "\n",
    "final_bigram_counts = count_vect.fit_transform(df_uniq['processedText'])\n",
    "\n",
    "print(\"Shape of DocTerm matrix\",final_bigram_counts.get_shape())\n",
    "print(\"# unique words both unigrams and bigrams: \", final_bigram_counts.get_shape()[1])"
   ]
  },
  {
   "cell_type": "markdown",
   "metadata": {},
   "source": [
    "_View sample features_"
   ]
  },
  {
   "cell_type": "code",
   "execution_count": 72,
   "metadata": {},
   "outputs": [
    {
     "name": "stdout",
     "output_type": "stream",
     "text": [
      "Sample:  ['able', 'absolutely', 'absolutely love', 'actually', 'add', 'added', 'advertised', 'age', 'ago', 'air', 'alcohol', 'almost', 'along', 'already', 'also', 'although', 'always', 'amazing', 'amazon', 'amount', 'another', 'anymore', 'anyone', 'anything', 'anyway', 'anywhere', 'apply', 'arch', 'area', 'areas', 'aroma', 'around', 'arrived', 'ask', 'available', 'average', 'away', 'awesome', 'baby', 'back', 'bad', 'bag', 'bar', 'bar soap', 'bars', 'base', 'based', 'basic', 'bath', 'bathroom', 'beautiful', 'bed', 'believe', 'best', 'better', 'big', 'bigger', 'bit', 'bits', 'black', 'blow', 'blue', 'body', 'body lotion', 'body wash', 'bottle', 'bottles', 'bottom', 'bought', 'box', 'brand', 'brands', 'breath', 'bright', 'bring', 'brush', 'brushes', 'brushing', 'bubble', 'butter', 'butter enriched', 'buy', 'buying', 'ca', 'ca not', 'came', 'cannot', 'care', 'careful', 'carrying', 'case', 'cause', 'certainly', 'change', 'changed', 'cheap', 'cheaper', 'check', 'chemical', 'choice', 'choose', 'christmas', 'citrus', 'claims', 'classic', 'clean', 'clean not', 'cleaner', 'cleaning', 'cleans', 'clear', 'close', 'coat', 'coats', 'coconut', 'cologne', 'color', 'colors', 'combination', 'come', 'comes', 'comfort', 'comfortable', 'comfy', 'coming', 'company', 'compared', 'completely', 'compliments', 'condition', 'conditioner', 'consider', 'container', 'continue', 'cool', 'cost', 'could', 'could not', 'couple', 'course', 'cream', 'creams', 'creamy', 'crest', 'cross', 'curly', 'customer', 'cut', 'cute', 'daily', 'dandruff', 'dark', 'daughter', 'day', 'days', 'de', 'de provence', 'dead', 'dead skin', 'deal', 'decided', 'definitely', 'definitely buy', 'delicious', 'delivery', 'dental', 'dentist', 'described', 'difference', 'different', 'difficult', 'directions', 'disappointed', 'discontinued', 'done', 'dried', 'dries', 'dry', 'dry skin', 'dryer', 'drying', 'due', 'easier', 'easily', 'easy', 'easy use', 'effect', 'effective', 'either', 'electric', 'else', 'end', 'enjoy', 'enough', 'enriched', 'entire', 'especially', 'essie', 'etc', 'even']\n"
     ]
    }
   ],
   "source": [
    "print(\"Sample: \", count_vect.get_feature_names()[:200])"
   ]
  },
  {
   "cell_type": "markdown",
   "metadata": {},
   "source": [
    "__Include Trigram as well__"
   ]
  },
  {
   "cell_type": "code",
   "execution_count": 64,
   "metadata": {},
   "outputs": [
    {
     "name": "stdout",
     "output_type": "stream",
     "text": [
      "Shape of DocTerm matrix (1871, 875)\n",
      "# unique words both unigrams, bigrams and trigrams:  875\n"
     ]
    }
   ],
   "source": [
    "count_vect = CountVectorizer(ngram_range=(1,3), min_df=10, max_features=5000)\n",
    "\n",
    "final_trigram_counts = count_vect.fit_transform(df_uniq['processedText'])\n",
    "\n",
    "print(\"Shape of DocTerm matrix\",final_trigram_counts.get_shape())\n",
    "print(\"# unique words both unigrams, bigrams and trigrams: \", final_trigram_counts.get_shape()[1])"
   ]
  },
  {
   "cell_type": "markdown",
   "metadata": {},
   "source": [
    "_View sample features_"
   ]
  },
  {
   "cell_type": "code",
   "execution_count": 70,
   "metadata": {},
   "outputs": [
    {
     "name": "stdout",
     "output_type": "stream",
     "text": [
      "Sample:  ['able', 'absolutely', 'absolutely love', 'actually', 'add', 'added', 'advertised', 'age', 'ago', 'air', 'alcohol', 'almost', 'along', 'already', 'also', 'although', 'always', 'amazing', 'amazon', 'amount', 'another', 'anymore', 'anyone', 'anything', 'anyway', 'anywhere', 'apply', 'arch', 'area', 'areas', 'aroma', 'around', 'arrived', 'ask', 'available', 'average', 'away', 'awesome', 'baby', 'back', 'bad', 'bag', 'bar', 'bar soap', 'bars', 'base', 'based', 'basic', 'bath', 'bathroom', 'beautiful', 'bed', 'believe', 'best', 'better', 'big', 'bigger', 'bit', 'bits', 'black', 'blow', 'blue', 'body', 'body lotion', 'body wash', 'bottle', 'bottles', 'bottom', 'bought', 'box', 'brand', 'brands', 'breath', 'bright', 'bring', 'brush', 'brushes', 'brushing', 'bubble', 'butter', 'butter enriched', 'buy', 'buying', 'ca', 'ca not', 'came', 'cannot', 'care', 'careful', 'carrying', 'case', 'cause', 'certainly', 'change', 'changed', 'cheap', 'cheaper', 'check', 'chemical', 'choice', 'choose', 'christmas', 'citrus', 'claims', 'classic', 'clean', 'clean not', 'cleaner', 'cleaning', 'cleans', 'clear', 'close', 'coat', 'coats', 'coconut', 'cologne', 'color', 'colors', 'combination', 'come', 'comes', 'comfort', 'comfortable', 'comfy', 'coming', 'company', 'compared', 'completely', 'compliments', 'condition', 'conditioner', 'consider', 'container', 'continue', 'cool', 'cost', 'could', 'could not', 'couple', 'course', 'cream', 'creams', 'creamy', 'crest', 'cross', 'curly', 'customer', 'cut', 'cute', 'daily', 'dandruff', 'dark', 'daughter', 'day', 'days', 'de', 'de provence', 'de provence soaps', 'dead', 'dead skin', 'deal', 'decided', 'definitely', 'definitely buy', 'delicious', 'delivery', 'dental', 'dentist', 'described', 'difference', 'different', 'difficult', 'directions', 'disappointed', 'discontinued', 'done', 'dried', 'dries', 'dry', 'dry skin', 'dryer', 'drying', 'due', 'easier', 'easily', 'easy', 'easy use', 'effect', 'effective', 'either', 'electric', 'else', 'end', 'enjoy', 'enough', 'enriched', 'entire', 'especially', 'essie', 'etc']\n"
     ]
    }
   ],
   "source": [
    "print(\"Sample: \", count_vect.get_feature_names()[:200])"
   ]
  },
  {
   "cell_type": "markdown",
   "metadata": {},
   "source": [
    "<div class=\"alert alert-info\" style=\"background-color:#006a79; color:white; padding:0px 10px; border-radius:5px;\"><h2 style='margin:10px 5px'>8a. TFIDF</h2>\n",
    "</div>"
   ]
  },
  {
   "cell_type": "markdown",
   "metadata": {},
   "source": [
    "\n",
    "Common words that form the english language tend to get used more. As a result, will have more frequency, implying that they are very important. We can use TFIDF to balance this effect.\n",
    "\n",
    "TD-IDF stands for Term Frequency - Inverse Document Frequency. The idea is we want to give lesser weightage to words that occur across review (throughout the entire document).\n",
    "\n",
    "\n",
    "\n",
    "__Definitions for Term Frequency__\n",
    "\n",
    "- tf(t) = No. of times term ‘t’ occurs in a document  --> Used by SKlearn\n",
    "- tf(t) = (No. of times term ‘t’ occurs in a document) / (No. Of terms in a document)\n",
    "- tf(t) = (No. of times term ‘t’ occurs in a document) / (Frequency of most common term in a document)\n",
    "\n",
    "__Definitions for Inverse Doc Frequency__\n",
    "\n",
    "IDF is a measure of how common or rare a term is across the entire corpus of documents. \n",
    "\n",
    "So the point to note is that it’s common to all the documents. If the word is common and appears in many documents, the idf value will approach 0 or else will be large if it’s rare. \n",
    "\n",
    "- IDF(t) = 1 + log [ n / df(t) ]\n",
    "\n",
    "or\n",
    "\n",
    "- IDF(t) = log[ n / df(t) ]\n",
    "\n",
    "    where,\n",
    "\n",
    "    n = Total number of documents\n",
    "\n",
    "    t = word\n",
    "\n",
    "    df(t) = Number of documents in which t appears\n",
    "\n",
    " \n",
    "\n",
    "Sklearn however uses below method to calculate idf:\n",
    "\n",
    "    idf(t) = log[ (1+n) / ( 1 + df(t) ) ] + 1      (when smooth_idf = True, default)\n",
    "\n",
    "    and\n",
    "\n",
    "    idf(t) = log[ n / df(t) ] + 1                   (when smooth_idf = False)\n"
   ]
  },
  {
   "cell_type": "markdown",
   "metadata": {},
   "source": [
    "<div class=\"alert alert-info\" style=\"background-color:#006a79; color:white; padding:0px 10px; border-radius:5px;\"><h2 style='margin:10px 5px'>8c. Code Demo - TFIDF</h2>\n",
    "</div>\n",
    "\n",
    "__Compute TFIDF__"
   ]
  },
  {
   "cell_type": "code",
   "execution_count": null,
   "metadata": {
    "id": "6heiZFZ-CAaW",
    "outputId": "08103e90-4bd8-410e-b3dc-84a02e01aa33"
   },
   "outputs": [
    {
     "name": "stdout",
     "output_type": "stream",
     "text": [
      "some sample features(unique words in the corpus) ['able', 'absolutely', 'absolutely love', 'actually', 'add', 'added', 'advertised', 'age', 'ago', 'air']\n",
      "\n",
      " ---------------------------------------------------------------------------------------------------- \n",
      "\n",
      "the shape (1871, 869)\n",
      "the number of unique words including both unigrams and bigrams  869\n"
     ]
    }
   ],
   "source": [
    "tf_idf_vect = TfidfVectorizer(ngram_range=(1,2), min_df=10)\n",
    "tf_idf_vect.fit(df_uniq['processedText'])\n",
    "print(\"some sample features(unique words in the corpus)\",tf_idf_vect.get_feature_names()[0:10])\n",
    "print(\"\\n\", '-'*100, \"\\n\")\n",
    "\n",
    "final_tf_idf = tf_idf_vect.transform(df_uniq['processedText'])\n",
    "print(\"the shape\",final_tf_idf.get_shape())\n",
    "print(\"the number of unique words including both unigrams and bigrams \", final_tf_idf.get_shape()[1])"
   ]
  },
  {
   "cell_type": "code",
   "execution_count": 100,
   "metadata": {},
   "outputs": [
    {
     "data": {
      "text/plain": [
       "array([[0.        , 0.        , 0.        , 0.        , 0.        ,\n",
       "        0.        , 0.        , 0.        , 0.        , 0.        ],\n",
       "       [0.        , 0.        , 0.        , 0.        , 0.        ,\n",
       "        0.        , 0.        , 0.        , 0.        , 0.        ],\n",
       "       [0.        , 0.        , 0.        , 0.        , 0.        ,\n",
       "        0.        , 0.        , 0.        , 0.        , 0.09409209],\n",
       "       [0.        , 0.        , 0.        , 0.        , 0.        ,\n",
       "        0.        , 0.        , 0.        , 0.        , 0.        ],\n",
       "       [0.        , 0.        , 0.        , 0.        , 0.        ,\n",
       "        0.        , 0.        , 0.        , 0.        , 0.        ]])"
      ]
     },
     "execution_count": 100,
     "metadata": {},
     "output_type": "execute_result"
    }
   ],
   "source": [
    "final_tf_idf.toarray()[:5,:10]"
   ]
  },
  {
   "cell_type": "markdown",
   "metadata": {
    "id": "XnzP-eZdCAaa"
   },
   "source": [
    "<div class=\"alert alert-info\" style=\"background-color:#006a79; color:white; padding:0px 10px; border-radius:5px;\"><h2 style='margin:10px 5px'>9b. Code Demo - Training Word2Vec</h2>\n",
    "</div>"
   ]
  },
  {
   "cell_type": "markdown",
   "metadata": {},
   "source": [
    "Word2Vec offers a numerical representation of words, trying to keep the semantic relationships in account so that the words that are similar / related are closer together in space."
   ]
  },
  {
   "cell_type": "code",
   "execution_count": 75,
   "metadata": {
    "id": "e-IuUZsTCAaa"
   },
   "outputs": [],
   "source": [
    "i = 0\n",
    "list_of_sent = []\n",
    "for sent in df_uniq['processedText']:\n",
    "    list_of_sent.append(sent.split())"
   ]
  },
  {
   "cell_type": "markdown",
   "metadata": {},
   "source": [
    "You can use the word2vec model from Gensim or can use the pre-trained word2vec (based on GoogleNews dataset). The pretrained model is quite big in size and can be downloaded [here](https://drive.google.com/file/d/0B7XkCwpI5KDYNlNUTTlSS21pQmM/edit). \n",
    "\n",
    "Filename: GoogleNews-vectors-negative300.bin  (1.9G)\n",
    "\n",
    "Refs:\n",
    "\n",
    "1. [Train own word2vec model on custom data](https://rare-technologies.com/word2vec-tutorial/)\n",
    "2. [Efficient estimation of word representation](https://arxiv.org/pdf/1301.3781.pdf)\n",
    "3. [General Gensim Tutorial](https://www.machinelearningplus.com/nlp/gensim-tutorial/)\n",
    "4. [Word2Vec starter](http://kavita-ganesan.com/gensim-word2vec-tutorial-starter-code/#.W17SRFAzZPY)"
   ]
  },
  {
   "cell_type": "markdown",
   "metadata": {},
   "source": [
    "__Train word2vec or use pretrained model__"
   ]
  },
  {
   "cell_type": "code",
   "execution_count": 76,
   "metadata": {
    "id": "GIbKBSkRCAac",
    "outputId": "d72c6206-2c3f-4143-8c21-3f5b674310df",
    "scrolled": true
   },
   "outputs": [
    {
     "name": "stdout",
     "output_type": "stream",
     "text": [
      "[('wear', 0.9992799162864685), ('keep', 0.9992716908454895), ('price', 0.999267041683197), ('mouthwash', 0.9992631077766418), ('product', 0.9992560744285583), ('work', 0.9992541074752808), ('no', 0.9992502927780151), ('better', 0.9992210865020752), ('make', 0.9992204904556274), ('not', 0.999198853969574)]\n",
      "\n",
      " -------------------------------------------------- \n",
      "\n",
      "[('really', 0.9991275668144226), ('back', 0.9991219639778137), ('also', 0.9990662932395935), ('way', 0.9990652799606323), ('give', 0.9990495443344116), ('using', 0.9990480542182922), ('not', 0.9990330934524536), ('no', 0.9990302920341492), ('like', 0.9990071058273315), ('think', 0.9989606738090515)]\n"
     ]
    }
   ],
   "source": [
    "ram_gt_16g = False\n",
    "use_google_w2v = False\n",
    "train_w2v = True\n",
    "\n",
    "if train_w2v:  # train word2vec\n",
    "    # only words which occurred 5 or more times.\n",
    "    w2v_model=Word2Vec(list_of_sent, min_count=5, vector_size=50, workers=4)  \n",
    "    print(w2v_model.wv.most_similar('great'))\n",
    "    print(\"\\n\", '-'*50, \"\\n\")\n",
    "    print(w2v_model.wv.most_similar('bad'))\n",
    "    \n",
    "elif use_google_w2v and ram_gt_16g:  # use pretrained\n",
    "    if os.path.isfile('GoogleNews-vectors-negative300.bin'):\n",
    "        w2v_model=KeyedVectors.load_word2vec_format('GoogleNews-vectors-negative300.bin', binary=True)\n",
    "        print(w2v_model.wv.most_similar('great'))\n",
    "        print(w2v_model.wv.most_similar('bad'))\n",
    "    else:\n",
    "        print(\"word2vec file not found, set train_w2v = True to train your own model\")"
   ]
  },
  {
   "cell_type": "code",
   "execution_count": 79,
   "metadata": {
    "id": "JEJGArtUCAae",
    "outputId": "943e0fc6-83f8-455b-ba53-8dd05428fc92"
   },
   "outputs": [
    {
     "name": "stdout",
     "output_type": "stream",
     "text": [
      "number of words  1540\n",
      "sample words - occurred at least 5 times: \n",
      " ['not', 'love', 'great', 'like', 'product', 'hair', 'use', 'good', 'skin', 'soap', 'one', 'would', 'scent', 'get', 'really', 'time', 'well', 'used', 'no', 'nice', 'using', 'smell', 'body', 'much', 'clean', 'also', 'fragrance', 'shoes', 'shampoo', 'bar', 'little', 'comfortable', 'feel', 'long', 'dry', 'smells', 'price', 'shower', 'find', 'best', 'buy', 'products', 'light', 'wash', 'makes', 'years', 'fit', 'size', 'even', 'day']\n"
     ]
    }
   ],
   "source": [
    "w2v_words = list(w2v_model.wv.index_to_key)\n",
    "print(\"number of words \",len(w2v_words))\n",
    "print(\"sample words - occurred at least 5 times: \\n\", w2v_words[0:50])"
   ]
  },
  {
   "cell_type": "markdown",
   "metadata": {
    "id": "EPjGCg7UCAag"
   },
   "source": [
    "<div class=\"alert alert-info\" style=\"background-color:#006a79; color:white; padding:0px 10px; border-radius:5px;\"><h2 style='margin:10px 5px'>Converting entire texts into vectors</h2>\n",
    "</div>"
   ]
  },
  {
   "cell_type": "markdown",
   "metadata": {
    "id": "oPxfYXhMCAag"
   },
   "source": [
    "<div class=\"alert alert-info\" style=\"background-color:#006a79; color:white; padding:0px 10px; border-radius:5px;\"><h2 style='margin:10px 5px'>10. Avg W2v</h2>\n",
    "</div>"
   ]
  },
  {
   "cell_type": "code",
   "execution_count": 80,
   "metadata": {},
   "outputs": [],
   "source": [
    "from tqdm import tqdm"
   ]
  },
  {
   "cell_type": "code",
   "execution_count": 81,
   "metadata": {
    "id": "sB4Y18rQCAag",
    "outputId": "c9f64dac-cc89-43e3-9820-fbc18c39a69e"
   },
   "outputs": [
    {
     "name": "stderr",
     "output_type": "stream",
     "text": [
      "100%|█████████████████████████████████████████████████████████████████████████████████████████████████████████████████| 1871/1871 [00:01<00:00, 1245.69it/s]"
     ]
    },
    {
     "name": "stdout",
     "output_type": "stream",
     "text": [
      "1871\n",
      "50\n"
     ]
    },
    {
     "name": "stderr",
     "output_type": "stream",
     "text": [
      "\n"
     ]
    }
   ],
   "source": [
    "# Compute average word2vec for each review.\n",
    "\n",
    "# Init output\n",
    "sent_vectors = []\n",
    "\n",
    "for sent in tqdm(list_of_sent): # for each review\n",
    "    sent_vec  = np.zeros(50) # Set it to 0 initially. Use length=300 for google's w2v\n",
    "    cnt_words = 0; # num of words with a valid vector in the sentence/review\n",
    "    for word in sent: # for each word in review\n",
    "        if word in w2v_words:\n",
    "            vec = w2v_model.wv[word]  # get the vector\n",
    "            sent_vec += vec  # update sent_vec for current word\n",
    "            cnt_words += 1\n",
    "    if cnt_words != 0:\n",
    "        sent_vec /= cnt_words\n",
    "    sent_vectors.append(sent_vec)\n",
    "print(len(sent_vectors))\n",
    "print(len(sent_vectors[0]))"
   ]
  },
  {
   "cell_type": "code",
   "execution_count": 91,
   "metadata": {},
   "outputs": [
    {
     "name": "stdout",
     "output_type": "stream",
     "text": [
      "-------------------------------------------------- \n",
      " ['pre', 'de', 'provence', 'shea', 'butter', 'enriched', 'artisanal', 'french', 'soap', 'bar', 'olive', 'oil', 'g', 'lathers', 'beautifully', 'feels', 'luxurious', 'not', 'dry', 'irritate', 'sensitive', 'skin', 'use', 'every', 'day', 'large', 'gram', 'olive', 'oil', 'bar', 'gives', 'good', 'value', 'money', 'amazon'] \n",
      " -------------------------------------------------- \n",
      " [ 1.19558753e-01  2.87281269e-02  1.33361194e-01 -4.43060947e-02\n",
      " -1.61489833e-01 -2.95551670e-01  3.81239567e-01  9.71810677e-01\n",
      " -5.74977698e-01 -7.89283305e-04 -1.70015376e-01 -4.28118753e-01\n",
      "  1.44481790e-01  1.79491515e-01 -4.35889211e-02  1.93915213e-01\n",
      "  1.45983054e-01 -3.40936732e-02 -4.49918306e-01 -3.79738233e-01\n",
      " -1.42810808e-01  3.28486713e-01  4.64767204e-01 -3.54612342e-01\n",
      "  1.70994600e-02  2.71113275e-01 -7.89024845e-01 -4.08675272e-01\n",
      " -6.40335206e-01  1.83978429e-01  2.82767932e-01 -3.74348238e-01\n",
      " -3.69823205e-01  2.03649513e-01 -2.45772354e-01  4.00022930e-01\n",
      " -3.34056210e-02  1.17302037e-01  1.82973413e-01 -3.51248478e-01\n",
      "  3.60460045e-01 -7.95934723e-02 -5.38865681e-03  1.55376050e-01\n",
      "  8.43192820e-01 -1.95201132e-01 -3.63964856e-02 -5.15781028e-01\n",
      "  3.28953348e-01 -1.44163496e-01]\n",
      "-------------------------------------------------- \n",
      " ['lavender', 'favorite', 'soap', 'fragrance', 'no', 'surprise', 'love', 'pre', 'de', 'provence', 'french', 'lavender', 'bath', 'shower', 'gel', 'shower', 'pump', 'two', 'enough', 'nice', 'lather', 'lather', 'washes', 'easily', 'lavender', 'fragrance', 'delicate', 'lingers', 'short', 'time', 'not', 'overwhelm', 'perfume', 'aftershave', 'lotion', 'shampoo', 'scented', 'products', 'may', 'like', 'use', 'clear', 'gel', 'arrives', 'attractive', 'square', 'pump', 'dispenser', 'shower', 'gel', 'leaves', 'skin', 'silky', 'smooth', 'not', 'irritate', 'sensitive', 'skin'] \n",
      " -------------------------------------------------- \n",
      " [ 0.12625418  0.03713277  0.1542782  -0.05185741 -0.20290218 -0.3372736\n",
      "  0.43094364  1.10210172 -0.64887857  0.00339767 -0.17728192 -0.49692408\n",
      "  0.16852227  0.20977674 -0.04890165  0.21169745  0.14941228 -0.03893059\n",
      " -0.49882534 -0.43781105 -0.14115968  0.37554391  0.50754495 -0.39575885\n",
      "  0.02032377  0.29208809 -0.88819188 -0.45408062 -0.71447592  0.21712317\n",
      "  0.32475201 -0.42378849 -0.42348427  0.22574779 -0.2727277   0.46171583\n",
      " -0.02778079  0.13585118  0.21693669 -0.41453122  0.41373746 -0.08929038\n",
      " -0.01467079  0.16363834  0.95665567 -0.20379171 -0.06745674 -0.59011013\n",
      "  0.37477979 -0.15090615]\n",
      "-------------------------------------------------- \n",
      " ['love', 'pre', 'de', 'provence', 'soaps', 'intensely', 'curious', 'sea', 'salt', 'bar', 'would', 'smell', 'like', 'would', 'want', 'wash', 'hands', 'sea', 'salt', 'happily', 'pre', 'de', 'provence', 'sea', 'salt', 'french', 'soap', 'bar', 'ounce', 'no', 'different', 'pre', 'de', 'provence', 'soaps', 'smells', 'wonderful', 'produces', 'rich', 'thick', 'lather', 'fragrance', 'hard', 'describe', 'kind', 'floral', 'maybe', 'best', 'described', 'fresh', 'sea', 'breeze', 'makes', 'one', 'think', 'fresh', 'air', 'sunshine', 'fragrance', 'not', 'linger', 'overlong', 'soap', 'not', 'irritate', 'sensitive', 'skin', 'may', 'little', 'drying', 'pre', 'de', 'provence', 'soaps', 'unless', 'imagination', 'working', 'overtime', 'soap', 'definitely', 'contains', 'salt', 'ingredients', 'sodium', 'palmate', 'sodium', 'palm', 'kernelate', 'water', 'fragrance', 'palm', 'acid', 'titanium', 'dioxide', 'glycerin', 'palm', 'kernel', 'acid', 'sodium', 'chloride', 'shea', 'butter', 'sodium', 'hydroxide', 'tetrasodium', 'edta', 'tetrasodium', 'etidronate', 'benzyl', 'salicylate', 'linalool', 'geraniol', 'citral'] \n",
      " -------------------------------------------------- \n",
      " [ 0.1291702   0.01885929  0.13483199 -0.04986057 -0.15561801 -0.31244916\n",
      "  0.39220311  1.00450067 -0.59594806  0.00376036 -0.18630996 -0.43770469\n",
      "  0.14021792  0.18321509 -0.04522606  0.20956958  0.15207963 -0.03240034\n",
      " -0.46488784 -0.39169144 -0.1517583   0.34273896  0.49059551 -0.36688515\n",
      "  0.02053897  0.28014762 -0.81930781 -0.42626081 -0.67297112  0.19680021\n",
      "  0.28831651 -0.38877189 -0.37859644  0.20909    -0.2601805   0.40760165\n",
      " -0.04631705  0.11212293  0.18826412 -0.35368673  0.36551527 -0.08032208\n",
      " -0.00185973  0.15860955  0.8671672  -0.21162492 -0.02525428 -0.52997855\n",
      "  0.34056297 -0.15287964]\n",
      "-------------------------------------------------- \n",
      " ['pre', 'de', 'provence', 'sandalwood', 'shea', 'butter', 'enriched', 'soap', 'gram', 'appeal', 'male', 'members', 'household', 'mild', 'woody', 'fragrance', 'pre', 'de', 'provence', 'soaps', 'fairly', 'strong', 'flowery', 'fragrances', 'large', 'bar', 'luxurious', 'french', 'soap', 'lathers', 'beautifully', 'fragrance', 'never', 'lingers', 'long', 'soap', 'gentle', 'not', 'irritate', 'sensitive', 'skin'] \n",
      " -------------------------------------------------- \n",
      " [ 0.1319527   0.01347667  0.12883101 -0.04952792 -0.13699872 -0.30380426\n",
      "  0.37983868  0.98265674 -0.58975315  0.00258445 -0.19165523 -0.42101605\n",
      "  0.13108495  0.17777172 -0.04983259  0.21400548  0.16420166 -0.02829578\n",
      " -0.4589433  -0.37695871 -0.16061292  0.33310457  0.49386536 -0.36218961\n",
      "  0.02073101  0.27784926 -0.80141464 -0.42802622 -0.6694358   0.18534299\n",
      "  0.27905959 -0.38550836 -0.36966222  0.20996113 -0.25609601  0.39214207\n",
      " -0.0498899   0.10629806  0.1800673  -0.33772677  0.34990347 -0.07901728\n",
      "  0.00623658  0.16902931  0.85139279 -0.22085039 -0.01091643 -0.51665932\n",
      "  0.3336719  -0.15586903]\n"
     ]
    }
   ],
   "source": [
    "# Print output\n",
    "for i, (sent,vec) in enumerate(zip(list_of_sent, sent_vectors)):\n",
    "    if i <= 3:\n",
    "        print(\"-\"*50,\"\\n\", sent, \"\\n\",\"-\"*50,\"\\n\", vec)"
   ]
  },
  {
   "cell_type": "markdown",
   "metadata": {
    "id": "sKAEsZZLCAam",
    "tags": []
   },
   "source": [
    "<div class=\"alert alert-info\" style=\"background-color:#006a79; color:white; padding:0px 10px; border-radius:5px;\"><h2 style='margin:10px 5px'>11. TFIDF weighted W2v</h2>\n",
    "</div>"
   ]
  },
  {
   "cell_type": "code",
   "execution_count": 92,
   "metadata": {
    "id": "pAVTG3brCAao"
   },
   "outputs": [],
   "source": [
    "model = TfidfVectorizer()\n",
    "model.fit(df_uniq['processedText'])\n",
    "# we are converting a dictionary with word as a key, and the idf as a value\n",
    "dictionary = dict(zip(model.get_feature_names(), list(model.idf_)))"
   ]
  },
  {
   "cell_type": "markdown",
   "metadata": {},
   "source": [
    "__View dict containing IDF values (large display)__"
   ]
  },
  {
   "cell_type": "code",
   "execution_count": 95,
   "metadata": {
    "collapsed": true,
    "jupyter": {
     "outputs_hidden": true
    },
    "tags": []
   },
   "outputs": [
    {
     "data": {
      "text/plain": [
       "{'aaa': 7.841615476477592,\n",
       " 'abating': 7.841615476477592,\n",
       " 'abbey': 7.841615476477592,\n",
       " 'abd': 7.841615476477592,\n",
       " 'ability': 7.841615476477592,\n",
       " 'abit': 7.841615476477592,\n",
       " 'able': 4.923844744393313,\n",
       " 'abrasing': 7.841615476477592,\n",
       " 'abrasive': 7.841615476477592,\n",
       " 'absinthe': 7.841615476477592,\n",
       " 'absolute': 6.455321115357702,\n",
       " 'absolutely': 4.897176497311152,\n",
       " 'absolutly': 7.841615476477592,\n",
       " 'absorb': 7.841615476477592,\n",
       " 'absorbent': 7.841615476477592,\n",
       " 'absorbs': 6.7430031878094825,\n",
       " 'absorption': 7.841615476477592,\n",
       " 'abstain': 7.841615476477592,\n",
       " 'abut': 7.841615476477592,\n",
       " 'acceptable': 6.9253247446034365,\n",
       " 'accepted': 7.841615476477592,\n",
       " 'accessories': 7.841615476477592,\n",
       " 'accessory': 7.436150368369428,\n",
       " 'accidentally': 6.7430031878094825,\n",
       " 'accommodate': 7.436150368369428,\n",
       " 'accompanies': 7.841615476477592,\n",
       " 'accordance': 7.841615476477592,\n",
       " 'according': 6.9253247446034365,\n",
       " 'account': 6.9253247446034365,\n",
       " 'accounting': 7.841615476477592,\n",
       " 'accurate': 7.436150368369428,\n",
       " 'accurately': 7.841615476477592,\n",
       " 'accustomed': 7.841615476477592,\n",
       " 'acetate': 7.148468295917647,\n",
       " 'acetic': 7.841615476477592,\n",
       " 'acetone': 7.841615476477592,\n",
       " 'ache': 7.436150368369428,\n",
       " 'ached': 7.841615476477592,\n",
       " 'aches': 7.841615476477592,\n",
       " 'achieve': 7.841615476477592,\n",
       " 'achilles': 7.841615476477592,\n",
       " 'aching': 7.436150368369428,\n",
       " 'acid': 6.588852507982224,\n",
       " 'acidic': 7.841615476477592,\n",
       " 'acids': 7.436150368369428,\n",
       " 'acne': 7.148468295917647,\n",
       " 'acqua': 7.841615476477592,\n",
       " 'acquainted': 7.841615476477592,\n",
       " 'acquire': 7.841615476477592,\n",
       " 'across': 6.7430031878094825,\n",
       " 'act': 6.9253247446034365,\n",
       " 'acting': 7.841615476477592,\n",
       " 'action': 6.7430031878094825,\n",
       " 'activating': 7.841615476477592,\n",
       " 'active': 6.232177564043492,\n",
       " 'activities': 7.148468295917647,\n",
       " 'activity': 7.841615476477592,\n",
       " 'acts': 7.841615476477592,\n",
       " 'actual': 6.588852507982224,\n",
       " 'actuality': 7.841615476477592,\n",
       " 'actually': 4.545778610473263,\n",
       " 'adam': 7.436150368369428,\n",
       " 'adapter': 7.841615476477592,\n",
       " 'adapters': 7.841615476477592,\n",
       " 'add': 5.701549312981322,\n",
       " 'added': 5.6443908991413725,\n",
       " 'addicted': 7.436150368369428,\n",
       " 'addictive': 7.841615476477592,\n",
       " 'adding': 6.455321115357702,\n",
       " 'addition': 6.337538079701318,\n",
       " 'additional': 7.436150368369428,\n",
       " 'additionally': 7.436150368369428,\n",
       " 'additions': 7.841615476477592,\n",
       " 'additive': 7.841615476477592,\n",
       " 'additives': 7.436150368369428,\n",
       " 'address': 7.436150368369428,\n",
       " 'adds': 6.9253247446034365,\n",
       " 'adequate': 7.841615476477592,\n",
       " 'adequately': 7.841615476477592,\n",
       " 'adhere': 7.436150368369428,\n",
       " 'adherence': 7.841615476477592,\n",
       " 'adidas': 7.841615476477592,\n",
       " 'adjust': 6.588852507982224,\n",
       " 'adjustable': 7.436150368369428,\n",
       " 'adjustment': 7.841615476477592,\n",
       " 'adjustments': 7.148468295917647,\n",
       " 'admit': 7.436150368369428,\n",
       " 'admittedly': 7.436150368369428,\n",
       " 'adorable': 7.148468295917647,\n",
       " 'adore': 6.455321115357702,\n",
       " 'adores': 7.841615476477592,\n",
       " 'adult': 6.588852507982224,\n",
       " 'adults': 7.436150368369428,\n",
       " 'advantage': 7.841615476477592,\n",
       " 'adventure': 7.841615476477592,\n",
       " 'advertised': 5.969813299576001,\n",
       " 'advertisement': 7.841615476477592,\n",
       " 'advertising': 7.841615476477592,\n",
       " 'advice': 7.436150368369428,\n",
       " 'advised': 7.841615476477592,\n",
       " 'aerobic': 7.841615476477592,\n",
       " 'aerobics': 7.841615476477592,\n",
       " 'aerosol': 7.148468295917647,\n",
       " 'affects': 7.841615476477592,\n",
       " 'affix': 7.841615476477592,\n",
       " 'afford': 7.436150368369428,\n",
       " 'affordable': 6.7430031878094825,\n",
       " 'afraid': 6.9253247446034365,\n",
       " 'afternoon': 7.841615476477592,\n",
       " 'aftershave': 7.148468295917647,\n",
       " 'aftertaste': 7.148468295917647,\n",
       " 'afterthought': 7.841615476477592,\n",
       " 'afterward': 7.436150368369428,\n",
       " 'afterwards': 6.455321115357702,\n",
       " 'age': 6.136867384239167,\n",
       " 'ages': 7.436150368369428,\n",
       " 'aggravating': 7.841615476477592,\n",
       " 'aggressive': 7.148468295917647,\n",
       " 'agian': 7.436150368369428,\n",
       " 'agin': 7.841615476477592,\n",
       " 'aging': 7.841615476477592,\n",
       " 'agitator': 7.148468295917647,\n",
       " 'ago': 5.202558146862334,\n",
       " 'agree': 6.455321115357702,\n",
       " 'agrumes': 6.588852507982224,\n",
       " 'ahem': 7.841615476477592,\n",
       " 'ahhh': 7.841615476477592,\n",
       " 'aid': 7.841615476477592,\n",
       " 'aide': 7.841615476477592,\n",
       " 'air': 5.539030383483547,\n",
       " 'airbnb': 7.841615476477592,\n",
       " 'airport': 7.841615476477592,\n",
       " 'airy': 7.148468295917647,\n",
       " 'aisle': 7.841615476477592,\n",
       " 'alaska': 7.841615476477592,\n",
       " 'alchohol': 7.436150368369428,\n",
       " 'alcohol': 5.539030383483547,\n",
       " 'alcoholic': 7.436150368369428,\n",
       " 'alert': 7.841615476477592,\n",
       " 'alien': 7.841615476477592,\n",
       " 'alive': 7.436150368369428,\n",
       " 'alka': 7.841615476477592,\n",
       " 'allen': 7.841615476477592,\n",
       " 'allergenic': 6.7430031878094825,\n",
       " 'allergic': 7.436150368369428,\n",
       " 'allergies': 6.7430031878094825,\n",
       " 'allergy': 7.148468295917647,\n",
       " 'allow': 6.455321115357702,\n",
       " 'allowed': 7.841615476477592,\n",
       " 'allows': 7.148468295917647,\n",
       " 'almond': 6.232177564043492,\n",
       " 'almost': 5.167466827051063,\n",
       " 'aloe': 6.9253247446034365,\n",
       " 'alone': 6.588852507982224,\n",
       " 'along': 5.895705327422279,\n",
       " 'alot': 7.436150368369428,\n",
       " 'already': 5.895705327422279,\n",
       " 'also': 3.6147817312094124,\n",
       " 'alterna': 7.841615476477592,\n",
       " 'alternative': 6.455321115357702,\n",
       " 'alternatives': 7.841615476477592,\n",
       " 'althea': 7.436150368369428,\n",
       " 'although': 5.356708826689592,\n",
       " 'altogether': 7.841615476477592,\n",
       " 'always': 4.190957235183854,\n",
       " 'amana': 7.148468295917647,\n",
       " 'amazed': 7.148468295917647,\n",
       " 'amazing': 4.509410966302388,\n",
       " 'amazingly': 7.148468295917647,\n",
       " 'amazon': 4.457225213131817,\n",
       " 'amazons': 7.841615476477592,\n",
       " 'amber': 7.841615476477592,\n",
       " 'ambergris': 7.841615476477592,\n",
       " 'amedium': 7.841615476477592,\n",
       " 'american': 7.841615476477592,\n",
       " 'amethyst': 7.841615476477592,\n",
       " 'amla': 7.841615476477592,\n",
       " 'amnazon': 7.841615476477592,\n",
       " 'amope': 7.841615476477592,\n",
       " 'amount': 5.100775452552391,\n",
       " 'ample': 7.841615476477592,\n",
       " 'amplifying': 7.841615476477592,\n",
       " 'amused': 7.841615476477592,\n",
       " 'amusement': 7.841615476477592,\n",
       " 'ancient': 7.841615476477592,\n",
       " 'andalou': 7.841615476477592,\n",
       " 'anew': 7.841615476477592,\n",
       " 'angel': 6.455321115357702,\n",
       " 'angels': 7.841615476477592,\n",
       " 'angle': 7.148468295917647,\n",
       " 'angled': 7.841615476477592,\n",
       " 'angles': 7.148468295917647,\n",
       " 'angry': 7.841615476477592,\n",
       " 'animal': 6.588852507982224,\n",
       " 'animals': 7.436150368369428,\n",
       " 'anise': 7.841615476477592,\n",
       " 'ankle': 6.588852507982224,\n",
       " 'annick': 7.841615476477592,\n",
       " 'anniversary': 7.841615476477592,\n",
       " 'annoying': 6.455321115357702,\n",
       " 'annual': 7.841615476477592,\n",
       " 'another': 4.663561646129646,\n",
       " 'answer': 6.9253247446034365,\n",
       " 'antaeus': 7.841615476477592,\n",
       " 'anti': 6.9253247446034365,\n",
       " 'antibacterial': 7.148468295917647,\n",
       " 'anticavity': 7.436150368369428,\n",
       " 'anticipated': 7.148468295917647,\n",
       " 'antioxidant': 7.148468295917647,\n",
       " 'anybody': 7.841615476477592,\n",
       " 'anymore': 5.539030383483547,\n",
       " 'anyone': 5.356708826689592,\n",
       " 'anything': 5.008402132421376,\n",
       " 'anytime': 7.148468295917647,\n",
       " 'anyway': 6.049856007249537,\n",
       " 'anyways': 7.841615476477592,\n",
       " 'anywhere': 5.895705327422279,\n",
       " 'apart': 7.148468295917647,\n",
       " 'apology': 7.841615476477592,\n",
       " 'apparently': 7.436150368369428,\n",
       " 'appeal': 7.436150368369428,\n",
       " 'appealing': 7.436150368369428,\n",
       " 'appear': 6.455321115357702,\n",
       " 'appearance': 7.436150368369428,\n",
       " 'appeared': 7.841615476477592,\n",
       " 'appears': 6.9253247446034365,\n",
       " 'apple': 6.7430031878094825,\n",
       " 'appliance': 6.9253247446034365,\n",
       " 'application': 6.337538079701318,\n",
       " 'applicationshake': 7.841615476477592,\n",
       " 'applicator': 7.148468295917647,\n",
       " 'applied': 6.232177564043492,\n",
       " 'apply': 5.701549312981322,\n",
       " 'applying': 6.232177564043492,\n",
       " 'appointment': 7.148468295917647,\n",
       " 'appreciate': 6.455321115357702,\n",
       " 'appreciated': 7.148468295917647,\n",
       " 'appreciates': 7.841615476477592,\n",
       " 'approaching': 7.841615476477592,\n",
       " 'appropriate': 7.148468295917647,\n",
       " 'approximately': 7.148468295917647,\n",
       " 'apricot': 6.455321115357702,\n",
       " 'apt': 7.841615476477592,\n",
       " 'aqua': 7.841615476477592,\n",
       " 'aquaphor': 6.9253247446034365,\n",
       " 'aquatic': 7.841615476477592,\n",
       " 'arch': 5.969813299576001,\n",
       " 'arches': 6.7430031878094825,\n",
       " 'arcitec': 7.841615476477592,\n",
       " 'arden': 7.841615476477592,\n",
       " 'area': 5.490240219314114,\n",
       " 'areas': 5.762173934797756,\n",
       " 'argon': 7.841615476477592,\n",
       " 'arising': 7.841615476477592,\n",
       " 'arms': 6.9253247446034365,\n",
       " 'aroma': 5.826712455935327,\n",
       " 'aromas': 7.436150368369428,\n",
       " 'aromatherapy': 7.148468295917647,\n",
       " 'aromatic': 6.7430031878094825,\n",
       " 'around': 4.706121260548443,\n",
       " 'array': 7.148468295917647,\n",
       " 'arrive': 7.841615476477592,\n",
       " 'arrived': 5.133565275375382,\n",
       " 'arrives': 7.436150368369428,\n",
       " 'arrow': 7.841615476477592,\n",
       " 'art': 7.841615476477592,\n",
       " 'artculo': 7.841615476477592,\n",
       " 'arthritis': 7.841615476477592,\n",
       " 'artificial': 6.588852507982224,\n",
       " 'artisan': 7.841615476477592,\n",
       " 'artisanal': 6.232177564043492,\n",
       " 'artisinal': 7.841615476477592,\n",
       " 'artists': 7.841615476477592,\n",
       " 'ashamed': 7.841615476477592,\n",
       " 'asian': 7.841615476477592,\n",
       " 'aside': 6.7430031878094825,\n",
       " 'ask': 5.6443908991413725,\n",
       " 'asked': 7.148468295917647,\n",
       " 'asking': 7.841615476477592,\n",
       " 'aspect': 7.148468295917647,\n",
       " 'aspects': 7.841615476477592,\n",
       " 'assess': 7.841615476477592,\n",
       " 'asset': 7.841615476477592,\n",
       " 'association': 7.841615476477592,\n",
       " 'assortment': 7.436150368369428,\n",
       " 'assume': 7.436150368369428,\n",
       " 'assumed': 7.436150368369428,\n",
       " 'assuming': 7.841615476477592,\n",
       " 'assumption': 7.841615476477592,\n",
       " 'asterisks': 6.7430031878094825,\n",
       " 'astonished': 7.841615476477592,\n",
       " 'astounded': 7.841615476477592,\n",
       " 'athleta': 7.841615476477592,\n",
       " 'athletic': 6.7430031878094825,\n",
       " 'atisan': 7.841615476477592,\n",
       " 'atleast': 7.436150368369428,\n",
       " 'atmosphere': 7.436150368369428,\n",
       " 'atomizers': 7.841615476477592,\n",
       " 'attach': 6.9253247446034365,\n",
       " 'attached': 6.455321115357702,\n",
       " 'attaches': 7.841615476477592,\n",
       " 'attaching': 7.841615476477592,\n",
       " 'attachment': 7.148468295917647,\n",
       " 'attachments': 7.148468295917647,\n",
       " 'attacked': 7.841615476477592,\n",
       " 'attempt': 7.841615476477592,\n",
       " 'attention': 6.588852507982224,\n",
       " 'attract': 7.841615476477592,\n",
       " 'attracted': 7.436150368369428,\n",
       " 'attractive': 6.7430031878094825,\n",
       " 'aubergine': 7.841615476477592,\n",
       " 'aunt': 7.148468295917647,\n",
       " 'aura': 7.841615476477592,\n",
       " 'authorized': 6.9253247446034365,\n",
       " 'auto': 7.436150368369428,\n",
       " 'automatic': 7.841615476477592,\n",
       " 'automatically': 7.841615476477592,\n",
       " 'autumn': 7.148468295917647,\n",
       " 'available': 5.100775452552391,\n",
       " 'avalon': 7.148468295917647,\n",
       " 'ave': 7.841615476477592,\n",
       " 'aveda': 7.841615476477592,\n",
       " 'average': 6.049856007249537,\n",
       " 'avid': 7.841615476477592,\n",
       " 'avoid': 6.7430031878094825,\n",
       " 'avoided': 7.841615476477592,\n",
       " 'avon': 6.9253247446034365,\n",
       " 'awards': 7.841615476477592,\n",
       " 'aware': 7.436150368369428,\n",
       " 'away': 4.797093038754169,\n",
       " 'aways': 7.841615476477592,\n",
       " 'awesome': 4.951243718581427,\n",
       " 'awful': 7.148468295917647,\n",
       " 'awhile': 7.436150368369428,\n",
       " 'awkward': 7.436150368369428,\n",
       " 'ax': 7.841615476477592,\n",
       " 'axe': 6.455321115357702,\n",
       " 'az': 7.841615476477592,\n",
       " 'azur': 7.148468295917647,\n",
       " 'baby': 5.6443908991413725,\n",
       " 'back': 4.3758795736778655,\n",
       " 'backed': 7.436150368369428,\n",
       " 'background': 7.841615476477592,\n",
       " 'backing': 7.841615476477592,\n",
       " 'backstory': 7.841615476477592,\n",
       " 'backup': 7.841615476477592,\n",
       " 'backwards': 7.841615476477592,\n",
       " 'bacteria': 6.7430031878094825,\n",
       " 'bad': 5.038255095571057,\n",
       " 'badly': 7.841615476477592,\n",
       " 'bag': 5.969813299576001,\n",
       " 'bags': 6.9253247446034365,\n",
       " 'bah': 7.841615476477592,\n",
       " 'bailing': 7.841615476477592,\n",
       " 'bain': 7.841615476477592,\n",
       " 'baked': 7.841615476477592,\n",
       " 'baking': 7.841615476477592,\n",
       " 'balance': 7.436150368369428,\n",
       " 'balanced': 7.841615476477592,\n",
       " 'balances': 7.436150368369428,\n",
       " 'ball': 7.148468295917647,\n",
       " 'ballet': 7.436150368369428,\n",
       " 'balm': 7.148468295917647,\n",
       " 'balms': 7.841615476477592,\n",
       " 'bamboo': 6.588852507982224,\n",
       " 'banana': 7.436150368369428,\n",
       " 'bananas': 7.841615476477592,\n",
       " 'band': 7.436150368369428,\n",
       " 'bandage': 7.841615476477592,\n",
       " 'bar': 4.190957235183854,\n",
       " 'barbadensis': 7.841615476477592,\n",
       " 'barbiturates': 7.841615476477592,\n",
       " 'bare': 6.588852507982224,\n",
       " 'barefeet': 7.841615476477592,\n",
       " 'barefoot': 7.841615476477592,\n",
       " 'barefooted': 7.841615476477592,\n",
       " 'barely': 6.337538079701318,\n",
       " 'bargain': 7.436150368369428,\n",
       " 'bars': 5.167466827051063,\n",
       " 'base': 6.049856007249537,\n",
       " 'basecoat': 7.841615476477592,\n",
       " 'based': 6.136867384239167,\n",
       " 'basement': 7.841615476477592,\n",
       " 'basic': 6.136867384239167,\n",
       " 'basically': 6.455321115357702,\n",
       " 'basil': 7.841615476477592,\n",
       " 'basin': 7.841615476477592,\n",
       " 'basis': 6.9253247446034365,\n",
       " 'basket': 7.841615476477592,\n",
       " 'bath': 4.545778610473263,\n",
       " 'bathed': 7.148468295917647,\n",
       " 'bathing': 7.148468295917647,\n",
       " 'bathroom': 5.276666119016055,\n",
       " 'baths': 6.9253247446034365,\n",
       " 'bathtub': 7.148468295917647,\n",
       " 'bathwater': 7.841615476477592,\n",
       " 'batteries': 6.9253247446034365,\n",
       " 'battery': 6.588852507982224,\n",
       " 'bay': 7.841615476477592,\n",
       " 'beach': 6.9253247446034365,\n",
       " 'beads': 7.436150368369428,\n",
       " 'bean': 7.841615476477592,\n",
       " 'beans': 7.841615476477592,\n",
       " 'bear': 7.841615476477592,\n",
       " 'beard': 7.436150368369428,\n",
       " 'beat': 6.588852507982224,\n",
       " 'beats': 7.841615476477592,\n",
       " 'beauticontrol': 7.841615476477592,\n",
       " 'beautiful': 4.728100167267218,\n",
       " 'beautifully': 6.232177564043492,\n",
       " 'beauty': 6.232177564043492,\n",
       " 'became': 7.148468295917647,\n",
       " 'become': 6.7430031878094825,\n",
       " 'becomes': 7.148468295917647,\n",
       " 'becoming': 6.7430031878094825,\n",
       " 'bed': 6.136867384239167,\n",
       " 'bedbathandbeyond': 7.841615476477592,\n",
       " 'bedding': 7.841615476477592,\n",
       " 'bedroom': 6.588852507982224,\n",
       " 'beds': 7.841615476477592,\n",
       " 'bedtime': 7.841615476477592,\n",
       " 'bee': 7.436150368369428,\n",
       " 'beennjust': 7.841615476477592,\n",
       " 'bees': 7.436150368369428,\n",
       " 'began': 6.7430031878094825,\n",
       " 'begin': 7.148468295917647,\n",
       " 'beginner': 7.841615476477592,\n",
       " 'beginnings': 7.148468295917647,\n",
       " 'begins': 7.841615476477592,\n",
       " 'begun': 7.841615476477592,\n",
       " 'behalf': 7.841615476477592,\n",
       " 'behavior': 7.841615476477592,\n",
       " 'behind': 6.232177564043492,\n",
       " 'beige': 7.841615476477592,\n",
       " 'believe': 5.969813299576001,\n",
       " 'believed': 7.436150368369428,\n",
       " 'believer': 7.436150368369428,\n",
       " 'bell': 7.841615476477592,\n",
       " 'bellamy': 7.841615476477592,\n",
       " 'bellmira': 7.841615476477592,\n",
       " 'bend': 6.9253247446034365,\n",
       " 'beneficial': 6.588852507982224,\n",
       " 'benefit': 6.7430031878094825,\n",
       " 'benefits': 6.232177564043492,\n",
       " 'benzyl': 7.841615476477592,\n",
       " 'bergamont': 7.841615476477592,\n",
       " 'bergamot': 6.7430031878094825,\n",
       " 'berry': 7.148468295917647,\n",
       " 'beside': 7.841615476477592,\n",
       " 'besides': 6.9253247446034365,\n",
       " 'best': 3.6984807500860595,\n",
       " 'bet': 7.436150368369428,\n",
       " 'beta': 7.841615476477592,\n",
       " 'better': 4.140313502365099,\n",
       " 'beware': 7.841615476477592,\n",
       " 'beyond': 6.7430031878094825,\n",
       " 'big': 4.5644707434854155,\n",
       " 'bigger': 5.895705327422279,\n",
       " 'biggest': 7.148468295917647,\n",
       " 'bill': 6.9253247446034365,\n",
       " 'biloba': 7.841615476477592,\n",
       " 'bin': 7.841615476477592,\n",
       " 'bind': 7.841615476477592,\n",
       " 'biolage': 7.148468295917647,\n",
       " 'bionutrients': 7.841615476477592,\n",
       " 'birds': 7.841615476477592,\n",
       " 'birthday': 6.9253247446034365,\n",
       " 'bit': 4.244303215889146,\n",
       " 'bits': 5.762173934797756,\n",
       " 'bitter': 7.841615476477592,\n",
       " 'black': 6.049856007249537,\n",
       " 'blade': 7.436150368369428,\n",
       " 'blades': 6.588852507982224,\n",
       " 'blah': 7.841615476477592,\n",
       " 'blame': 7.841615476477592,\n",
       " 'blankets': 7.841615476477592,\n",
       " 'bleach': 7.148468295917647,\n",
       " 'bleached': 7.841615476477592,\n",
       " 'bleed': 7.436150368369428,\n",
       " 'blemishes': 7.841615476477592,\n",
       " 'blend': 6.232177564043492,\n",
       " 'blended': 6.455321115357702,\n",
       " 'blends': 7.841615476477592,\n",
       " 'blessing': 7.841615476477592,\n",
       " 'blew': 7.148468295917647,\n",
       " 'blister': 7.841615476477592,\n",
       " 'blisters': 7.436150368369428,\n",
       " 'blockage': 7.841615476477592,\n",
       " 'blocker': 7.841615476477592,\n",
       " 'blocking': 7.436150368369428,\n",
       " 'blocks': 7.148468295917647,\n",
       " 'blonde': 6.9253247446034365,\n",
       " 'blood': 7.148468295917647,\n",
       " 'blooms': 7.841615476477592,\n",
       " 'blossom': 7.436150368369428,\n",
       " 'blossoms': 6.232177564043492,\n",
       " 'blotches': 7.841615476477592,\n",
       " 'blouses': 7.841615476477592,\n",
       " 'blow': 6.136867384239167,\n",
       " 'blowdry': 7.841615476477592,\n",
       " 'blower': 7.436150368369428,\n",
       " 'blowing': 7.841615476477592,\n",
       " 'blown': 7.436150368369428,\n",
       " 'blue': 5.590323677871097,\n",
       " 'blueberry': 7.841615476477592,\n",
       " 'bluffs': 7.841615476477592,\n",
       " 'blunt': 7.841615476477592,\n",
       " 'blush': 6.7430031878094825,\n",
       " 'blushes': 7.841615476477592,\n",
       " 'bob': 7.841615476477592,\n",
       " 'body': 3.6444135288157837,\n",
       " 'bodyspary': 7.841615476477592,\n",
       " 'bodywash': 7.841615476477592,\n",
       " 'boils': 7.841615476477592,\n",
       " 'bold': 7.148468295917647,\n",
       " 'bolds': 7.841615476477592,\n",
       " 'bomb': 7.841615476477592,\n",
       " 'bombarded': 7.841615476477592,\n",
       " 'bone': 7.841615476477592,\n",
       " 'bones': 7.436150368369428,\n",
       " 'bonus': 6.9253247446034365,\n",
       " 'book': 7.436150368369428,\n",
       " 'books': 7.841615476477592,\n",
       " 'boon': 7.841615476477592,\n",
       " 'boost': 7.841615476477592,\n",
       " 'booster': 7.841615476477592,\n",
       " 'boot': 6.7430031878094825,\n",
       " 'bootcamps': 7.841615476477592,\n",
       " 'booties': 7.148468295917647,\n",
       " 'boots': 7.148468295917647,\n",
       " 'botanical': 7.841615476477592,\n",
       " 'botanicals': 6.455321115357702,\n",
       " 'bother': 6.455321115357702,\n",
       " 'bothered': 7.148468295917647,\n",
       " 'bothering': 7.841615476477592,\n",
       " 'bothers': 7.841615476477592,\n",
       " 'bottle': 4.407628271992445,\n",
       " 'bottled': 7.841615476477592,\n",
       " 'bottles': 5.6443908991413725,\n",
       " 'bottom': 5.590323677871097,\n",
       " 'bottoms': 7.841615476477592,\n",
       " 'boucl': 7.436150368369428,\n",
       " 'boucle': 7.436150368369428,\n",
       " 'bought': 4.11592204924094,\n",
       " 'bounce': 7.841615476477592,\n",
       " 'bouncy': 7.148468295917647,\n",
       " 'bouquet': 7.841615476477592,\n",
       " 'boutique': 7.841615476477592,\n",
       " 'bow': 7.841615476477592,\n",
       " 'bowls': 7.841615476477592,\n",
       " 'box': 5.276666119016055,\n",
       " 'boxes': 7.841615476477592,\n",
       " 'boxier': 7.841615476477592,\n",
       " 'boy': 7.436150368369428,\n",
       " 'boyfriend': 6.9253247446034365,\n",
       " 'boys': 7.841615476477592,\n",
       " 'brace': 7.841615476477592,\n",
       " 'braces': 6.337538079701318,\n",
       " 'bracing': 7.841615476477592,\n",
       " 'brackets': 7.436150368369428,\n",
       " 'brainer': 7.841615476477592,\n",
       " 'brand': 4.923844744393313,\n",
       " 'brands': 5.590323677871097,\n",
       " 'braun': 7.841615476477592,\n",
       " 'bravo': 7.841615476477592,\n",
       " 'break': 6.337538079701318,\n",
       " 'breakable': 7.436150368369428,\n",
       " 'breakage': 7.841615476477592,\n",
       " 'breaker': 7.841615476477592,\n",
       " 'breaking': 6.337538079701318,\n",
       " 'breakout': 7.841615476477592,\n",
       " 'breakouts': 7.148468295917647,\n",
       " 'breaks': 7.841615476477592,\n",
       " 'breast': 7.841615476477592,\n",
       " 'breath': 5.969813299576001,\n",
       " 'breathable': 7.148468295917647,\n",
       " 'breathe': 7.148468295917647,\n",
       " 'breathes': 7.841615476477592,\n",
       " 'breeze': 7.841615476477592,\n",
       " 'breezy': 7.148468295917647,\n",
       " 'brick': 7.841615476477592,\n",
       " 'bricks': 7.841615476477592,\n",
       " 'brief': 7.841615476477592,\n",
       " 'bright': 5.826712455935327,\n",
       " 'brightened': 7.841615476477592,\n",
       " 'brightens': 7.841615476477592,\n",
       " 'brighter': 7.841615476477592,\n",
       " 'brilliant': 7.148468295917647,\n",
       " 'brine': 7.841615476477592,\n",
       " 'bring': 6.136867384239167,\n",
       " 'brings': 7.148468295917647,\n",
       " 'brisk': 7.841615476477592,\n",
       " 'bristle': 7.436150368369428,\n",
       " 'bristled': 7.841615476477592,\n",
       " 'bristles': 6.455321115357702,\n",
       " 'britney': 7.841615476477592,\n",
       " 'brittle': 7.148468295917647,\n",
       " 'broader': 7.841615476477592,\n",
       " 'broke': 6.9253247446034365,\n",
       " 'broken': 6.337538079701318,\n",
       " 'bromelain': 7.841615476477592,\n",
       " 'bronner': 7.841615476477592,\n",
       " 'brother': 7.436150368369428,\n",
       " 'brought': 7.148468295917647,\n",
       " 'brow': 7.841615476477592,\n",
       " 'brown': 6.7430031878094825,\n",
       " 'brownish': 7.841615476477592,\n",
       " 'brunette': 7.841615476477592,\n",
       " 'brush': 4.821190590333229,\n",
       " 'brushed': 7.841615476477592,\n",
       " 'brushers': 7.841615476477592,\n",
       " 'brushes': 6.049856007249537,\n",
       " 'brushing': 5.539030383483547,\n",
       " 'brushings': 7.436150368369428,\n",
       " 'btw': 7.841615476477592,\n",
       " 'bubble': 5.701549312981322,\n",
       " 'bubblegum': 6.588852507982224,\n",
       " 'bubbles': 6.7430031878094825,\n",
       " 'bucket': 7.841615476477592,\n",
       " 'bucks': 7.436150368369428,\n",
       " 'budget': 7.436150368369428,\n",
       " 'buds': 7.841615476477592,\n",
       " 'bueller': 7.841615476477592,\n",
       " 'bueno': 7.841615476477592,\n",
       " 'buf': 7.841615476477592,\n",
       " 'buff': 7.841615476477592,\n",
       " 'buffing': 7.436150368369428,\n",
       " 'buffs': 7.841615476477592,\n",
       " 'build': 6.588852507982224,\n",
       " 'building': 7.436150368369428,\n",
       " 'buildup': 7.148468295917647,\n",
       " 'built': 6.588852507982224,\n",
       " 'bulb': 7.841615476477592,\n",
       " 'bulk': 6.7430031878094825,\n",
       " 'bulky': 6.9253247446034365,\n",
       " 'bull': 7.841615476477592,\n",
       " 'bullet': 7.841615476477592,\n",
       " 'bumpy': 7.841615476477592,\n",
       " 'bunch': 7.436150368369428,\n",
       " 'bundle': 7.841615476477592,\n",
       " 'bunion': 7.841615476477592,\n",
       " 'burgundy': 7.841615476477592,\n",
       " 'burke': 7.148468295917647,\n",
       " 'burn': 6.455321115357702,\n",
       " 'burned': 7.148468295917647,\n",
       " 'burner': 7.841615476477592,\n",
       " 'burning': 6.455321115357702,\n",
       " 'burns': 7.841615476477592,\n",
       " 'burst': 7.436150368369428,\n",
       " 'burt': 7.841615476477592,\n",
       " 'burts': 7.841615476477592,\n",
       " 'bury': 7.436150368369428,\n",
       " 'bush': 7.841615476477592,\n",
       " 'business': 6.7430031878094825,\n",
       " 'businessman': 7.841615476477592,\n",
       " 'buster': 7.841615476477592,\n",
       " 'butted': 7.841615476477592,\n",
       " 'butter': 4.773562541343975,\n",
       " 'button': 6.9253247446034365,\n",
       " 'buy': 3.7811724659311725,\n",
       " 'buyer': 7.148468295917647,\n",
       " 'buying': 5.202558146862334,\n",
       " 'buys': 7.436150368369428,\n",
       " 'buzz': 7.841615476477592,\n",
       " 'bvlgari': 7.841615476477592,\n",
       " 'bw': 7.436150368369428,\n",
       " 'ca': 5.826712455935327,\n",
       " 'cabinet': 7.841615476477592,\n",
       " 'cablin': 7.841615476477592,\n",
       " 'caddy': 7.148468295917647,\n",
       " 'cake': 7.841615476477592,\n",
       " 'calcium': 7.436150368369428,\n",
       " 'calf': 7.841615476477592,\n",
       " 'calibra': 7.436150368369428,\n",
       " 'call': 6.588852507982224,\n",
       " 'called': 6.7430031878094825,\n",
       " 'callous': 7.841615476477592,\n",
       " 'calloused': 7.841615476477592,\n",
       " 'calls': 7.841615476477592,\n",
       " 'calluses': 7.148468295917647,\n",
       " 'calm': 6.9253247446034365,\n",
       " 'calmness': 7.841615476477592,\n",
       " 'calofornia': 7.841615476477592,\n",
       " 'calves': 7.841615476477592,\n",
       " 'cam': 7.841615476477592,\n",
       " 'came': 5.276666119016055,\n",
       " 'camomile': 7.841615476477592,\n",
       " 'camp': 7.148468295917647,\n",
       " 'camping': 7.841615476477592,\n",
       " 'canada': 7.841615476477592,\n",
       " 'cancel': 7.841615476477592,\n",
       " 'cancelled': 7.841615476477592,\n",
       " 'cancer': 7.436150368369428,\n",
       " 'cancerous': 7.841615476477592,\n",
       " 'candies': 7.841615476477592,\n",
       " 'candles': 7.841615476477592,\n",
       " 'candy': 7.148468295917647,\n",
       " 'canister': 7.436150368369428,\n",
       " 'cannot': 6.049856007249537,\n",
       " 'cans': 7.841615476477592,\n",
       " 'cant': 6.337538079701318,\n",
       " 'cap': 6.337538079701318,\n",
       " 'capacity': 7.841615476477592,\n",
       " 'cape': 7.436150368369428,\n",
       " 'capful': 7.841615476477592,\n",
       " 'capfuls': 7.841615476477592,\n",
       " 'capric': 7.436150368369428,\n",
       " 'capris': 7.841615476477592,\n",
       " 'caprylic': 7.436150368369428,\n",
       " 'captured': 7.841615476477592,\n",
       " 'car': 7.841615476477592,\n",
       " 'carac': 7.841615476477592,\n",
       " 'carbide': 7.841615476477592,\n",
       " 'card': 7.148468295917647,\n",
       " 'cardamom': 7.841615476477592,\n",
       " 'cardio': 6.588852507982224,\n",
       " 'care': 5.133565275375382,\n",
       " 'careful': 5.895705327422279,\n",
       " 'carefully': 7.148468295917647,\n",
       " 'caress': 7.841615476477592,\n",
       " 'caring': 7.841615476477592,\n",
       " 'carlton': 7.841615476477592,\n",
       " 'carotene': 7.841615476477592,\n",
       " 'carpentry': 7.841615476477592,\n",
       " 'carpet': 7.841615476477592,\n",
       " 'carried': 7.436150368369428,\n",
       " 'carries': 7.436150368369428,\n",
       " 'carrots': 7.841615476477592,\n",
       " 'carry': 6.7430031878094825,\n",
       " 'carrying': 5.969813299576001,\n",
       " 'carying': 7.841615476477592,\n",
       " 'case': 5.443720203679222,\n",
       " 'cases': 7.841615476477592,\n",
       " 'casing': 7.841615476477592,\n",
       " 'cassia': 7.841615476477592,\n",
       " 'castigated': 7.841615476477592,\n",
       " 'castile': 7.841615476477592,\n",
       " 'casual': 7.436150368369428,\n",
       " 'cat': 7.841615476477592,\n",
       " 'catalyst': 7.841615476477592,\n",
       " 'catch': 7.841615476477592,\n",
       " 'category': 7.841615476477592,\n",
       " 'caught': 7.841615476477592,\n",
       " 'cause': 6.049856007249537,\n",
       " 'caused': 6.588852507982224,\n",
       " 'causes': 7.148468295917647,\n",
       " 'causing': 6.9253247446034365,\n",
       " 'caution': 7.841615476477592,\n",
       " 'cautious': 7.841615476477592,\n",
       " 'cavities': 7.436150368369428,\n",
       " 'cavity': 6.588852507982224,\n",
       " 'cell': 7.436150368369428,\n",
       " 'cellophane': 7.436150368369428,\n",
       " 'cells': 6.232177564043492,\n",
       " 'cellular': 7.436150368369428,\n",
       " 'cellulite': 7.841615476477592,\n",
       " 'cellulose': 7.436150368369428,\n",
       " 'cempaka': 7.841615476477592,\n",
       " 'cent': 7.841615476477592,\n",
       " 'cents': 7.436150368369428,\n",
       " 'ceramic': 7.148468295917647,\n",
       " 'certain': 6.588852507982224,\n",
       " 'certainly': 5.969813299576001,\n",
       " 'certified': 7.436150368369428,\n",
       " 'cetearyl': 7.841615476477592,\n",
       " 'cetyl': 7.841615476477592,\n",
       " 'cetylpyridinium': 7.841615476477592,\n",
       " 'cfh': 6.9253247446034365,\n",
       " 'chain': 7.841615476477592,\n",
       " 'challenge': 7.841615476477592,\n",
       " 'challenged': 7.841615476477592,\n",
       " 'chamomile': 7.148468295917647,\n",
       " 'chance': 6.9253247446034365,\n",
       " 'chances': 7.841615476477592,\n",
       " 'chanel': 7.436150368369428,\n",
       " 'change': 5.701549312981322,\n",
       " 'changed': 5.895705327422279,\n",
       " 'changer': 7.841615476477592,\n",
       " 'changes': 7.148468295917647,\n",
       " 'changing': 7.436150368369428,\n",
       " 'channel': 7.841615476477592,\n",
       " 'chapman': 7.841615476477592,\n",
       " 'chapped': 7.841615476477592,\n",
       " 'characterizes': 7.841615476477592,\n",
       " 'charge': 7.148468295917647,\n",
       " 'charged': 7.841615476477592,\n",
       " 'charger': 7.436150368369428,\n",
       " 'charges': 7.841615476477592,\n",
       " 'charging': 7.841615476477592,\n",
       " 'charm': 7.841615476477592,\n",
       " 'chart': 7.841615476477592,\n",
       " 'cheap': 5.969813299576001,\n",
       " 'cheapening': 7.841615476477592,\n",
       " 'cheaper': 5.969813299576001,\n",
       " 'cheapest': 7.436150368369428,\n",
       " 'check': 6.049856007249537,\n",
       " 'checked': 7.436150368369428,\n",
       " 'checkup': 7.841615476477592,\n",
       " 'cheeks': 7.841615476477592,\n",
       " 'cheer': 6.7430031878094825,\n",
       " 'cheeriest': 7.841615476477592,\n",
       " 'cheese': 7.841615476477592,\n",
       " 'cheesecloth': 7.841615476477592,\n",
       " 'cheesy': 7.841615476477592,\n",
       " 'chemical': 6.049856007249537,\n",
       " 'chemically': 7.841615476477592,\n",
       " 'chemicals': 6.455321115357702,\n",
       " 'cherry': 7.841615476477592,\n",
       " 'chest': 7.841615476477592,\n",
       " 'chic': 7.841615476477592,\n",
       " 'chicken': 7.436150368369428,\n",
       " 'child': 7.841615476477592,\n",
       " 'children': 6.9253247446034365,\n",
       " 'chilitis': 7.841615476477592,\n",
       " 'chip': 6.455321115357702,\n",
       " 'chipped': 7.841615476477592,\n",
       " 'chipping': 6.588852507982224,\n",
       " 'chips': 7.436150368369428,\n",
       " 'chirstmas': 7.841615476477592,\n",
       " 'chloride': 7.436150368369428,\n",
       " 'chlorine': 7.841615476477592,\n",
       " 'chlorophyll': 7.841615476477592,\n",
       " 'chlorophyllin': 7.841615476477592,\n",
       " 'chocolate': 7.841615476477592,\n",
       " 'choice': 5.826712455935327,\n",
       " 'choices': 7.841615476477592,\n",
       " 'choose': 6.049856007249537,\n",
       " 'choosing': 7.841615476477592,\n",
       " 'chopped': 7.841615476477592,\n",
       " 'chores': 7.841615476477592,\n",
       " 'christmas': 5.895705327422279,\n",
       " 'chroma': 7.841615476477592,\n",
       " 'chrome': 7.841615476477592,\n",
       " 'chronic': 7.841615476477592,\n",
       " 'chuck': 7.841615476477592,\n",
       " 'chunks': 7.841615476477592,\n",
       " 'chunky': 7.841615476477592,\n",
       " 'ci': 7.841615476477592,\n",
       " 'cigarette': 7.841615476477592,\n",
       " 'cigarettes': 7.841615476477592,\n",
       " 'cinch': 7.841615476477592,\n",
       " 'cinnamal': 7.841615476477592,\n",
       " 'cinnamomum': 7.841615476477592,\n",
       " 'cinnamon': 7.841615476477592,\n",
       " 'circa': 7.436150368369428,\n",
       " 'circle': 7.841615476477592,\n",
       " 'circles': 6.7430031878094825,\n",
       " 'circuit': 7.436150368369428,\n",
       " 'circulating': 7.841615476477592,\n",
       " 'circulation': 7.841615476477592,\n",
       " 'citral': 7.841615476477592,\n",
       " 'citron': 6.7430031878094825,\n",
       " 'citrus': 5.276666119016055,\n",
       " 'citrusy': 6.455321115357702,\n",
       " 'city': 7.841615476477592,\n",
       " 'cl': 7.841615476477592,\n",
       " 'claim': 6.9253247446034365,\n",
       " 'claimed': 7.841615476477592,\n",
       " 'claims': 6.136867384239167,\n",
       " 'clamps': 7.436150368369428,\n",
       " 'clarifying': 7.841615476477592,\n",
       " 'clarins': 7.841615476477592,\n",
       " 'clarisonic': 7.436150368369428,\n",
       " 'clarity': 7.436150368369428,\n",
       " 'clash': 7.436150368369428,\n",
       " 'class': 6.232177564043492,\n",
       " 'classes': 6.455321115357702,\n",
       " 'classic': 6.136867384239167,\n",
       " 'classify': 7.841615476477592,\n",
       " 'classy': 7.148468295917647,\n",
       " 'claw': 7.841615476477592,\n",
       " 'clay': 7.841615476477592,\n",
       " 'clean': 3.6221077713014855,\n",
       " 'cleaned': 6.337538079701318,\n",
       " 'cleaner': 6.136867384239167,\n",
       " 'cleaners': 7.436150368369428,\n",
       " 'cleaning': 5.133565275375382,\n",
       " 'cleanings': 7.841615476477592,\n",
       " 'cleanly': 6.7430031878094825,\n",
       " 'cleanness': 7.841615476477592,\n",
       " 'cleans': 5.238925791033208,\n",
       " 'cleanse': 6.9253247446034365,\n",
       " 'cleanser': 6.337538079701318,\n",
       " 'cleanses': 7.436150368369428,\n",
       " 'cleansing': 6.232177564043492,\n",
       " 'clear': 6.136867384239167,\n",
       " 'cleared': 7.436150368369428,\n",
       " 'clearer': 7.436150368369428,\n",
       " 'clearing': 7.841615476477592,\n",
       " 'clearly': 6.7430031878094825,\n",
       " 'clears': 7.436150368369428,\n",
       " 'cleopatra': 7.841615476477592,\n",
       " 'client': 7.841615476477592,\n",
       " 'clients': 7.841615476477592,\n",
       " 'climate': 7.841615476477592,\n",
       " 'climates': 7.841615476477592,\n",
       " 'clings': 7.841615476477592,\n",
       " 'clinique': 7.841615476477592,\n",
       " 'clip': 7.841615476477592,\n",
       " 'clippers': 7.436150368369428,\n",
       " 'clips': 7.436150368369428,\n",
       " 'clock': 7.436150368369428,\n",
       " 'clockwise': 7.148468295917647,\n",
       " 'clodbuster': 7.841615476477592,\n",
       " 'clods': 7.841615476477592,\n",
       " 'clog': 7.841615476477592,\n",
       " 'clogged': 7.841615476477592,\n",
       " 'clorox': 7.841615476477592,\n",
       " 'close': 5.895705327422279,\n",
       " 'closed': 7.436150368369428,\n",
       " 'closely': 7.841615476477592,\n",
       " 'closer': 7.148468295917647,\n",
       " 'closes': 7.841615476477592,\n",
       " 'closest': 7.841615476477592,\n",
       " 'closet': 7.841615476477592,\n",
       " 'closets': 7.841615476477592,\n",
       " 'closing': 7.841615476477592,\n",
       " 'closure': 7.841615476477592,\n",
       " 'cloth': 6.9253247446034365,\n",
       " 'clothes': 6.232177564043492,\n",
       " 'clothing': 6.9253247446034365,\n",
       " 'cloths': 7.841615476477592,\n",
       " 'cloud': 6.9253247446034365,\n",
       " 'clouds': 7.841615476477592,\n",
       " 'cloves': 7.841615476477592,\n",
       " 'clown': 7.841615476477592,\n",
       " 'cloying': 7.148468295917647,\n",
       " 'cloyingly': 7.841615476477592,\n",
       " 'club': 7.841615476477592,\n",
       " 'clump': 7.841615476477592,\n",
       " 'clumpy': 7.841615476477592,\n",
       " 'clumsiest': 7.841615476477592,\n",
       " 'clunkier': 7.841615476477592,\n",
       " 'clutch': 6.455321115357702,\n",
       " 'clutched': 7.841615476477592,\n",
       " 'cmit': 7.841615476477592,\n",
       " 'coach': 7.436150368369428,\n",
       " 'coarse': 6.7430031878094825,\n",
       " 'coarseness': 7.841615476477592,\n",
       " 'coat': 5.539030383483547,\n",
       " 'coating': 7.841615476477592,\n",
       " 'coats': 5.895705327422279,\n",
       " 'coco': 7.841615476477592,\n",
       " 'cocoa': 7.841615476477592,\n",
       " 'coconut': 5.969813299576001,\n",
       " 'coenzyme': 7.436150368369428,\n",
       " 'coffee': 6.9253247446034365,\n",
       " 'coil': 7.841615476477592,\n",
       " 'coiled': 7.841615476477592,\n",
       " 'coils': 7.841615476477592,\n",
       " 'cold': 6.232177564043492,\n",
       " 'colgate': 6.337538079701318,\n",
       " 'collagen': 7.841615476477592,\n",
       " 'collapses': 7.841615476477592,\n",
       " 'collection': 6.337538079701318,\n",
       " 'college': 7.841615476477592,\n",
       " 'cologne': 5.895705327422279,\n",
       " 'colognes': 7.841615476477592,\n",
       " 'coloniali': 7.841615476477592,\n",
       " 'color': 4.2720827799962215,\n",
       " 'colored': 6.232177564043492,\n",
       " 'colorful': 7.841615476477592,\n",
       " 'coloring': 7.148468295917647,\n",
       " 'colors': 5.276666119016055,\n",
       " 'colour': 7.148468295917647,\n",
       " 'com': 7.148468295917647,\n",
       " 'comany': 7.841615476477592,\n",
       " 'comb': 6.7430031878094825,\n",
       " 'combe': 7.841615476477592,\n",
       " 'combed': 7.841615476477592,\n",
       " 'combination': 6.136867384239167,\n",
       " 'combine': 7.841615476477592,\n",
       " 'combined': 7.841615476477592,\n",
       " 'combines': 7.436150368369428,\n",
       " 'combing': 7.436150368369428,\n",
       " 'combining': 7.436150368369428,\n",
       " 'combo': 7.841615476477592,\n",
       " 'come': 4.821190590333229,\n",
       " 'coments': 7.841615476477592,\n",
       " 'comes': 4.750573023119276,\n",
       " 'comfort': 5.895705327422279,\n",
       " 'comfortable': 3.636922857086626,\n",
       " 'comfortably': 6.337538079701318,\n",
       " 'comforters': 7.841615476477592,\n",
       " 'comforting': 7.436150368369428,\n",
       " 'comfy': 5.276666119016055,\n",
       " 'coming': 6.049856007249537,\n",
       " 'comment': 7.148468295917647,\n",
       " 'commented': 7.841615476477592,\n",
       " 'commenting': 7.841615476477592,\n",
       " 'comments': 7.841615476477592,\n",
       " 'commercially': 7.841615476477592,\n",
       " 'commercials': 7.841615476477592,\n",
       " 'commission': 7.841615476477592,\n",
       " 'common': 6.337538079701318,\n",
       " 'compact': 6.7430031878094825,\n",
       " 'companies': 7.148468295917647,\n",
       " 'companion': 7.841615476477592,\n",
       " 'company': 5.356708826689592,\n",
       " 'comparable': 7.841615476477592,\n",
       " ...}"
      ]
     },
     "execution_count": 95,
     "metadata": {},
     "output_type": "execute_result"
    }
   ],
   "source": [
    "dictionary"
   ]
  },
  {
   "cell_type": "markdown",
   "metadata": {},
   "source": [
    "__Feature names (words)__"
   ]
  },
  {
   "cell_type": "code",
   "execution_count": 96,
   "metadata": {
    "id": "Tyxhz3XQCAap",
    "outputId": "e72f3ca0-7d29-4657-a107-c5d678514cf3",
    "scrolled": true
   },
   "outputs": [
    {
     "data": {
      "text/plain": [
       "['aaa', 'abating', 'abbey', 'abd', 'ability']"
      ]
     },
     "execution_count": 96,
     "metadata": {},
     "output_type": "execute_result"
    }
   ],
   "source": [
    "# TF-IDF weighted Word2Vec\n",
    "tfidf_feat = model.get_feature_names() # tfidf words/col-names\n",
    "# final_tf_idf is the sparse matrix with row= sentence, col=word and cell_val = tfidf\n",
    "tfidf_feat[:5]"
   ]
  },
  {
   "cell_type": "code",
   "execution_count": 97,
   "metadata": {
    "id": "Tyxhz3XQCAap",
    "outputId": "e72f3ca0-7d29-4657-a107-c5d678514cf3",
    "scrolled": true
   },
   "outputs": [
    {
     "name": "stderr",
     "output_type": "stream",
     "text": [
      "100%|██████████████████████████████████████████████████████████████████████████████████████████████████████████████████| 1871/1871 [00:10<00:00, 184.45it/s]\n"
     ]
    }
   ],
   "source": [
    "tfidf_sent_vectors = []; # Init the tfidf-w2v for each review\n",
    "\n",
    "row=0\n",
    "\n",
    "for sent in tqdm(list_of_sent): # for each review\n",
    "    sent_vec = np.zeros(50) # Init\n",
    "    weight_sum = 0; # num words with a valid vector in the review\n",
    "    for word in sent: # for each word in a review\n",
    "        if word in w2v_words and word in tfidf_feat:\n",
    "            vec = w2v_model.wv[word]\n",
    "            tf_idf = dictionary[word]*(sent.count(word)/len(sent))  # IDF * TF\n",
    "            sent_vec += (vec * tf_idf)\n",
    "            weight_sum += tf_idf\n",
    "    if weight_sum != 0:\n",
    "        sent_vec /= weight_sum\n",
    "    tfidf_sent_vectors.append(sent_vec)\n",
    "    row += 1"
   ]
  },
  {
   "cell_type": "code",
   "execution_count": 98,
   "metadata": {},
   "outputs": [
    {
     "name": "stdout",
     "output_type": "stream",
     "text": [
      "-------------------------------------------------- \n",
      " ['pre', 'de', 'provence', 'shea', 'butter', 'enriched', 'artisanal', 'french', 'soap', 'bar', 'olive', 'oil', 'g', 'lathers', 'beautifully', 'feels', 'luxurious', 'not', 'dry', 'irritate', 'sensitive', 'skin', 'use', 'every', 'day', 'large', 'gram', 'olive', 'oil', 'bar', 'gives', 'good', 'value', 'money', 'amazon'] \n",
      " -------------------------------------------------- \n",
      " [ 0.11205342  0.02620704  0.12477715 -0.04030873 -0.15075913 -0.27677847\n",
      "  0.35880503  0.91098233 -0.54064945 -0.00121351 -0.16107802 -0.40138767\n",
      "  0.13567908  0.16984636 -0.03936124  0.18295962  0.13598344 -0.03366093\n",
      " -0.42123393 -0.35621428 -0.13628703  0.30672703  0.43610447 -0.33398503\n",
      "  0.01388249  0.25375384 -0.73880588 -0.38440896 -0.601763    0.17199494\n",
      "  0.26799466 -0.35118052 -0.34541928  0.19046375 -0.23182773  0.37575249\n",
      " -0.03118379  0.11300271  0.17038101 -0.32816907  0.3399383  -0.07405134\n",
      " -0.00575079  0.14783555  0.79174603 -0.18191224 -0.03421115 -0.48353065\n",
      "  0.30807241 -0.13502849]\n",
      "-------------------------------------------------- \n",
      " ['lavender', 'favorite', 'soap', 'fragrance', 'no', 'surprise', 'love', 'pre', 'de', 'provence', 'french', 'lavender', 'bath', 'shower', 'gel', 'shower', 'pump', 'two', 'enough', 'nice', 'lather', 'lather', 'washes', 'easily', 'lavender', 'fragrance', 'delicate', 'lingers', 'short', 'time', 'not', 'overwhelm', 'perfume', 'aftershave', 'lotion', 'shampoo', 'scented', 'products', 'may', 'like', 'use', 'clear', 'gel', 'arrives', 'attractive', 'square', 'pump', 'dispenser', 'shower', 'gel', 'leaves', 'skin', 'silky', 'smooth', 'not', 'irritate', 'sensitive', 'skin'] \n",
      " -------------------------------------------------- \n",
      " [ 0.12244406  0.03806255  0.1524967  -0.050931   -0.20567999 -0.33786622\n",
      "  0.43141602  1.10415763 -0.65005952  0.0037259  -0.17614485 -0.49730769\n",
      "  0.16899626  0.21312483 -0.04876684  0.2095729   0.14509868 -0.04086941\n",
      " -0.49612208 -0.43712978 -0.13853506  0.37298136  0.50577021 -0.39271768\n",
      "  0.02184761  0.2883251  -0.88781352 -0.45264291 -0.7149518   0.22023804\n",
      "  0.3277361  -0.42773138 -0.42686236  0.22508525 -0.27129884  0.46488484\n",
      " -0.02773945  0.1386799   0.21884854 -0.42181432  0.41478613 -0.0902603\n",
      " -0.01501418  0.16349111  0.95836806 -0.20167785 -0.07278337 -0.59467018\n",
      "  0.37539405 -0.14938123]\n",
      "-------------------------------------------------- \n",
      " ['love', 'pre', 'de', 'provence', 'soaps', 'intensely', 'curious', 'sea', 'salt', 'bar', 'would', 'smell', 'like', 'would', 'want', 'wash', 'hands', 'sea', 'salt', 'happily', 'pre', 'de', 'provence', 'sea', 'salt', 'french', 'soap', 'bar', 'ounce', 'no', 'different', 'pre', 'de', 'provence', 'soaps', 'smells', 'wonderful', 'produces', 'rich', 'thick', 'lather', 'fragrance', 'hard', 'describe', 'kind', 'floral', 'maybe', 'best', 'described', 'fresh', 'sea', 'breeze', 'makes', 'one', 'think', 'fresh', 'air', 'sunshine', 'fragrance', 'not', 'linger', 'overlong', 'soap', 'not', 'irritate', 'sensitive', 'skin', 'may', 'little', 'drying', 'pre', 'de', 'provence', 'soaps', 'unless', 'imagination', 'working', 'overtime', 'soap', 'definitely', 'contains', 'salt', 'ingredients', 'sodium', 'palmate', 'sodium', 'palm', 'kernelate', 'water', 'fragrance', 'palm', 'acid', 'titanium', 'dioxide', 'glycerin', 'palm', 'kernel', 'acid', 'sodium', 'chloride', 'shea', 'butter', 'sodium', 'hydroxide', 'tetrasodium', 'edta', 'tetrasodium', 'etidronate', 'benzyl', 'salicylate', 'linalool', 'geraniol', 'citral'] \n",
      " -------------------------------------------------- \n",
      " [ 0.1202429  -0.00192101  0.10299706 -0.04593784 -0.09915535 -0.26674281\n",
      "  0.32840308  0.8463592  -0.50351926  0.00467063 -0.1790521  -0.35310287\n",
      "  0.10430827  0.14835547 -0.04625263  0.19306439  0.14281568 -0.02537169\n",
      " -0.39526206 -0.31902424 -0.14755649  0.28578706  0.44161275 -0.31528093\n",
      "  0.01908321  0.24546359 -0.69306785 -0.36883455 -0.58938745  0.16570747\n",
      "  0.23442426 -0.33183095 -0.31488922  0.17959704 -0.22894364  0.32696383\n",
      " -0.06072611  0.08332264  0.14914426 -0.27618435  0.29020591 -0.06650071\n",
      "  0.01182278  0.1452433   0.72386299 -0.20211315  0.01519606 -0.44240046\n",
      "  0.28470044 -0.14033053]\n",
      "-------------------------------------------------- \n",
      " ['pre', 'de', 'provence', 'sandalwood', 'shea', 'butter', 'enriched', 'soap', 'gram', 'appeal', 'male', 'members', 'household', 'mild', 'woody', 'fragrance', 'pre', 'de', 'provence', 'soaps', 'fairly', 'strong', 'flowery', 'fragrances', 'large', 'bar', 'luxurious', 'french', 'soap', 'lathers', 'beautifully', 'fragrance', 'never', 'lingers', 'long', 'soap', 'gentle', 'not', 'irritate', 'sensitive', 'skin'] \n",
      " -------------------------------------------------- \n",
      " [ 0.14205803  0.00686763  0.1272227  -0.05419056 -0.12279678 -0.31395736\n",
      "  0.38817828  1.00673527 -0.60771507  0.0016723  -0.20876738 -0.42391827\n",
      "  0.12742308  0.17802082 -0.05468989  0.22965883  0.17847032 -0.02440132\n",
      " -0.47569936 -0.38029964 -0.17522086  0.34163705  0.52134701 -0.37415274\n",
      "  0.02382305  0.29137118 -0.82492442 -0.44492143 -0.69781125  0.1888864\n",
      "  0.28050214 -0.39809053 -0.37716932  0.21729272 -0.26795278  0.39271135\n",
      " -0.0603291   0.10318545  0.17957134 -0.33474376  0.34859381 -0.0825168\n",
      "  0.01445281  0.1800544   0.87019507 -0.23893786  0.00904883 -0.52611658\n",
      "  0.34260092 -0.16686457]\n"
     ]
    }
   ],
   "source": [
    "# Print output\n",
    "for i, (sent,vec) in enumerate(zip(list_of_sent, tfidf_sent_vectors)):\n",
    "    if i <= 3:\n",
    "        print(\"-\"*50,\"\\n\", sent, \"\\n\",\"-\"*50,\"\\n\", vec)"
   ]
  }
 ],
 "metadata": {
  "colab": {
   "collapsed_sections": [],
   "name": "Amazon Fine Food Reviews Analysis.ipynb",
   "provenance": []
  },
  "kernelspec": {
   "display_name": "Python 3 (ipykernel)",
   "language": "python",
   "name": "python3"
  },
  "language_info": {
   "codemirror_mode": {
    "name": "ipython",
    "version": 3
   },
   "file_extension": ".py",
   "mimetype": "text/x-python",
   "name": "python",
   "nbconvert_exporter": "python",
   "pygments_lexer": "ipython3",
   "version": "3.9.0"
  }
 },
 "nbformat": 4,
 "nbformat_minor": 4
}
